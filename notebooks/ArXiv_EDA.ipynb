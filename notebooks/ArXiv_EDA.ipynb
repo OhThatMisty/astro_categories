{
 "cells": [
  {
   "cell_type": "markdown",
   "metadata": {},
   "source": [
    "# 'Recommendation of similar articles from journal abstract analysis'  \n",
    "# Exploratory data analysis of arXiv submissions\n",
    "## 2019, Misty M. Giles\n",
    "### https://github.com/OhThatMisty/astro_categories/"
   ]
  },
  {
   "cell_type": "code",
   "execution_count": 1,
   "metadata": {},
   "outputs": [],
   "source": [
    "%matplotlib inline\n",
    "\n",
    "import matplotlib.pyplot as plt\n",
    "import numpy as np\n",
    "import os\n",
    "import pandas as pd\n",
    "import seaborn as sns\n",
    "from scipy import stats\n",
    "\n",
    "plt.style.use('fivethirtyeight')"
   ]
  },
  {
   "cell_type": "markdown",
   "metadata": {},
   "source": [
    "### Import the file and check the import\n",
    "\n",
    "For this EDA, I'm going to add some temporary columns to the df for histograms, etc.  They won't be kept outside of this notebook.\n",
    "\n",
    "The first 14 blocks will use the same data that was created in ArXiv_cleaning.ipynb, but I'll also take some information from 2015 and 2018 from the full set of ~137k abstracts to create a few additional plots at the end of this notebook to see if anything has changed in distribution.  This file was created using the same steps in ArXiv_cleaning.ipynb except for spaCy processing.\n",
    "\n",
    "##### This is the file created in the cleaning notebook specifically for EDA, but I wrote the EDA report before adding some more abstracts for processing and then ran this notebook again.  The plots/stats in this notebook will match the plots/stats in the milestones 1 report by shape, but the y-axis ticks won't match.\n"
   ]
  },
  {
   "cell_type": "code",
   "execution_count": 2,
   "metadata": {},
   "outputs": [
    {
     "data": {
      "text/plain": [
       "'..\\\\data\\\\astro_intermediate.csv'"
      ]
     },
     "execution_count": 2,
     "metadata": {},
     "output_type": "execute_result"
    }
   ],
   "source": [
    "file = os.path.join('..','data','astro_intermediate.csv')\n",
    "\n",
    "file"
   ]
  },
  {
   "cell_type": "code",
   "execution_count": 3,
   "metadata": {
    "scrolled": true
   },
   "outputs": [
    {
     "data": {
      "text/html": [
       "<div>\n",
       "<style scoped>\n",
       "    .dataframe tbody tr th:only-of-type {\n",
       "        vertical-align: middle;\n",
       "    }\n",
       "\n",
       "    .dataframe tbody tr th {\n",
       "        vertical-align: top;\n",
       "    }\n",
       "\n",
       "    .dataframe thead th {\n",
       "        text-align: right;\n",
       "    }\n",
       "</style>\n",
       "<table border=\"1\" class=\"dataframe\">\n",
       "  <thead>\n",
       "    <tr style=\"text-align: right;\">\n",
       "      <th></th>\n",
       "      <th>abstract</th>\n",
       "      <th>authors</th>\n",
       "      <th>comment</th>\n",
       "      <th>main_author</th>\n",
       "      <th>publish_date</th>\n",
       "      <th>term</th>\n",
       "      <th>terms</th>\n",
       "      <th>title</th>\n",
       "      <th>update_date</th>\n",
       "      <th>url</th>\n",
       "      <th>text</th>\n",
       "    </tr>\n",
       "  </thead>\n",
       "  <tbody>\n",
       "    <tr>\n",
       "      <th>0</th>\n",
       "      <td>We have constructed a Fourier-transform spectr...</td>\n",
       "      <td>Zhaodi Pan, Mira Liu, Ritoban Basu Thakur, Bra...</td>\n",
       "      <td>Submitted to Applied Optics. [Copyright 2019 O...</td>\n",
       "      <td>Stephan S. Meyer</td>\n",
       "      <td>2019-05-17 17:57:11+00:00</td>\n",
       "      <td>astro-ph.IM</td>\n",
       "      <td>astro-ph.IM|physics.ins-det</td>\n",
       "      <td>A Compact Millimeter-Wavelength Fourier-Transf...</td>\n",
       "      <td>2019-05-17 17:57:11+00:00</td>\n",
       "      <td>http://arxiv.org/abs/1905.07399v1</td>\n",
       "      <td>We have constructed a Fourier transform spectr...</td>\n",
       "    </tr>\n",
       "    <tr>\n",
       "      <th>1</th>\n",
       "      <td>We report possible interaction between multipl...</td>\n",
       "      <td>Kazuhito Dobashi, Tomomi Shimoikura, Nobuhiro ...</td>\n",
       "      <td>To appear in the Publications of the Astronomi...</td>\n",
       "      <td>Jean-Philippe Bernard</td>\n",
       "      <td>2019-05-17 17:48:17+00:00</td>\n",
       "      <td>astro-ph.GA</td>\n",
       "      <td>astro-ph.GA</td>\n",
       "      <td>Interaction between Northern Coal Sack in the ...</td>\n",
       "      <td>2019-05-17 17:48:17+00:00</td>\n",
       "      <td>http://arxiv.org/abs/1905.07395v1</td>\n",
       "      <td>We report possible interaction between multipl...</td>\n",
       "    </tr>\n",
       "    <tr>\n",
       "      <th>2</th>\n",
       "      <td>Young, low-mass stars in the solar neighborhoo...</td>\n",
       "      <td>Adam C. Schneider, Evgenya L. Shkolnik, Kately...</td>\n",
       "      <td>Accepted for publication in the Astronomical J...</td>\n",
       "      <td>Laura Flagg</td>\n",
       "      <td>2019-04-15 17:10:00+00:00</td>\n",
       "      <td>astro-ph.SR</td>\n",
       "      <td>astro-ph.SR</td>\n",
       "      <td>ACRONYM III: Radial Velocities for 336 Candida...</td>\n",
       "      <td>2019-05-17 17:39:58+00:00</td>\n",
       "      <td>http://arxiv.org/abs/1904.07193v2</td>\n",
       "      <td>Young low mass stars in the solar neighborhood...</td>\n",
       "    </tr>\n",
       "    <tr>\n",
       "      <th>3</th>\n",
       "      <td>We investigate the energy extraction by the Pe...</td>\n",
       "      <td>Parthapratim Pradhan</td>\n",
       "      <td>Accepted in EPJC</td>\n",
       "      <td>Parthapratim Pradhan</td>\n",
       "      <td>2018-10-08 07:24:04+00:00</td>\n",
       "      <td>gr-qc</td>\n",
       "      <td>gr-qc|astro-ph.HE|hep-th</td>\n",
       "      <td>Study of energy extraction and epicyclic frequ...</td>\n",
       "      <td>2019-05-17 17:32:07+00:00</td>\n",
       "      <td>http://arxiv.org/abs/1810.03290v2</td>\n",
       "      <td>We investigate the energy extraction by the Pe...</td>\n",
       "    </tr>\n",
       "    <tr>\n",
       "      <th>4</th>\n",
       "      <td>We investigate the effect cosmological constan...</td>\n",
       "      <td>Javad T. Firouzjaee, Alireza Allahyari</td>\n",
       "      <td>No comment found</td>\n",
       "      <td>Alireza Allahyari</td>\n",
       "      <td>2019-05-17 17:14:13+00:00</td>\n",
       "      <td>astro-ph.CO</td>\n",
       "      <td>astro-ph.CO|gr-qc</td>\n",
       "      <td>Black hole shadow with a cosmological constant...</td>\n",
       "      <td>2019-05-17 17:14:13+00:00</td>\n",
       "      <td>http://arxiv.org/abs/1905.07378v1</td>\n",
       "      <td>We investigate the effect cosmological constan...</td>\n",
       "    </tr>\n",
       "  </tbody>\n",
       "</table>\n",
       "</div>"
      ],
      "text/plain": [
       "                                            abstract  \\\n",
       "0  We have constructed a Fourier-transform spectr...   \n",
       "1  We report possible interaction between multipl...   \n",
       "2  Young, low-mass stars in the solar neighborhoo...   \n",
       "3  We investigate the energy extraction by the Pe...   \n",
       "4  We investigate the effect cosmological constan...   \n",
       "\n",
       "                                             authors  \\\n",
       "0  Zhaodi Pan, Mira Liu, Ritoban Basu Thakur, Bra...   \n",
       "1  Kazuhito Dobashi, Tomomi Shimoikura, Nobuhiro ...   \n",
       "2  Adam C. Schneider, Evgenya L. Shkolnik, Kately...   \n",
       "3                               Parthapratim Pradhan   \n",
       "4             Javad T. Firouzjaee, Alireza Allahyari   \n",
       "\n",
       "                                             comment            main_author  \\\n",
       "0  Submitted to Applied Optics. [Copyright 2019 O...       Stephan S. Meyer   \n",
       "1  To appear in the Publications of the Astronomi...  Jean-Philippe Bernard   \n",
       "2  Accepted for publication in the Astronomical J...            Laura Flagg   \n",
       "3                                   Accepted in EPJC   Parthapratim Pradhan   \n",
       "4                                   No comment found      Alireza Allahyari   \n",
       "\n",
       "                publish_date         term                        terms  \\\n",
       "0  2019-05-17 17:57:11+00:00  astro-ph.IM  astro-ph.IM|physics.ins-det   \n",
       "1  2019-05-17 17:48:17+00:00  astro-ph.GA                  astro-ph.GA   \n",
       "2  2019-04-15 17:10:00+00:00  astro-ph.SR                  astro-ph.SR   \n",
       "3  2018-10-08 07:24:04+00:00        gr-qc     gr-qc|astro-ph.HE|hep-th   \n",
       "4  2019-05-17 17:14:13+00:00  astro-ph.CO            astro-ph.CO|gr-qc   \n",
       "\n",
       "                                               title  \\\n",
       "0  A Compact Millimeter-Wavelength Fourier-Transf...   \n",
       "1  Interaction between Northern Coal Sack in the ...   \n",
       "2  ACRONYM III: Radial Velocities for 336 Candida...   \n",
       "3  Study of energy extraction and epicyclic frequ...   \n",
       "4  Black hole shadow with a cosmological constant...   \n",
       "\n",
       "                 update_date                                url  \\\n",
       "0  2019-05-17 17:57:11+00:00  http://arxiv.org/abs/1905.07399v1   \n",
       "1  2019-05-17 17:48:17+00:00  http://arxiv.org/abs/1905.07395v1   \n",
       "2  2019-05-17 17:39:58+00:00  http://arxiv.org/abs/1904.07193v2   \n",
       "3  2019-05-17 17:32:07+00:00  http://arxiv.org/abs/1810.03290v2   \n",
       "4  2019-05-17 17:14:13+00:00  http://arxiv.org/abs/1905.07378v1   \n",
       "\n",
       "                                                text  \n",
       "0  We have constructed a Fourier transform spectr...  \n",
       "1  We report possible interaction between multipl...  \n",
       "2  Young low mass stars in the solar neighborhood...  \n",
       "3  We investigate the energy extraction by the Pe...  \n",
       "4  We investigate the effect cosmological constan...  "
      ]
     },
     "execution_count": 3,
     "metadata": {},
     "output_type": "execute_result"
    }
   ],
   "source": [
    "df = pd.read_csv(file, index_col=0)\n",
    "df.head()"
   ]
  },
  {
   "cell_type": "markdown",
   "metadata": {},
   "source": [
    "### Time for some visual analysis.  First, how many categories do authors submit each article to?  \n",
    "\n",
    "I'll split the categories in the 'terms' column on the pipes and count them."
   ]
  },
  {
   "cell_type": "code",
   "execution_count": 4,
   "metadata": {},
   "outputs": [
    {
     "data": {
      "text/plain": [
       "count    59972.000000\n",
       "mean         1.657190\n",
       "std          0.876997\n",
       "min          1.000000\n",
       "25%          1.000000\n",
       "50%          1.000000\n",
       "75%          2.000000\n",
       "max          7.000000\n",
       "Name: terms_len, dtype: float64"
      ]
     },
     "execution_count": 4,
     "metadata": {},
     "output_type": "execute_result"
    }
   ],
   "source": [
    "df['terms_len'] = [len(x.split('|')) for x in df.terms]\n",
    "df.terms_len.describe()"
   ]
  },
  {
   "cell_type": "markdown",
   "metadata": {},
   "source": [
    "Max = 7?  That's a huge number of categories.  I'll glance over a few entries as a whole for any obvious errors.  Then I'll check an entry with 7 categories more closely to see if this makes sense."
   ]
  },
  {
   "cell_type": "code",
   "execution_count": 5,
   "metadata": {},
   "outputs": [
    {
     "data": {
      "text/html": [
       "<div>\n",
       "<style scoped>\n",
       "    .dataframe tbody tr th:only-of-type {\n",
       "        vertical-align: middle;\n",
       "    }\n",
       "\n",
       "    .dataframe tbody tr th {\n",
       "        vertical-align: top;\n",
       "    }\n",
       "\n",
       "    .dataframe thead th {\n",
       "        text-align: right;\n",
       "    }\n",
       "</style>\n",
       "<table border=\"1\" class=\"dataframe\">\n",
       "  <thead>\n",
       "    <tr style=\"text-align: right;\">\n",
       "      <th></th>\n",
       "      <th>abstract</th>\n",
       "      <th>authors</th>\n",
       "      <th>comment</th>\n",
       "      <th>main_author</th>\n",
       "      <th>publish_date</th>\n",
       "      <th>term</th>\n",
       "      <th>terms</th>\n",
       "      <th>title</th>\n",
       "      <th>update_date</th>\n",
       "      <th>url</th>\n",
       "      <th>text</th>\n",
       "      <th>terms_len</th>\n",
       "    </tr>\n",
       "  </thead>\n",
       "  <tbody>\n",
       "    <tr>\n",
       "      <th>4296</th>\n",
       "      <td>We present the first application of deep learn...</td>\n",
       "      <td>Hongyu Shen, E. A. Huerta, Zhizhen Zhao</td>\n",
       "      <td>8 pages, 4 figures and 4 tables</td>\n",
       "      <td>Zhizhen Zhao</td>\n",
       "      <td>2019-03-05 19:00:02+00:00</td>\n",
       "      <td>gr-qc</td>\n",
       "      <td>gr-qc|astro-ph.HE|cs.AI|cs.LG|stat.ML|68T10, 8...</td>\n",
       "      <td>Deep Learning at Scale for Gravitational Wave ...</td>\n",
       "      <td>2019-03-05 19:00:02+00:00</td>\n",
       "      <td>http://arxiv.org/abs/1903.01998v1</td>\n",
       "      <td>We present the first application of deep learn...</td>\n",
       "      <td>7</td>\n",
       "    </tr>\n",
       "    <tr>\n",
       "      <th>5412</th>\n",
       "      <td>The advent of experimental science facilities-...</td>\n",
       "      <td>E. A. Huerta, Roland Haas, Shantenu Jha, Mark ...</td>\n",
       "      <td>13 pages, 7 figures. Accepted to Computing and...</td>\n",
       "      <td>Daniel S. Katz</td>\n",
       "      <td>2018-10-06 21:13:01+00:00</td>\n",
       "      <td>cs.DC</td>\n",
       "      <td>cs.DC|astro-ph.HE|gr-qc|hep-ex|hep-ph|hep-th|9...</td>\n",
       "      <td>Supporting High-Performance and High-Throughpu...</td>\n",
       "      <td>2019-02-08 21:03:43+00:00</td>\n",
       "      <td>http://arxiv.org/abs/1810.03056v2</td>\n",
       "      <td>The advent of experimental science facilities ...</td>\n",
       "      <td>7</td>\n",
       "    </tr>\n",
       "    <tr>\n",
       "      <th>58479</th>\n",
       "      <td>We build the first analytic empirical potentia...</td>\n",
       "      <td>Nikesh S. Dattani, Robert J. Le Roy</td>\n",
       "      <td>Feedback encouraged. 16 pages, 3 figures</td>\n",
       "      <td>Robert J. Le Roy</td>\n",
       "      <td>2015-08-28 12:44:45+00:00</td>\n",
       "      <td>physics.chem-ph</td>\n",
       "      <td>physics.chem-ph|astro-ph.SR|physics.atom-ph|ph...</td>\n",
       "      <td>State of the art for ab initio vs empirical po...</td>\n",
       "      <td>2015-08-28 12:44:45+00:00</td>\n",
       "      <td>http://arxiv.org/abs/1508.07184v1</td>\n",
       "      <td>We build the first analytic empirical potentia...</td>\n",
       "      <td>7</td>\n",
       "    </tr>\n",
       "    <tr>\n",
       "      <th>4261</th>\n",
       "      <td>Denoising of time domain data is a crucial tas...</td>\n",
       "      <td>Hongyu Shen, Daniel George, E. A. Huerta, Zhiz...</td>\n",
       "      <td>5 pages, 11 figures and 3 tables, accepted to ...</td>\n",
       "      <td>Zhizhen Zhao</td>\n",
       "      <td>2019-03-06 19:00:02+00:00</td>\n",
       "      <td>astro-ph.CO</td>\n",
       "      <td>astro-ph.CO|astro-ph.IM|cs.LG|eess.SP|gr-qc|97...</td>\n",
       "      <td>Denoising Gravitational Waves with Enhanced De...</td>\n",
       "      <td>2019-03-06 19:00:02+00:00</td>\n",
       "      <td>http://arxiv.org/abs/1903.03105v1</td>\n",
       "      <td>Denoising of time domain data is a crucial tas...</td>\n",
       "      <td>7</td>\n",
       "    </tr>\n",
       "    <tr>\n",
       "      <th>40246</th>\n",
       "      <td>Celeste is a procedure for inferring astronomi...</td>\n",
       "      <td>Jeffrey Regier, Kiran Pamnany, Ryan Giordano, ...</td>\n",
       "      <td>submitting to IPDPS'17</td>\n",
       "      <td>Prabhat</td>\n",
       "      <td>2016-11-10 17:16:04+00:00</td>\n",
       "      <td>cs.DC</td>\n",
       "      <td>cs.DC|astro-ph.IM|cs.LG|stat.AP|stat.ML|85A35 ...</td>\n",
       "      <td>Learning an Astronomical Catalog of the Visibl...</td>\n",
       "      <td>2016-11-10 17:16:04+00:00</td>\n",
       "      <td>http://arxiv.org/abs/1611.03404v1</td>\n",
       "      <td>Celeste is a procedure for inferring astronomi...</td>\n",
       "      <td>7</td>\n",
       "    </tr>\n",
       "  </tbody>\n",
       "</table>\n",
       "</div>"
      ],
      "text/plain": [
       "                                                abstract  \\\n",
       "4296   We present the first application of deep learn...   \n",
       "5412   The advent of experimental science facilities-...   \n",
       "58479  We build the first analytic empirical potentia...   \n",
       "4261   Denoising of time domain data is a crucial tas...   \n",
       "40246  Celeste is a procedure for inferring astronomi...   \n",
       "\n",
       "                                                 authors  \\\n",
       "4296             Hongyu Shen, E. A. Huerta, Zhizhen Zhao   \n",
       "5412   E. A. Huerta, Roland Haas, Shantenu Jha, Mark ...   \n",
       "58479                Nikesh S. Dattani, Robert J. Le Roy   \n",
       "4261   Hongyu Shen, Daniel George, E. A. Huerta, Zhiz...   \n",
       "40246  Jeffrey Regier, Kiran Pamnany, Ryan Giordano, ...   \n",
       "\n",
       "                                                 comment       main_author  \\\n",
       "4296                     8 pages, 4 figures and 4 tables      Zhizhen Zhao   \n",
       "5412   13 pages, 7 figures. Accepted to Computing and...    Daniel S. Katz   \n",
       "58479           Feedback encouraged. 16 pages, 3 figures  Robert J. Le Roy   \n",
       "4261   5 pages, 11 figures and 3 tables, accepted to ...      Zhizhen Zhao   \n",
       "40246                             submitting to IPDPS'17           Prabhat   \n",
       "\n",
       "                    publish_date             term  \\\n",
       "4296   2019-03-05 19:00:02+00:00            gr-qc   \n",
       "5412   2018-10-06 21:13:01+00:00            cs.DC   \n",
       "58479  2015-08-28 12:44:45+00:00  physics.chem-ph   \n",
       "4261   2019-03-06 19:00:02+00:00      astro-ph.CO   \n",
       "40246  2016-11-10 17:16:04+00:00            cs.DC   \n",
       "\n",
       "                                                   terms  \\\n",
       "4296   gr-qc|astro-ph.HE|cs.AI|cs.LG|stat.ML|68T10, 8...   \n",
       "5412   cs.DC|astro-ph.HE|gr-qc|hep-ex|hep-ph|hep-th|9...   \n",
       "58479  physics.chem-ph|astro-ph.SR|physics.atom-ph|ph...   \n",
       "4261   astro-ph.CO|astro-ph.IM|cs.LG|eess.SP|gr-qc|97...   \n",
       "40246  cs.DC|astro-ph.IM|cs.LG|stat.AP|stat.ML|85A35 ...   \n",
       "\n",
       "                                                   title  \\\n",
       "4296   Deep Learning at Scale for Gravitational Wave ...   \n",
       "5412   Supporting High-Performance and High-Throughpu...   \n",
       "58479  State of the art for ab initio vs empirical po...   \n",
       "4261   Denoising Gravitational Waves with Enhanced De...   \n",
       "40246  Learning an Astronomical Catalog of the Visibl...   \n",
       "\n",
       "                     update_date                                url  \\\n",
       "4296   2019-03-05 19:00:02+00:00  http://arxiv.org/abs/1903.01998v1   \n",
       "5412   2019-02-08 21:03:43+00:00  http://arxiv.org/abs/1810.03056v2   \n",
       "58479  2015-08-28 12:44:45+00:00  http://arxiv.org/abs/1508.07184v1   \n",
       "4261   2019-03-06 19:00:02+00:00  http://arxiv.org/abs/1903.03105v1   \n",
       "40246  2016-11-10 17:16:04+00:00  http://arxiv.org/abs/1611.03404v1   \n",
       "\n",
       "                                                    text  terms_len  \n",
       "4296   We present the first application of deep learn...          7  \n",
       "5412   The advent of experimental science facilities ...          7  \n",
       "58479  We build the first analytic empirical potentia...          7  \n",
       "4261   Denoising of time domain data is a crucial tas...          7  \n",
       "40246  Celeste is a procedure for inferring astronomi...          7  "
      ]
     },
     "execution_count": 5,
     "metadata": {},
     "output_type": "execute_result"
    }
   ],
   "source": [
    "df.sort_values('terms_len', ascending=False)[:5]"
   ]
  },
  {
   "cell_type": "code",
   "execution_count": 6,
   "metadata": {},
   "outputs": [
    {
     "data": {
      "text/plain": [
       "'physics.hist-ph|astro-ph.EP|astro-ph.GA|astro-ph.HE|astro-ph.SR|nucl-ex|nucl-th'"
      ]
     },
     "execution_count": 6,
     "metadata": {},
     "output_type": "execute_result"
    }
   ],
   "source": [
    "df.terms[12704]"
   ]
  },
  {
   "cell_type": "code",
   "execution_count": 7,
   "metadata": {},
   "outputs": [
    {
     "data": {
      "text/plain": [
       "'Women Scientists Who Made Nuclear Astrophysics'"
      ]
     },
     "execution_count": 7,
     "metadata": {},
     "output_type": "execute_result"
    }
   ],
   "source": [
    "df.title[12704]"
   ]
  },
  {
   "cell_type": "code",
   "execution_count": 8,
   "metadata": {},
   "outputs": [
    {
     "data": {
      "text/plain": [
       "\"Female role models reduce the impact on women of stereotype threat, i.e., of being at risk of conforming to a negative stereotype about one's social, gender, or racial group. This can lead women scientists to underperform or to leave their scientific career because of negative stereotypes such as, not being as talented or as interested in science as men. Sadly, history rarely provides role models for women scientists; instead, it often renders these women invisible. In response to this situation, we present a selection of twelve outstanding women who helped to develop nuclear astrophysics.\""
      ]
     },
     "execution_count": 8,
     "metadata": {},
     "output_type": "execute_result"
    }
   ],
   "source": [
    "df.abstract[12704]"
   ]
  },
  {
   "cell_type": "markdown",
   "metadata": {},
   "source": [
    "Well, it makes sense for this article.  You can also see some weird five-digit codes like 97R40 or 68T10.  These are \"Mathematical Subject Classifications,\" and authors can classify their papers with them as well as the subject codes.  Either way, it isn't a problem with the notebook code, so we're good to go.  \n",
    "\n",
    "Next, how does this distribution look?  We already know from the .describe() above that more than half of the papers are only submitted to one category and three-quarters are submitted to two or fewer, with a mean of about 1.6 categories."
   ]
  },
  {
   "cell_type": "code",
   "execution_count": 9,
   "metadata": {},
   "outputs": [
    {
     "data": {
      "image/png": "[encoded data removed]",
      "text/plain": [
       "<Figure size 864x576 with 1 Axes>"
      ]
     },
     "metadata": {
      "needs_background": "light"
     },
     "output_type": "display_data"
    }
   ],
   "source": [
    "_ = plt.figure(figsize=(12,8))\n",
    "_ = df.terms_len.plot(kind='hist', bins=7)\n",
    "_ = plt.xlabel('Number of arXiv categories')\n",
    "_ = plt.title('Number categories to which each article in sample was submitted')"
   ]
  },
  {
   "cell_type": "markdown",
   "metadata": {},
   "source": [
    "One more category question: Which are the most popular categories?  How are submissions distributed?"
   ]
  },
  {
   "cell_type": "code",
   "execution_count": 10,
   "metadata": {},
   "outputs": [
    {
     "data": {
      "text/html": [
       "<div>\n",
       "<style scoped>\n",
       "    .dataframe tbody tr th:only-of-type {\n",
       "        vertical-align: middle;\n",
       "    }\n",
       "\n",
       "    .dataframe tbody tr th {\n",
       "        vertical-align: top;\n",
       "    }\n",
       "\n",
       "    .dataframe thead th {\n",
       "        text-align: right;\n",
       "    }\n",
       "</style>\n",
       "<table border=\"1\" class=\"dataframe\">\n",
       "  <thead>\n",
       "    <tr style=\"text-align: right;\">\n",
       "      <th></th>\n",
       "      <th>astro-ph category</th>\n",
       "      <th>article count</th>\n",
       "    </tr>\n",
       "  </thead>\n",
       "  <tbody>\n",
       "    <tr>\n",
       "      <th>0</th>\n",
       "      <td>cosmology</td>\n",
       "      <td>13900</td>\n",
       "    </tr>\n",
       "    <tr>\n",
       "      <th>1</th>\n",
       "      <td>galaxies</td>\n",
       "      <td>18423</td>\n",
       "    </tr>\n",
       "    <tr>\n",
       "      <th>2</th>\n",
       "      <td>high_energy</td>\n",
       "      <td>14627</td>\n",
       "    </tr>\n",
       "    <tr>\n",
       "      <th>3</th>\n",
       "      <td>instrument</td>\n",
       "      <td>7064</td>\n",
       "    </tr>\n",
       "    <tr>\n",
       "      <th>4</th>\n",
       "      <td>planetary</td>\n",
       "      <td>7379</td>\n",
       "    </tr>\n",
       "    <tr>\n",
       "      <th>5</th>\n",
       "      <td>solar</td>\n",
       "      <td>14937</td>\n",
       "    </tr>\n",
       "  </tbody>\n",
       "</table>\n",
       "</div>"
      ],
      "text/plain": [
       "  astro-ph category  article count\n",
       "0         cosmology          13900\n",
       "1          galaxies          18423\n",
       "2       high_energy          14627\n",
       "3        instrument           7064\n",
       "4         planetary           7379\n",
       "5             solar          14937"
      ]
     },
     "execution_count": 10,
     "metadata": {},
     "output_type": "execute_result"
    }
   ],
   "source": [
    "cat_counts = pd.DataFrame.from_records([{\n",
    "    'cosmology' : len(df.terms.loc[df.terms.str.contains('astro-ph.CO')]),\n",
    "    'planetary' : len(df.terms.loc[df.terms.str.contains('astro-ph.EP')]),\n",
    "    'galaxies' : len(df.terms.loc[df.terms.str.contains('astro-ph.GA')]),\n",
    "    'high_energy' : len(df.terms.loc[df.terms.str.contains('astro-ph.HE')]),\n",
    "    'instrument' : len(df.terms.loc[df.terms.str.contains('astro-ph.IM')]),\n",
    "    'solar' : len(df.terms.loc[df.terms.str.contains('astro-ph.SR')])\n",
    "}]).T.reset_index()\n",
    "\n",
    "cat_counts.columns=['astro-ph category','article count']\n",
    "\n",
    "cat_counts"
   ]
  },
  {
   "cell_type": "code",
   "execution_count": 11,
   "metadata": {},
   "outputs": [
    {
     "data": {
      "image/png": "[encoded data removed]",
      "text/plain": [
       "<Figure size 864x576 with 1 Axes>"
      ]
     },
     "metadata": {
      "needs_background": "light"
     },
     "output_type": "display_data"
    }
   ],
   "source": [
    "#cat_counts = cat_counts.sort_values(by='article count', ascending=False)\n",
    "\n",
    "_ = plt.figure(figsize=(12,8))\n",
    "_ = sns.barplot(x='astro-ph category', y='article count', hue='astro-ph category', data=cat_counts, dodge=False)\n",
    "_ = plt.xlabel('arXiv astro-ph category')\n",
    "_ = plt.ylabel('Article count')\n",
    "_ = plt.title('Relative popularity of astro-ph categories in sample')"
   ]
  },
  {
   "cell_type": "markdown",
   "metadata": {},
   "source": [
    "### Now on to the abstract lengths.  How many sentences are in abstracts?"
   ]
  },
  {
   "cell_type": "code",
   "execution_count": 12,
   "metadata": {
    "scrolled": true
   },
   "outputs": [
    {
     "data": {
      "text/plain": [
       "count    59972.000000\n",
       "mean         7.729624\n",
       "std          2.823887\n",
       "min          1.000000\n",
       "25%          6.000000\n",
       "50%          8.000000\n",
       "75%         10.000000\n",
       "max         31.000000\n",
       "Name: sentences, dtype: float64"
      ]
     },
     "execution_count": 12,
     "metadata": {},
     "output_type": "execute_result"
    }
   ],
   "source": [
    "df['sentences'] = [(entry.count('. ') + 1) for entry in df.abstract]\n",
    "df.sentences.describe()"
   ]
  },
  {
   "cell_type": "code",
   "execution_count": 13,
   "metadata": {},
   "outputs": [
    {
     "data": {
      "image/png": "[encoded data removed]",
      "text/plain": [
       "<Figure size 864x576 with 1 Axes>"
      ]
     },
     "metadata": {
      "needs_background": "light"
     },
     "output_type": "display_data"
    }
   ],
   "source": [
    "bins = np.arange(0, df.sentences.max())\n",
    "_ = plt.figure(figsize=(12,8))\n",
    "_ = df.sentences.plot(kind='hist', bins=bins)\n",
    "_ = plt.xlabel('Number of sentences')\n",
    "_ = plt.ylabel('Article counts')\n",
    "_ = plt.title('Sentences per abstract in sample')"
   ]
  },
  {
   "cell_type": "markdown",
   "metadata": {},
   "source": [
    "### And now, the statistics on the entire sample:"
   ]
  },
  {
   "cell_type": "code",
   "execution_count": 14,
   "metadata": {},
   "outputs": [
    {
     "data": {
      "text/html": [
       "<div>\n",
       "<style scoped>\n",
       "    .dataframe tbody tr th:only-of-type {\n",
       "        vertical-align: middle;\n",
       "    }\n",
       "\n",
       "    .dataframe tbody tr th {\n",
       "        vertical-align: top;\n",
       "    }\n",
       "\n",
       "    .dataframe thead th {\n",
       "        text-align: right;\n",
       "    }\n",
       "</style>\n",
       "<table border=\"1\" class=\"dataframe\">\n",
       "  <thead>\n",
       "    <tr style=\"text-align: right;\">\n",
       "      <th></th>\n",
       "      <th>abstract</th>\n",
       "      <th>authors</th>\n",
       "      <th>comment</th>\n",
       "      <th>main_author</th>\n",
       "      <th>publish_date</th>\n",
       "      <th>term</th>\n",
       "      <th>terms</th>\n",
       "      <th>title</th>\n",
       "      <th>update_date</th>\n",
       "      <th>url</th>\n",
       "      <th>text</th>\n",
       "      <th>terms_len</th>\n",
       "      <th>sentences</th>\n",
       "    </tr>\n",
       "  </thead>\n",
       "  <tbody>\n",
       "    <tr>\n",
       "      <th>count</th>\n",
       "      <td>59972</td>\n",
       "      <td>59972</td>\n",
       "      <td>59972</td>\n",
       "      <td>59972</td>\n",
       "      <td>59972</td>\n",
       "      <td>59972</td>\n",
       "      <td>59972</td>\n",
       "      <td>59972</td>\n",
       "      <td>59972</td>\n",
       "      <td>59972</td>\n",
       "      <td>59972</td>\n",
       "      <td>59972.000000</td>\n",
       "      <td>59972.000000</td>\n",
       "    </tr>\n",
       "    <tr>\n",
       "      <th>unique</th>\n",
       "      <td>59972</td>\n",
       "      <td>54544</td>\n",
       "      <td>43890</td>\n",
       "      <td>29509</td>\n",
       "      <td>57409</td>\n",
       "      <td>85</td>\n",
       "      <td>2497</td>\n",
       "      <td>59923</td>\n",
       "      <td>58875</td>\n",
       "      <td>59972</td>\n",
       "      <td>59970</td>\n",
       "      <td>NaN</td>\n",
       "      <td>NaN</td>\n",
       "    </tr>\n",
       "    <tr>\n",
       "      <th>top</th>\n",
       "      <td>Over two decades of exoplanetology have yielde...</td>\n",
       "      <td>Shahar Hod</td>\n",
       "      <td>No comment found</td>\n",
       "      <td>Abraham Loeb</td>\n",
       "      <td>2017-12-11 19:00:13+00:00</td>\n",
       "      <td>astro-ph.GA</td>\n",
       "      <td>astro-ph.GA</td>\n",
       "      <td>Highlights from the VERITAS AGN Observation Pr...</td>\n",
       "      <td>2019-01-22 19:00:00+00:00</td>\n",
       "      <td>http://arxiv.org/abs/1510.05539v2</td>\n",
       "      <td>ESPRESSO is an extremely stable high resolutio...</td>\n",
       "      <td>NaN</td>\n",
       "      <td>NaN</td>\n",
       "    </tr>\n",
       "    <tr>\n",
       "      <th>freq</th>\n",
       "      <td>1</td>\n",
       "      <td>49</td>\n",
       "      <td>3665</td>\n",
       "      <td>124</td>\n",
       "      <td>8</td>\n",
       "      <td>13887</td>\n",
       "      <td>9549</td>\n",
       "      <td>3</td>\n",
       "      <td>6</td>\n",
       "      <td>1</td>\n",
       "      <td>2</td>\n",
       "      <td>NaN</td>\n",
       "      <td>NaN</td>\n",
       "    </tr>\n",
       "    <tr>\n",
       "      <th>mean</th>\n",
       "      <td>NaN</td>\n",
       "      <td>NaN</td>\n",
       "      <td>NaN</td>\n",
       "      <td>NaN</td>\n",
       "      <td>NaN</td>\n",
       "      <td>NaN</td>\n",
       "      <td>NaN</td>\n",
       "      <td>NaN</td>\n",
       "      <td>NaN</td>\n",
       "      <td>NaN</td>\n",
       "      <td>NaN</td>\n",
       "      <td>1.657190</td>\n",
       "      <td>7.729624</td>\n",
       "    </tr>\n",
       "    <tr>\n",
       "      <th>std</th>\n",
       "      <td>NaN</td>\n",
       "      <td>NaN</td>\n",
       "      <td>NaN</td>\n",
       "      <td>NaN</td>\n",
       "      <td>NaN</td>\n",
       "      <td>NaN</td>\n",
       "      <td>NaN</td>\n",
       "      <td>NaN</td>\n",
       "      <td>NaN</td>\n",
       "      <td>NaN</td>\n",
       "      <td>NaN</td>\n",
       "      <td>0.876997</td>\n",
       "      <td>2.823887</td>\n",
       "    </tr>\n",
       "    <tr>\n",
       "      <th>min</th>\n",
       "      <td>NaN</td>\n",
       "      <td>NaN</td>\n",
       "      <td>NaN</td>\n",
       "      <td>NaN</td>\n",
       "      <td>NaN</td>\n",
       "      <td>NaN</td>\n",
       "      <td>NaN</td>\n",
       "      <td>NaN</td>\n",
       "      <td>NaN</td>\n",
       "      <td>NaN</td>\n",
       "      <td>NaN</td>\n",
       "      <td>1.000000</td>\n",
       "      <td>1.000000</td>\n",
       "    </tr>\n",
       "    <tr>\n",
       "      <th>25%</th>\n",
       "      <td>NaN</td>\n",
       "      <td>NaN</td>\n",
       "      <td>NaN</td>\n",
       "      <td>NaN</td>\n",
       "      <td>NaN</td>\n",
       "      <td>NaN</td>\n",
       "      <td>NaN</td>\n",
       "      <td>NaN</td>\n",
       "      <td>NaN</td>\n",
       "      <td>NaN</td>\n",
       "      <td>NaN</td>\n",
       "      <td>1.000000</td>\n",
       "      <td>6.000000</td>\n",
       "    </tr>\n",
       "    <tr>\n",
       "      <th>50%</th>\n",
       "      <td>NaN</td>\n",
       "      <td>NaN</td>\n",
       "      <td>NaN</td>\n",
       "      <td>NaN</td>\n",
       "      <td>NaN</td>\n",
       "      <td>NaN</td>\n",
       "      <td>NaN</td>\n",
       "      <td>NaN</td>\n",
       "      <td>NaN</td>\n",
       "      <td>NaN</td>\n",
       "      <td>NaN</td>\n",
       "      <td>1.000000</td>\n",
       "      <td>8.000000</td>\n",
       "    </tr>\n",
       "    <tr>\n",
       "      <th>75%</th>\n",
       "      <td>NaN</td>\n",
       "      <td>NaN</td>\n",
       "      <td>NaN</td>\n",
       "      <td>NaN</td>\n",
       "      <td>NaN</td>\n",
       "      <td>NaN</td>\n",
       "      <td>NaN</td>\n",
       "      <td>NaN</td>\n",
       "      <td>NaN</td>\n",
       "      <td>NaN</td>\n",
       "      <td>NaN</td>\n",
       "      <td>2.000000</td>\n",
       "      <td>10.000000</td>\n",
       "    </tr>\n",
       "    <tr>\n",
       "      <th>max</th>\n",
       "      <td>NaN</td>\n",
       "      <td>NaN</td>\n",
       "      <td>NaN</td>\n",
       "      <td>NaN</td>\n",
       "      <td>NaN</td>\n",
       "      <td>NaN</td>\n",
       "      <td>NaN</td>\n",
       "      <td>NaN</td>\n",
       "      <td>NaN</td>\n",
       "      <td>NaN</td>\n",
       "      <td>NaN</td>\n",
       "      <td>7.000000</td>\n",
       "      <td>31.000000</td>\n",
       "    </tr>\n",
       "  </tbody>\n",
       "</table>\n",
       "</div>"
      ],
      "text/plain": [
       "                                                 abstract     authors  \\\n",
       "count                                               59972       59972   \n",
       "unique                                              59972       54544   \n",
       "top     Over two decades of exoplanetology have yielde...  Shahar Hod   \n",
       "freq                                                    1          49   \n",
       "mean                                                  NaN         NaN   \n",
       "std                                                   NaN         NaN   \n",
       "min                                                   NaN         NaN   \n",
       "25%                                                   NaN         NaN   \n",
       "50%                                                   NaN         NaN   \n",
       "75%                                                   NaN         NaN   \n",
       "max                                                   NaN         NaN   \n",
       "\n",
       "                 comment   main_author               publish_date  \\\n",
       "count              59972         59972                      59972   \n",
       "unique             43890         29509                      57409   \n",
       "top     No comment found  Abraham Loeb  2017-12-11 19:00:13+00:00   \n",
       "freq                3665           124                          8   \n",
       "mean                 NaN           NaN                        NaN   \n",
       "std                  NaN           NaN                        NaN   \n",
       "min                  NaN           NaN                        NaN   \n",
       "25%                  NaN           NaN                        NaN   \n",
       "50%                  NaN           NaN                        NaN   \n",
       "75%                  NaN           NaN                        NaN   \n",
       "max                  NaN           NaN                        NaN   \n",
       "\n",
       "               term        terms  \\\n",
       "count         59972        59972   \n",
       "unique           85         2497   \n",
       "top     astro-ph.GA  astro-ph.GA   \n",
       "freq          13887         9549   \n",
       "mean            NaN          NaN   \n",
       "std             NaN          NaN   \n",
       "min             NaN          NaN   \n",
       "25%             NaN          NaN   \n",
       "50%             NaN          NaN   \n",
       "75%             NaN          NaN   \n",
       "max             NaN          NaN   \n",
       "\n",
       "                                                    title  \\\n",
       "count                                               59972   \n",
       "unique                                              59923   \n",
       "top     Highlights from the VERITAS AGN Observation Pr...   \n",
       "freq                                                    3   \n",
       "mean                                                  NaN   \n",
       "std                                                   NaN   \n",
       "min                                                   NaN   \n",
       "25%                                                   NaN   \n",
       "50%                                                   NaN   \n",
       "75%                                                   NaN   \n",
       "max                                                   NaN   \n",
       "\n",
       "                      update_date                                url  \\\n",
       "count                       59972                              59972   \n",
       "unique                      58875                              59972   \n",
       "top     2019-01-22 19:00:00+00:00  http://arxiv.org/abs/1510.05539v2   \n",
       "freq                            6                                  1   \n",
       "mean                          NaN                                NaN   \n",
       "std                           NaN                                NaN   \n",
       "min                           NaN                                NaN   \n",
       "25%                           NaN                                NaN   \n",
       "50%                           NaN                                NaN   \n",
       "75%                           NaN                                NaN   \n",
       "max                           NaN                                NaN   \n",
       "\n",
       "                                                     text     terms_len  \\\n",
       "count                                               59972  59972.000000   \n",
       "unique                                              59970           NaN   \n",
       "top     ESPRESSO is an extremely stable high resolutio...           NaN   \n",
       "freq                                                    2           NaN   \n",
       "mean                                                  NaN      1.657190   \n",
       "std                                                   NaN      0.876997   \n",
       "min                                                   NaN      1.000000   \n",
       "25%                                                   NaN      1.000000   \n",
       "50%                                                   NaN      1.000000   \n",
       "75%                                                   NaN      2.000000   \n",
       "max                                                   NaN      7.000000   \n",
       "\n",
       "           sentences  \n",
       "count   59972.000000  \n",
       "unique           NaN  \n",
       "top              NaN  \n",
       "freq             NaN  \n",
       "mean        7.729624  \n",
       "std         2.823887  \n",
       "min         1.000000  \n",
       "25%         6.000000  \n",
       "50%         8.000000  \n",
       "75%        10.000000  \n",
       "max        31.000000  "
      ]
     },
     "execution_count": 14,
     "metadata": {},
     "output_type": "execute_result"
    }
   ],
   "source": [
    "df.describe(include='all')"
   ]
  },
  {
   "cell_type": "code",
   "execution_count": 15,
   "metadata": {},
   "outputs": [
    {
     "data": {
      "text/plain": [
       "'2015-07-14 06:29:37+00:00'"
      ]
     },
     "execution_count": 15,
     "metadata": {},
     "output_type": "execute_result"
    }
   ],
   "source": [
    "min(df.update_date)"
   ]
  },
  {
   "cell_type": "markdown",
   "metadata": {},
   "source": [
    "# Anything after this block is created using data that might not be explored in the rest of this notebook.\n",
    "\n",
    "The full dataset was too much for my computer to parse, but I was curious about how the submissions might have changed over time.  Here I'll be looking at some year-by-year comparisons for category popularity and sentence length.  The df below (erroneously called df_137k) contains about 60k entries at this point -- it removed the 2019 data and added back in the first 7 months of 2015.  I originally used all 137k entries for the plots under this line, but I figured out that I only needed four (full) years to do the comparisons and dropped the extra rows.  \n",
    "\n",
    "A future improvement could be the standardization across all notebooks to use the ~60k entries from 2015-2018."
   ]
  },
  {
   "cell_type": "code",
   "execution_count": 16,
   "metadata": {},
   "outputs": [
    {
     "data": {
      "text/plain": [
       "'..\\\\data\\\\astro_eda_only.csv'"
      ]
     },
     "execution_count": 16,
     "metadata": {},
     "output_type": "execute_result"
    }
   ],
   "source": [
    "file_137k = os.path.join('..','data','astro_eda_only.csv')\n",
    "\n",
    "file_137k"
   ]
  },
  {
   "cell_type": "code",
   "execution_count": 17,
   "metadata": {
    "scrolled": true
   },
   "outputs": [
    {
     "data": {
      "text/html": [
       "<div>\n",
       "<style scoped>\n",
       "    .dataframe tbody tr th:only-of-type {\n",
       "        vertical-align: middle;\n",
       "    }\n",
       "\n",
       "    .dataframe tbody tr th {\n",
       "        vertical-align: top;\n",
       "    }\n",
       "\n",
       "    .dataframe thead th {\n",
       "        text-align: right;\n",
       "    }\n",
       "</style>\n",
       "<table border=\"1\" class=\"dataframe\">\n",
       "  <thead>\n",
       "    <tr style=\"text-align: right;\">\n",
       "      <th></th>\n",
       "      <th>abstract</th>\n",
       "      <th>authors</th>\n",
       "      <th>comment</th>\n",
       "      <th>main_author</th>\n",
       "      <th>publish_date</th>\n",
       "      <th>term</th>\n",
       "      <th>terms</th>\n",
       "      <th>title</th>\n",
       "      <th>update_date</th>\n",
       "      <th>url</th>\n",
       "      <th>text</th>\n",
       "      <th>year</th>\n",
       "    </tr>\n",
       "  </thead>\n",
       "  <tbody>\n",
       "    <tr>\n",
       "      <th>7136</th>\n",
       "      <td>We study the chaotic-like behavior of cosmolog...</td>\n",
       "      <td>Shy Genel, Greg L. Bryan, Volker Springel, Lar...</td>\n",
       "      <td>Key figures: 10 &amp; 11. Accepted for publication...</td>\n",
       "      <td>Mark Vogelsberger</td>\n",
       "      <td>2018-07-18 18:00:08+00:00</td>\n",
       "      <td>astro-ph.GA</td>\n",
       "      <td>astro-ph.GA|astro-ph.IM</td>\n",
       "      <td>A Quantification of the Butterfly Effect in Co...</td>\n",
       "      <td>2018-12-31 23:27:27+00:00</td>\n",
       "      <td>http://arxiv.org/abs/1807.07084v2</td>\n",
       "      <td>We study the chaotic-like behavior of cosmolog...</td>\n",
       "      <td>2018</td>\n",
       "    </tr>\n",
       "  </tbody>\n",
       "</table>\n",
       "</div>"
      ],
      "text/plain": [
       "                                               abstract  \\\n",
       "7136  We study the chaotic-like behavior of cosmolog...   \n",
       "\n",
       "                                                authors  \\\n",
       "7136  Shy Genel, Greg L. Bryan, Volker Springel, Lar...   \n",
       "\n",
       "                                                comment        main_author  \\\n",
       "7136  Key figures: 10 & 11. Accepted for publication...  Mark Vogelsberger   \n",
       "\n",
       "                   publish_date         term                    terms  \\\n",
       "7136  2018-07-18 18:00:08+00:00  astro-ph.GA  astro-ph.GA|astro-ph.IM   \n",
       "\n",
       "                                                  title  \\\n",
       "7136  A Quantification of the Butterfly Effect in Co...   \n",
       "\n",
       "                    update_date                                url  \\\n",
       "7136  2018-12-31 23:27:27+00:00  http://arxiv.org/abs/1807.07084v2   \n",
       "\n",
       "                                                   text  year  \n",
       "7136  We study the chaotic-like behavior of cosmolog...  2018  "
      ]
     },
     "execution_count": 17,
     "metadata": {},
     "output_type": "execute_result"
    }
   ],
   "source": [
    "# Read in the entire file, create a column for the year information, and remove data before 2015 and the partial 2019\n",
    "df_137k = pd.read_csv(file_137k, index_col=0)\n",
    "df_137k['year'] = [year[:4] for year in df_137k.update_date]\n",
    "df_137k = df_137k.loc[('2018' >= df_137k.year) & (df_137k.year >= '2015')]\n",
    "df_137k.head(1)"
   ]
  },
  {
   "cell_type": "code",
   "execution_count": 18,
   "metadata": {},
   "outputs": [
    {
     "data": {
      "text/plain": [
       "count    59605.000000\n",
       "mean         1.653066\n",
       "std          0.875368\n",
       "min          1.000000\n",
       "25%          1.000000\n",
       "50%          1.000000\n",
       "75%          2.000000\n",
       "max          7.000000\n",
       "Name: terms_len, dtype: float64"
      ]
     },
     "execution_count": 18,
     "metadata": {},
     "output_type": "execute_result"
    }
   ],
   "source": [
    "# Create the terms_len column in order to plot the number of categories to which each article is submitted\n",
    "df_137k['terms_len'] = [len(x.split('|')) for x in df_137k.terms]\n",
    "df_137k.terms_len.describe()"
   ]
  },
  {
   "cell_type": "code",
   "execution_count": 19,
   "metadata": {},
   "outputs": [
    {
     "data": {
      "image/png": "[encoded data removed]",
      "text/plain": [
       "<Figure size 864x576 with 1 Axes>"
      ]
     },
     "metadata": {
      "needs_background": "light"
     },
     "output_type": "display_data"
    }
   ],
   "source": [
    "_ = plt.figure(figsize=(12,8))\n",
    "_ = sns.barplot(x='year', y='terms_len', hue='year', data=df_137k, dodge=False, ci=None)\n",
    "_ = plt.xlabel('Year')\n",
    "_ = plt.ylabel('Categories over all arXiv')\n",
    "_ = plt.title('Average number categories to which articles were submitted, 2015 to 2018')\n",
    "_ = plt.ylim(0,2)"
   ]
  },
  {
   "cell_type": "code",
   "execution_count": 20,
   "metadata": {},
   "outputs": [
    {
     "data": {
      "text/html": [
       "<div>\n",
       "<style scoped>\n",
       "    .dataframe tbody tr th:only-of-type {\n",
       "        vertical-align: middle;\n",
       "    }\n",
       "\n",
       "    .dataframe tbody tr th {\n",
       "        vertical-align: top;\n",
       "    }\n",
       "\n",
       "    .dataframe thead th {\n",
       "        text-align: right;\n",
       "    }\n",
       "</style>\n",
       "<table border=\"1\" class=\"dataframe\">\n",
       "  <thead>\n",
       "    <tr style=\"text-align: right;\">\n",
       "      <th></th>\n",
       "      <th>astro-ph category</th>\n",
       "      <th>article count</th>\n",
       "      <th>year</th>\n",
       "    </tr>\n",
       "  </thead>\n",
       "  <tbody>\n",
       "    <tr>\n",
       "      <th>0</th>\n",
       "      <td>cosmology</td>\n",
       "      <td>3756</td>\n",
       "      <td>2015</td>\n",
       "    </tr>\n",
       "    <tr>\n",
       "      <th>1</th>\n",
       "      <td>cosmology</td>\n",
       "      <td>3422</td>\n",
       "      <td>2018</td>\n",
       "    </tr>\n",
       "    <tr>\n",
       "      <th>2</th>\n",
       "      <td>galaxies</td>\n",
       "      <td>3538</td>\n",
       "      <td>2015</td>\n",
       "    </tr>\n",
       "    <tr>\n",
       "      <th>3</th>\n",
       "      <td>galaxies</td>\n",
       "      <td>5180</td>\n",
       "      <td>2018</td>\n",
       "    </tr>\n",
       "    <tr>\n",
       "      <th>4</th>\n",
       "      <td>high_energy</td>\n",
       "      <td>3538</td>\n",
       "      <td>2015</td>\n",
       "    </tr>\n",
       "    <tr>\n",
       "      <th>5</th>\n",
       "      <td>high_energy</td>\n",
       "      <td>3660</td>\n",
       "      <td>2018</td>\n",
       "    </tr>\n",
       "    <tr>\n",
       "      <th>6</th>\n",
       "      <td>instrument</td>\n",
       "      <td>1392</td>\n",
       "      <td>2015</td>\n",
       "    </tr>\n",
       "    <tr>\n",
       "      <th>7</th>\n",
       "      <td>instrument</td>\n",
       "      <td>2055</td>\n",
       "      <td>2018</td>\n",
       "    </tr>\n",
       "    <tr>\n",
       "      <th>8</th>\n",
       "      <td>planetary</td>\n",
       "      <td>1598</td>\n",
       "      <td>2015</td>\n",
       "    </tr>\n",
       "    <tr>\n",
       "      <th>9</th>\n",
       "      <td>planetary</td>\n",
       "      <td>1971</td>\n",
       "      <td>2018</td>\n",
       "    </tr>\n",
       "    <tr>\n",
       "      <th>10</th>\n",
       "      <td>solar</td>\n",
       "      <td>3298</td>\n",
       "      <td>2015</td>\n",
       "    </tr>\n",
       "    <tr>\n",
       "      <th>11</th>\n",
       "      <td>solar</td>\n",
       "      <td>3739</td>\n",
       "      <td>2018</td>\n",
       "    </tr>\n",
       "  </tbody>\n",
       "</table>\n",
       "</div>"
      ],
      "text/plain": [
       "   astro-ph category  article count  year\n",
       "0          cosmology           3756  2015\n",
       "1          cosmology           3422  2018\n",
       "2           galaxies           3538  2015\n",
       "3           galaxies           5180  2018\n",
       "4        high_energy           3538  2015\n",
       "5        high_energy           3660  2018\n",
       "6         instrument           1392  2015\n",
       "7         instrument           2055  2018\n",
       "8          planetary           1598  2015\n",
       "9          planetary           1971  2018\n",
       "10             solar           3298  2015\n",
       "11             solar           3739  2018"
      ]
     },
     "execution_count": 20,
     "metadata": {},
     "output_type": "execute_result"
    }
   ],
   "source": [
    "# Divide out the categories and the years of interest to plot changes\n",
    "cat_counts = pd.DataFrame.from_records([{\n",
    "    'cosmology_2015' : len(df_137k.terms.loc[(df_137k.terms.str.contains('astro-ph.CO')) & (df_137k.year=='2015')]),\n",
    "    'cosmology_2018' : len(df_137k.terms.loc[(df_137k.terms.str.contains('astro-ph.CO')) & (df_137k.year=='2018')]),\n",
    "    'planetary_2015' : len(df_137k.terms.loc[(df_137k.terms.str.contains('astro-ph.EP')) & (df_137k.year=='2015')]),\n",
    "    'planetary_2018' : len(df_137k.terms.loc[(df_137k.terms.str.contains('astro-ph.EP')) & (df_137k.year=='2018')]),\n",
    "    'galaxies_2015' : len(df_137k.terms.loc[(df_137k.terms.str.contains('astro-ph.GA')) & (df_137k.year=='2015')]),\n",
    "    'galaxies_2018' : len(df_137k.terms.loc[(df_137k.terms.str.contains('astro-ph.GA')) & (df_137k.year=='2018')]),\n",
    "    'high_energy_2015' : len(df_137k.terms.loc[(df_137k.terms.str.contains('astro-ph.HE')) & (df_137k.year=='2015')]),\n",
    "    'high_energy_2018' : len(df_137k.terms.loc[(df_137k.terms.str.contains('astro-ph.HE')) & (df_137k.year=='2018')]),\n",
    "    'instrument_2015' : len(df_137k.terms.loc[(df_137k.terms.str.contains('astro-ph.IM')) & (df_137k.year=='2015')]),\n",
    "    'instrument_2018' : len(df_137k.terms.loc[(df_137k.terms.str.contains('astro-ph.IM')) & (df_137k.year=='2018')]),\n",
    "    'solar_2015' : len(df_137k.terms.loc[(df_137k.terms.str.contains('astro-ph.SR')) & (df_137k.year=='2015')]),\n",
    "    'solar_2018' : len(df_137k.terms.loc[(df_137k.terms.str.contains('astro-ph.SR')) & (df_137k.year=='2018')])\n",
    "}]).T.reset_index()\n",
    "\n",
    "cat_counts.columns=['astro-ph category','article count']\n",
    "\n",
    "cat_counts['year'] = [year[-4:] for year in cat_counts['astro-ph category']]\n",
    "cat_counts['astro-ph category'] = [cat[:-5] for cat in cat_counts['astro-ph category']]\n",
    "cat_counts"
   ]
  },
  {
   "cell_type": "code",
   "execution_count": 21,
   "metadata": {},
   "outputs": [
    {
     "data": {
      "image/png": "[encoded data removed]",
      "text/plain": [
       "<Figure size 864x576 with 1 Axes>"
      ]
     },
     "metadata": {
      "needs_background": "light"
     },
     "output_type": "display_data"
    }
   ],
   "source": [
    "_ = plt.figure(figsize=(12,8))\n",
    "_ = sns.barplot(x='year', y='article count', hue='astro-ph category', data=cat_counts)\n",
    "_ = plt.xlabel('')\n",
    "_ = plt.ylabel('Submission count')\n",
    "_ = plt.title('Change in submissions to astro-ph categories, 2015 to 2018')"
   ]
  },
  {
   "cell_type": "code",
   "execution_count": 22,
   "metadata": {
    "scrolled": true
   },
   "outputs": [
    {
     "data": {
      "text/plain": [
       "(17120, 20027)"
      ]
     },
     "execution_count": 22,
     "metadata": {},
     "output_type": "execute_result"
    }
   ],
   "source": [
    "# NOTE: This will not equal the number of articles submitted to astro-ph categories\n",
    "# per year (check last box)!  This is a count of the total astro-ph subcategory \n",
    "# submissions each year, as articles can be submitted to 1+ categories and can therefore\n",
    "# be counted more than once.\n",
    "sum_2015 = sum(cat_counts['article count'].loc[cat_counts.year=='2015'])\n",
    "sum_2018 = sum(cat_counts['article count'].loc[cat_counts.year=='2018'])\n",
    "\n",
    "sum_2015, sum_2018"
   ]
  },
  {
   "cell_type": "code",
   "execution_count": 23,
   "metadata": {},
   "outputs": [
    {
     "data": {
      "text/plain": [
       "count    59605.000000\n",
       "mean         7.735811\n",
       "std          2.842063\n",
       "min          1.000000\n",
       "25%          6.000000\n",
       "50%          8.000000\n",
       "75%         10.000000\n",
       "max         31.000000\n",
       "Name: sentences, dtype: float64"
      ]
     },
     "execution_count": 23,
     "metadata": {},
     "output_type": "execute_result"
    }
   ],
   "source": [
    "# Add a column for number of sentences to track averages\n",
    "df_137k['sentences'] = [(entry.count('. ') + 1) for entry in df_137k.abstract]\n",
    "df_137k.sentences.describe()"
   ]
  },
  {
   "cell_type": "markdown",
   "metadata": {},
   "source": [
    "This plot justifies use of the t-test below that determines if a significant difference exists in the means of the different years.  The distribution has a bit of a tail, but it still approximates normal.  (The hist/KDE of the distribution do not change when outliers -- abstracts with more than 20 sentences -- are removed.)"
   ]
  },
  {
   "cell_type": "code",
   "execution_count": 24,
   "metadata": {},
   "outputs": [
    {
     "data": {
      "image/png": "[encoded data removed]",
      "text/plain": [
       "<Figure size 864x576 with 1 Axes>"
      ]
     },
     "metadata": {
      "needs_background": "light"
     },
     "output_type": "display_data"
    }
   ],
   "source": [
    "bins = np.arange(0, df_137k.sentences.max())\n",
    "_ = plt.figure(figsize=(12,8))\n",
    "_ = sns.distplot(df_137k.sentences, bins=bins, kde_kws={'bw':'.6'})\n",
    "_ = plt.xlabel('Number of sentences')\n",
    "_ = plt.ylabel('Article count')\n",
    "_ = plt.title('Sentences per abstract, 2015-2018 inclusive')"
   ]
  },
  {
   "cell_type": "markdown",
   "metadata": {},
   "source": [
    "T-test to check if the means of the different years have a significant difference in their means.  Tested 2018 to all three other years, then tested 2015 to the three other years.  2016 and 2017 results when compared to 2018: fail to reject H0 (means are statistically equal).  2015 compared to all three years: reject H0 (means are NOT statistically equal)."
   ]
  },
  {
   "cell_type": "code",
   "execution_count": 25,
   "metadata": {},
   "outputs": [
    {
     "name": "stdout",
     "output_type": "stream",
     "text": [
      "Statistical difference to 2018, independent t-test\n",
      "H0: year mean == 2018 mean, alpha = 0.05\n",
      "2015: t = -4.1892, p = 0.0000 (reject H0)\n",
      "2016: t = 0.5661, p = 0.5713 (fail to reject H0)\n",
      "2017: t = 0.2729, p = 0.7849 (fail to reject H0)\n",
      "\n",
      "Statistical difference to 2015, independent t-test\n",
      "H0: year mean == 2018 mean, alpha = 0.05\n",
      "2016: t = 4.6501, p = 0.0000 (reject H0)\n",
      "2017: t = 4.3901, p = 0.0000 (reject H0)\n",
      "2018: t = 4.1892, p = 0.0000 (reject H0)\n"
     ]
    }
   ],
   "source": [
    "sentences_2015 = df_137k.loc[df_137k.year=='2015']\n",
    "sentences_2016 = df_137k.loc[df_137k.year=='2016']\n",
    "sentences_2017 = df_137k.loc[df_137k.year=='2017']\n",
    "sentences_2018 = df_137k.loc[df_137k.year=='2018']\n",
    "\n",
    "t_1815, p_1815 = stats.ttest_ind(sentences_2015.sentences, sentences_2018.sentences)\n",
    "t_1816, p_1816 = stats.ttest_ind(sentences_2016.sentences, sentences_2018.sentences)\n",
    "t_1817, p_1817 = stats.ttest_ind(sentences_2017.sentences, sentences_2018.sentences)\n",
    "\n",
    "print('Statistical difference to 2018, independent t-test')\n",
    "print('H0: year mean == 2018 mean, alpha = 0.05')\n",
    "print('2015: t = {0:.4f},'.format(t_1815), 'p = {0:.4f}'.format(p_1815), '(reject H0)')\n",
    "print('2016: t = {0:.4f},'.format(t_1816), 'p = {0:.4f}'.format(p_1816), '(fail to reject H0)')\n",
    "print('2017: t = {0:.4f},'.format(t_1817), 'p = {0:.4f}'.format(p_1817), '(fail to reject H0)')\n",
    "\n",
    "t_1516, p_1516 = stats.ttest_ind(sentences_2016.sentences, sentences_2015.sentences)\n",
    "t_1517, p_1517 = stats.ttest_ind(sentences_2017.sentences, sentences_2015.sentences)\n",
    "\n",
    "print('\\nStatistical difference to 2015, independent t-test')\n",
    "print('H0: year mean == 2018 mean, alpha = 0.05')\n",
    "print('2016: t = {0:.4f},'.format(t_1516), 'p = {0:.4f}'.format(p_1516), '(reject H0)')\n",
    "print('2017: t = {0:.4f},'.format(t_1517), 'p = {0:.4f}'.format(p_1517), '(reject H0)')\n",
    "print('2018: t = {0:.4f},'.format(abs(t_1815)), 'p = {0:.4f}'.format(p_1815), '(reject H0)')"
   ]
  },
  {
   "cell_type": "code",
   "execution_count": 26,
   "metadata": {},
   "outputs": [],
   "source": [
    "# Create a groupby to plot sentence averages\n",
    "sent_counts = df_137k[['sentences', 'year']].groupby('year').mean().reset_index()"
   ]
  },
  {
   "cell_type": "code",
   "execution_count": 27,
   "metadata": {},
   "outputs": [
    {
     "data": {
      "text/html": [
       "<div>\n",
       "<style scoped>\n",
       "    .dataframe tbody tr th:only-of-type {\n",
       "        vertical-align: middle;\n",
       "    }\n",
       "\n",
       "    .dataframe tbody tr th {\n",
       "        vertical-align: top;\n",
       "    }\n",
       "\n",
       "    .dataframe thead th {\n",
       "        text-align: right;\n",
       "    }\n",
       "</style>\n",
       "<table border=\"1\" class=\"dataframe\">\n",
       "  <thead>\n",
       "    <tr style=\"text-align: right;\">\n",
       "      <th></th>\n",
       "      <th>year</th>\n",
       "      <th>sentences</th>\n",
       "    </tr>\n",
       "  </thead>\n",
       "  <tbody>\n",
       "    <tr>\n",
       "      <th>0</th>\n",
       "      <td>2015</td>\n",
       "      <td>7.620370</td>\n",
       "    </tr>\n",
       "    <tr>\n",
       "      <th>1</th>\n",
       "      <td>2016</td>\n",
       "      <td>7.778595</td>\n",
       "    </tr>\n",
       "    <tr>\n",
       "      <th>2</th>\n",
       "      <td>2017</td>\n",
       "      <td>7.769159</td>\n",
       "    </tr>\n",
       "    <tr>\n",
       "      <th>3</th>\n",
       "      <td>2018</td>\n",
       "      <td>7.760435</td>\n",
       "    </tr>\n",
       "  </tbody>\n",
       "</table>\n",
       "</div>"
      ],
      "text/plain": [
       "   year  sentences\n",
       "0  2015   7.620370\n",
       "1  2016   7.778595\n",
       "2  2017   7.769159\n",
       "3  2018   7.760435"
      ]
     },
     "execution_count": 27,
     "metadata": {},
     "output_type": "execute_result"
    }
   ],
   "source": [
    "sent_counts"
   ]
  },
  {
   "cell_type": "code",
   "execution_count": 28,
   "metadata": {},
   "outputs": [
    {
     "data": {
      "image/png": "[encoded data removed]",
      "text/plain": [
       "<Figure size 864x576 with 1 Axes>"
      ]
     },
     "metadata": {
      "needs_background": "light"
     },
     "output_type": "display_data"
    }
   ],
   "source": [
    "_ = plt.figure(figsize=(12,8))\n",
    "_ = sns.barplot(x='year', y='sentences', hue='year', data=sent_counts, dodge=False)\n",
    "_ = plt.xlabel('')\n",
    "_ = plt.ylabel('Sentence count')\n",
    "_ = plt.title('Average sentences per abstract, 2015 to 2018')\n",
    "_ = plt.ylim(0, 9)"
   ]
  },
  {
   "cell_type": "code",
   "execution_count": 29,
   "metadata": {},
   "outputs": [
    {
     "data": {
      "text/html": [
       "<div>\n",
       "<style scoped>\n",
       "    .dataframe tbody tr th:only-of-type {\n",
       "        vertical-align: middle;\n",
       "    }\n",
       "\n",
       "    .dataframe tbody tr th {\n",
       "        vertical-align: top;\n",
       "    }\n",
       "\n",
       "    .dataframe thead th {\n",
       "        text-align: right;\n",
       "    }\n",
       "</style>\n",
       "<table border=\"1\" class=\"dataframe\">\n",
       "  <thead>\n",
       "    <tr style=\"text-align: right;\">\n",
       "      <th></th>\n",
       "      <th>abstract</th>\n",
       "    </tr>\n",
       "  </thead>\n",
       "  <tbody>\n",
       "    <tr>\n",
       "      <th>count</th>\n",
       "      <td>4.000000</td>\n",
       "    </tr>\n",
       "    <tr>\n",
       "      <th>mean</th>\n",
       "      <td>14901.250000</td>\n",
       "    </tr>\n",
       "    <tr>\n",
       "      <th>std</th>\n",
       "      <td>1068.802874</td>\n",
       "    </tr>\n",
       "    <tr>\n",
       "      <th>min</th>\n",
       "      <td>13392.000000</td>\n",
       "    </tr>\n",
       "    <tr>\n",
       "      <th>25%</th>\n",
       "      <td>14661.000000</td>\n",
       "    </tr>\n",
       "    <tr>\n",
       "      <th>50%</th>\n",
       "      <td>15152.500000</td>\n",
       "    </tr>\n",
       "    <tr>\n",
       "      <th>75%</th>\n",
       "      <td>15392.750000</td>\n",
       "    </tr>\n",
       "    <tr>\n",
       "      <th>max</th>\n",
       "      <td>15908.000000</td>\n",
       "    </tr>\n",
       "  </tbody>\n",
       "</table>\n",
       "</div>"
      ],
      "text/plain": [
       "           abstract\n",
       "count      4.000000\n",
       "mean   14901.250000\n",
       "std     1068.802874\n",
       "min    13392.000000\n",
       "25%    14661.000000\n",
       "50%    15152.500000\n",
       "75%    15392.750000\n",
       "max    15908.000000"
      ]
     },
     "execution_count": 29,
     "metadata": {},
     "output_type": "execute_result"
    }
   ],
   "source": [
    "# This is the real number of how many articles were submitted during the time period.\n",
    "submission_counts = df_137k[['abstract', 'year']].groupby('year').count().reset_index()\n",
    "submission_counts.describe()"
   ]
  },
  {
   "cell_type": "code",
   "execution_count": 30,
   "metadata": {},
   "outputs": [
    {
     "data": {
      "text/html": [
       "<div>\n",
       "<style scoped>\n",
       "    .dataframe tbody tr th:only-of-type {\n",
       "        vertical-align: middle;\n",
       "    }\n",
       "\n",
       "    .dataframe tbody tr th {\n",
       "        vertical-align: top;\n",
       "    }\n",
       "\n",
       "    .dataframe thead th {\n",
       "        text-align: right;\n",
       "    }\n",
       "</style>\n",
       "<table border=\"1\" class=\"dataframe\">\n",
       "  <thead>\n",
       "    <tr style=\"text-align: right;\">\n",
       "      <th></th>\n",
       "      <th>year</th>\n",
       "      <th>abstract</th>\n",
       "    </tr>\n",
       "  </thead>\n",
       "  <tbody>\n",
       "    <tr>\n",
       "      <th>0</th>\n",
       "      <td>2015</td>\n",
       "      <td>13392</td>\n",
       "    </tr>\n",
       "    <tr>\n",
       "      <th>1</th>\n",
       "      <td>2016</td>\n",
       "      <td>15221</td>\n",
       "    </tr>\n",
       "    <tr>\n",
       "      <th>2</th>\n",
       "      <td>2017</td>\n",
       "      <td>15084</td>\n",
       "    </tr>\n",
       "    <tr>\n",
       "      <th>3</th>\n",
       "      <td>2018</td>\n",
       "      <td>15908</td>\n",
       "    </tr>\n",
       "  </tbody>\n",
       "</table>\n",
       "</div>"
      ],
      "text/plain": [
       "   year  abstract\n",
       "0  2015     13392\n",
       "1  2016     15221\n",
       "2  2017     15084\n",
       "3  2018     15908"
      ]
     },
     "execution_count": 30,
     "metadata": {},
     "output_type": "execute_result"
    }
   ],
   "source": [
    "submission_counts"
   ]
  },
  {
   "cell_type": "code",
   "execution_count": 31,
   "metadata": {},
   "outputs": [
    {
     "data": {
      "image/png": "[encoded data removed]",
      "text/plain": [
       "<Figure size 864x288 with 2 Axes>"
      ]
     },
     "metadata": {
      "needs_background": "light"
     },
     "output_type": "display_data"
    }
   ],
   "source": [
    "# Plot two previous plots in one plt.subplots() for the paper\n",
    "\n",
    "fig, (ax1, ax2) = plt.subplots(1, 2, figsize=(12,4))\n",
    "ax1 = sns.distplot(df_137k.sentences, bins=bins, kde=False, ax=ax1)\n",
    "ax1.set_xlabel('Number of sentences')\n",
    "ax1.set_ylabel('Sentence density')\n",
    "ax1.set_title('Sentence distribution, 2015-2018')\n",
    "\n",
    "ax2 = sns.barplot(x='year', y='sentences', hue='year', data=sent_counts, dodge=False)\n",
    "ax2 = plt.xlabel('')\n",
    "ax2 = plt.ylabel('Sentence count')\n",
    "ax2 = plt.title('Mean sentences per abstract, 2015-2018')\n",
    "ax2 = plt.ylim(0, 9)\n",
    "legend = plt.legend()\n",
    "legend.remove()"
   ]
  },
  {
   "cell_type": "markdown",
   "metadata": {},
   "source": [
    "These are two random ecdfs that I wanted to use to verify normality.  I don't want to get rid of them."
   ]
  },
  {
   "cell_type": "code",
   "execution_count": 32,
   "metadata": {},
   "outputs": [
    {
     "data": {
      "image/png": "[encoded data removed]",
      "text/plain": [
       "<Figure size 864x576 with 1 Axes>"
      ]
     },
     "metadata": {
      "needs_background": "light"
     },
     "output_type": "display_data"
    }
   ],
   "source": [
    "def ecdf(data):\n",
    "    '''Compute continuous distribution function for one column'''\n",
    "    n = len(data)\n",
    "    x = np.sort(data)\n",
    "    y = np.arange(1, n+1) / n\n",
    "    return x, y\n",
    "\n",
    "# Get x and y points from the sentences data and from a normal distribution with same statistics\n",
    "x, y = ecdf(df_137k.sentences)\n",
    "mean = np.mean(df_137k.sentences)\n",
    "std = np.std(df_137k.sentences)\n",
    "sample = np.random.normal(mean, std, size=10000)\n",
    "x_theor, y_theor = ecdf(sample)\n",
    "\n",
    "# Plot ecdf of sentences and simulated normal distribution\n",
    "_ = plt.figure(figsize=(12, 8))\n",
    "_ = plt.plot(x_theor, y_theor)\n",
    "_ = plt.plot(x, y, marker='.', linestyle='none')\n",
    "_ = plt.legend(('Normal distribution', 'Observed data'), loc='lower right')\n",
    "_ = plt.xlabel('Sentences per abstract')\n",
    "_ = plt.ylabel('Cumulative distribution function')\n",
    "_ = plt.title('Normality of sentences data, 2015-2018')"
   ]
  },
  {
   "cell_type": "code",
   "execution_count": 33,
   "metadata": {},
   "outputs": [
    {
     "data": {
      "image/png": "[encoded data removed]",
      "text/plain": [
       "<Figure size 864x576 with 1 Axes>"
      ]
     },
     "metadata": {
      "needs_background": "light"
     },
     "output_type": "display_data"
    }
   ],
   "source": [
    "# Get x and y points from the sentences data and from a normal distribution with same statistics\n",
    "x_15, y_15 = ecdf(df_137k.sentences.loc[df_137k.year == '2015'])\n",
    "x_18, y_18 = ecdf(df_137k.sentences.loc[df_137k.year == '2018'])\n",
    "\n",
    "# Plot ecdf of sentences and simulated normal distribution\n",
    "_ = plt.figure(figsize=(12, 8))\n",
    "_ = plt.plot(x_15, y_15, marker=0, linestyle='none')\n",
    "_ = plt.plot(x_18, y_18, marker=1, linestyle='none')\n",
    "_ = plt.legend(('2015', '2018'), loc='lower right')\n",
    "_ = plt.xlabel('Sentences per abstract')\n",
    "_ = plt.ylabel('Cumulative distribution function')\n",
    "_ = plt.title('Normality of sentences data, 2015 and 2018')"
   ]
  }
 ],
 "metadata": {
  "kernelspec": {
   "display_name": "Python 3",
   "language": "python",
   "name": "python3"
  },
  "language_info": {
   "codemirror_mode": {
    "name": "ipython",
    "version": 3
   },
   "file_extension": ".py",
   "mimetype": "text/x-python",
   "name": "python",
   "nbconvert_exporter": "python",
   "pygments_lexer": "ipython3",
   "version": "3.7.2"
  }
 },
 "nbformat": 4,
 "nbformat_minor": 2
}

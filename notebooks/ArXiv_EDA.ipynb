{
 "cells": [
  {
   "cell_type": "markdown",
   "metadata": {},
   "source": [
    "# 'Recommendation of similar articles from journal abstract analysis'  \n",
    "# Exploratory data analysis of arXiv submissions\n",
    "## 2019, Misty M. Giles\n",
    "### https://github.com/OhThatMisty/astro_categories/"
   ]
  },
  {
   "cell_type": "code",
   "execution_count": 1,
   "metadata": {},
   "outputs": [],
   "source": [
    "%matplotlib inline\n",
    "\n",
    "import matplotlib.pyplot as plt\n",
    "import numpy as np\n",
    "import os\n",
    "import pandas as pd\n",
    "import seaborn as sns\n",
    "\n",
    "plt.style.use('ggplot')"
   ]
  },
  {
   "cell_type": "markdown",
   "metadata": {},
   "source": [
    "### Import the file and check the import\n",
    "\n",
    "For this EDA, I'm going to add some temporary columns to the df for histograms, etc.  They won't be kept outside of this notebook.\n",
    "\n",
    "The first 14 blocks will use the same data that was created in ArXiv_cleaning.ipynb, but I'll also take some information from 2015 and 2018 from the full set of ~137k abstracts to create a few additional plots at the end of this notebook to see if anything has changed in distribution.  This file was created using the same steps in ArXiv_cleaning.ipynb except for spaCy processing."
   ]
  },
  {
   "cell_type": "code",
   "execution_count": 2,
   "metadata": {},
   "outputs": [
    {
     "data": {
      "text/plain": [
       "'..\\\\data\\\\astro_intermediate.csv'"
      ]
     },
     "execution_count": 2,
     "metadata": {},
     "output_type": "execute_result"
    }
   ],
   "source": [
    "file = os.path.join('..','data','astro_intermediate.csv')\n",
    "\n",
    "file"
   ]
  },
  {
   "cell_type": "code",
   "execution_count": 3,
   "metadata": {
    "scrolled": true
   },
   "outputs": [
    {
     "data": {
      "text/html": [
       "<div>\n",
       "<style scoped>\n",
       "    .dataframe tbody tr th:only-of-type {\n",
       "        vertical-align: middle;\n",
       "    }\n",
       "\n",
       "    .dataframe tbody tr th {\n",
       "        vertical-align: top;\n",
       "    }\n",
       "\n",
       "    .dataframe thead th {\n",
       "        text-align: right;\n",
       "    }\n",
       "</style>\n",
       "<table border=\"1\" class=\"dataframe\">\n",
       "  <thead>\n",
       "    <tr style=\"text-align: right;\">\n",
       "      <th></th>\n",
       "      <th>abstract</th>\n",
       "      <th>authors</th>\n",
       "      <th>comment</th>\n",
       "      <th>main_author</th>\n",
       "      <th>publish_date</th>\n",
       "      <th>term</th>\n",
       "      <th>terms</th>\n",
       "      <th>title</th>\n",
       "      <th>update_date</th>\n",
       "      <th>url</th>\n",
       "      <th>text</th>\n",
       "      <th>sentences</th>\n",
       "    </tr>\n",
       "  </thead>\n",
       "  <tbody>\n",
       "    <tr>\n",
       "      <th>0</th>\n",
       "      <td>We have constructed a Fourier-transform spectr...</td>\n",
       "      <td>Zhaodi Pan, Mira Liu, Ritoban Basu Thakur, Bra...</td>\n",
       "      <td>Submitted to Applied Optics. [Copyright 2019 O...</td>\n",
       "      <td>Stephan S. Meyer</td>\n",
       "      <td>2019-05-17 17:57:11+00:00</td>\n",
       "      <td>astro-ph.IM</td>\n",
       "      <td>astro-ph.IM|physics.ins-det</td>\n",
       "      <td>A Compact Millimeter-Wavelength Fourier-Transf...</td>\n",
       "      <td>2019-05-17 17:57:11+00:00</td>\n",
       "      <td>http://arxiv.org/abs/1905.07399v1</td>\n",
       "      <td>we construct fourier transform spectrometer ft...</td>\n",
       "      <td>6</td>\n",
       "    </tr>\n",
       "    <tr>\n",
       "      <th>1</th>\n",
       "      <td>We report possible interaction between multipl...</td>\n",
       "      <td>Kazuhito Dobashi, Tomomi Shimoikura, Nobuhiro ...</td>\n",
       "      <td>To appear in the Publications of the Astronomi...</td>\n",
       "      <td>Jean-Philippe Bernard</td>\n",
       "      <td>2019-05-17 17:48:17+00:00</td>\n",
       "      <td>astro-ph.GA</td>\n",
       "      <td>astro-ph.GA</td>\n",
       "      <td>Interaction between Northern Coal Sack in the ...</td>\n",
       "      <td>2019-05-17 17:48:17+00:00</td>\n",
       "      <td>http://arxiv.org/abs/1905.07395v1</td>\n",
       "      <td>we report possible interaction multiple super ...</td>\n",
       "      <td>8</td>\n",
       "    </tr>\n",
       "    <tr>\n",
       "      <th>2</th>\n",
       "      <td>Young, low-mass stars in the solar neighborhoo...</td>\n",
       "      <td>Adam C. Schneider, Evgenya L. Shkolnik, Kately...</td>\n",
       "      <td>Accepted for publication in the Astronomical J...</td>\n",
       "      <td>Laura Flagg</td>\n",
       "      <td>2019-04-15 17:10:00+00:00</td>\n",
       "      <td>astro-ph.SR</td>\n",
       "      <td>astro-ph.SR</td>\n",
       "      <td>ACRONYM III: Radial Velocities for 336 Candida...</td>\n",
       "      <td>2019-05-17 17:39:58+00:00</td>\n",
       "      <td>http://arxiv.org/abs/1904.07193v2</td>\n",
       "      <td>young low mass star solar neighborhood vital c...</td>\n",
       "      <td>9</td>\n",
       "    </tr>\n",
       "    <tr>\n",
       "      <th>3</th>\n",
       "      <td>We investigate the energy extraction by the Pe...</td>\n",
       "      <td>Parthapratim Pradhan</td>\n",
       "      <td>Accepted in EPJC</td>\n",
       "      <td>Parthapratim Pradhan</td>\n",
       "      <td>2018-10-08 07:24:04+00:00</td>\n",
       "      <td>gr-qc</td>\n",
       "      <td>gr-qc|astro-ph.HE|hep-th</td>\n",
       "      <td>Study of energy extraction and epicyclic frequ...</td>\n",
       "      <td>2019-05-17 17:32:07+00:00</td>\n",
       "      <td>http://arxiv.org/abs/1810.03290v2</td>\n",
       "      <td>we investigate energy extraction penrose proce...</td>\n",
       "      <td>22</td>\n",
       "    </tr>\n",
       "    <tr>\n",
       "      <th>4</th>\n",
       "      <td>We investigate the effect cosmological constan...</td>\n",
       "      <td>Javad T. Firouzjaee, Alireza Allahyari</td>\n",
       "      <td>No comment found</td>\n",
       "      <td>Alireza Allahyari</td>\n",
       "      <td>2019-05-17 17:14:13+00:00</td>\n",
       "      <td>astro-ph.CO</td>\n",
       "      <td>astro-ph.CO|gr-qc</td>\n",
       "      <td>Black hole shadow with a cosmological constant...</td>\n",
       "      <td>2019-05-17 17:14:13+00:00</td>\n",
       "      <td>http://arxiv.org/abs/1905.07378v1</td>\n",
       "      <td>we investigate effect cosmological constant an...</td>\n",
       "      <td>7</td>\n",
       "    </tr>\n",
       "  </tbody>\n",
       "</table>\n",
       "</div>"
      ],
      "text/plain": [
       "                                            abstract  \\\n",
       "0  We have constructed a Fourier-transform spectr...   \n",
       "1  We report possible interaction between multipl...   \n",
       "2  Young, low-mass stars in the solar neighborhoo...   \n",
       "3  We investigate the energy extraction by the Pe...   \n",
       "4  We investigate the effect cosmological constan...   \n",
       "\n",
       "                                             authors  \\\n",
       "0  Zhaodi Pan, Mira Liu, Ritoban Basu Thakur, Bra...   \n",
       "1  Kazuhito Dobashi, Tomomi Shimoikura, Nobuhiro ...   \n",
       "2  Adam C. Schneider, Evgenya L. Shkolnik, Kately...   \n",
       "3                               Parthapratim Pradhan   \n",
       "4             Javad T. Firouzjaee, Alireza Allahyari   \n",
       "\n",
       "                                             comment            main_author  \\\n",
       "0  Submitted to Applied Optics. [Copyright 2019 O...       Stephan S. Meyer   \n",
       "1  To appear in the Publications of the Astronomi...  Jean-Philippe Bernard   \n",
       "2  Accepted for publication in the Astronomical J...            Laura Flagg   \n",
       "3                                   Accepted in EPJC   Parthapratim Pradhan   \n",
       "4                                   No comment found      Alireza Allahyari   \n",
       "\n",
       "                publish_date         term                        terms  \\\n",
       "0  2019-05-17 17:57:11+00:00  astro-ph.IM  astro-ph.IM|physics.ins-det   \n",
       "1  2019-05-17 17:48:17+00:00  astro-ph.GA                  astro-ph.GA   \n",
       "2  2019-04-15 17:10:00+00:00  astro-ph.SR                  astro-ph.SR   \n",
       "3  2018-10-08 07:24:04+00:00        gr-qc     gr-qc|astro-ph.HE|hep-th   \n",
       "4  2019-05-17 17:14:13+00:00  astro-ph.CO            astro-ph.CO|gr-qc   \n",
       "\n",
       "                                               title  \\\n",
       "0  A Compact Millimeter-Wavelength Fourier-Transf...   \n",
       "1  Interaction between Northern Coal Sack in the ...   \n",
       "2  ACRONYM III: Radial Velocities for 336 Candida...   \n",
       "3  Study of energy extraction and epicyclic frequ...   \n",
       "4  Black hole shadow with a cosmological constant...   \n",
       "\n",
       "                 update_date                                url  \\\n",
       "0  2019-05-17 17:57:11+00:00  http://arxiv.org/abs/1905.07399v1   \n",
       "1  2019-05-17 17:48:17+00:00  http://arxiv.org/abs/1905.07395v1   \n",
       "2  2019-05-17 17:39:58+00:00  http://arxiv.org/abs/1904.07193v2   \n",
       "3  2019-05-17 17:32:07+00:00  http://arxiv.org/abs/1810.03290v2   \n",
       "4  2019-05-17 17:14:13+00:00  http://arxiv.org/abs/1905.07378v1   \n",
       "\n",
       "                                                text  sentences  \n",
       "0  we construct fourier transform spectrometer ft...          6  \n",
       "1  we report possible interaction multiple super ...          8  \n",
       "2  young low mass star solar neighborhood vital c...          9  \n",
       "3  we investigate energy extraction penrose proce...         22  \n",
       "4  we investigate effect cosmological constant an...          7  "
      ]
     },
     "execution_count": 3,
     "metadata": {},
     "output_type": "execute_result"
    }
   ],
   "source": [
    "df = pd.read_csv(file, index_col=0)\n",
    "df.head()"
   ]
  },
  {
   "cell_type": "markdown",
   "metadata": {},
   "source": [
    "### Time for some visual analysis.  First, how many categories do authors submit each article to?  \n",
    "\n",
    "I'll split the categories in the 'terms' column on the pipes and count them."
   ]
  },
  {
   "cell_type": "code",
   "execution_count": 4,
   "metadata": {},
   "outputs": [
    {
     "data": {
      "text/plain": [
       "count    49973.000000\n",
       "mean         1.650731\n",
       "std          0.876737\n",
       "min          1.000000\n",
       "25%          1.000000\n",
       "50%          1.000000\n",
       "75%          2.000000\n",
       "max          7.000000\n",
       "Name: terms_len, dtype: float64"
      ]
     },
     "execution_count": 4,
     "metadata": {},
     "output_type": "execute_result"
    }
   ],
   "source": [
    "df['terms_len'] = [len(x.split('|')) for x in df.terms]\n",
    "df.terms_len.describe()"
   ]
  },
  {
   "cell_type": "markdown",
   "metadata": {},
   "source": [
    "Max = 7?  That's a huge number of categories.  I'll glance over a few entries as a whole for any obvious errors.  Then I'll check an entry with 7 categories more closely to see if this makes sense."
   ]
  },
  {
   "cell_type": "code",
   "execution_count": 5,
   "metadata": {},
   "outputs": [
    {
     "data": {
      "text/html": [
       "<div>\n",
       "<style scoped>\n",
       "    .dataframe tbody tr th:only-of-type {\n",
       "        vertical-align: middle;\n",
       "    }\n",
       "\n",
       "    .dataframe tbody tr th {\n",
       "        vertical-align: top;\n",
       "    }\n",
       "\n",
       "    .dataframe thead th {\n",
       "        text-align: right;\n",
       "    }\n",
       "</style>\n",
       "<table border=\"1\" class=\"dataframe\">\n",
       "  <thead>\n",
       "    <tr style=\"text-align: right;\">\n",
       "      <th></th>\n",
       "      <th>abstract</th>\n",
       "      <th>authors</th>\n",
       "      <th>comment</th>\n",
       "      <th>main_author</th>\n",
       "      <th>publish_date</th>\n",
       "      <th>term</th>\n",
       "      <th>terms</th>\n",
       "      <th>title</th>\n",
       "      <th>update_date</th>\n",
       "      <th>url</th>\n",
       "      <th>text</th>\n",
       "      <th>sentences</th>\n",
       "      <th>terms_len</th>\n",
       "    </tr>\n",
       "  </thead>\n",
       "  <tbody>\n",
       "    <tr>\n",
       "      <th>4261</th>\n",
       "      <td>Denoising of time domain data is a crucial tas...</td>\n",
       "      <td>Hongyu Shen, Daniel George, E. A. Huerta, Zhiz...</td>\n",
       "      <td>5 pages, 11 figures and 3 tables, accepted to ...</td>\n",
       "      <td>Zhizhen Zhao</td>\n",
       "      <td>2019-03-06 19:00:02+00:00</td>\n",
       "      <td>astro-ph.CO</td>\n",
       "      <td>astro-ph.CO|astro-ph.IM|cs.LG|eess.SP|gr-qc|97...</td>\n",
       "      <td>Denoising Gravitational Waves with Enhanced De...</td>\n",
       "      <td>2019-03-06 19:00:02+00:00</td>\n",
       "      <td>http://arxiv.org/abs/1903.03105v1</td>\n",
       "      <td>denois time domain datum crucial task applicat...</td>\n",
       "      <td>6</td>\n",
       "      <td>7</td>\n",
       "    </tr>\n",
       "    <tr>\n",
       "      <th>4296</th>\n",
       "      <td>We present the first application of deep learn...</td>\n",
       "      <td>Hongyu Shen, E. A. Huerta, Zhizhen Zhao</td>\n",
       "      <td>8 pages, 4 figures and 4 tables</td>\n",
       "      <td>Zhizhen Zhao</td>\n",
       "      <td>2019-03-05 19:00:02+00:00</td>\n",
       "      <td>gr-qc</td>\n",
       "      <td>gr-qc|astro-ph.HE|cs.AI|cs.LG|stat.ML|68T10, 8...</td>\n",
       "      <td>Deep Learning at Scale for Gravitational Wave ...</td>\n",
       "      <td>2019-03-05 19:00:02+00:00</td>\n",
       "      <td>http://arxiv.org/abs/1903.01998v1</td>\n",
       "      <td>we present application deep learning scale gra...</td>\n",
       "      <td>7</td>\n",
       "      <td>7</td>\n",
       "    </tr>\n",
       "    <tr>\n",
       "      <th>12704</th>\n",
       "      <td>Female role models reduce the impact on women ...</td>\n",
       "      <td>C. V. Hampton, M. Lugaro, P. Papakonstantinou,...</td>\n",
       "      <td>5 pages; to appear in Springer Proceedings in ...</td>\n",
       "      <td>R. Collet</td>\n",
       "      <td>2018-08-25 13:22:28+00:00</td>\n",
       "      <td>physics.hist-ph</td>\n",
       "      <td>physics.hist-ph|astro-ph.EP|astro-ph.GA|astro-...</td>\n",
       "      <td>Women Scientists Who Made Nuclear Astrophysics</td>\n",
       "      <td>2018-08-25 13:22:28+00:00</td>\n",
       "      <td>http://arxiv.org/abs/1809.01045v1</td>\n",
       "      <td>female role model reduce impact woman stereoty...</td>\n",
       "      <td>4</td>\n",
       "      <td>7</td>\n",
       "    </tr>\n",
       "    <tr>\n",
       "      <th>5412</th>\n",
       "      <td>The advent of experimental science facilities-...</td>\n",
       "      <td>E. A. Huerta, Roland Haas, Shantenu Jha, Mark ...</td>\n",
       "      <td>13 pages, 7 figures. Accepted to Computing and...</td>\n",
       "      <td>Daniel S. Katz</td>\n",
       "      <td>2018-10-06 21:13:01+00:00</td>\n",
       "      <td>cs.DC</td>\n",
       "      <td>cs.DC|astro-ph.HE|gr-qc|hep-ex|hep-ph|hep-th|9...</td>\n",
       "      <td>Supporting High-Performance and High-Throughpu...</td>\n",
       "      <td>2019-02-08 21:03:43+00:00</td>\n",
       "      <td>http://arxiv.org/abs/1810.03056v2</td>\n",
       "      <td>the advent experimental science facility instr...</td>\n",
       "      <td>6</td>\n",
       "      <td>7</td>\n",
       "    </tr>\n",
       "    <tr>\n",
       "      <th>8225</th>\n",
       "      <td>From the general assumption that gravity origi...</td>\n",
       "      <td>Hongwei Xiong</td>\n",
       "      <td>Much better presentation has been given in my ...</td>\n",
       "      <td>Hongwei Xiong</td>\n",
       "      <td>2011-01-25 18:31:52+00:00</td>\n",
       "      <td>gr-qc</td>\n",
       "      <td>gr-qc|astro-ph.CO|cond-mat.quant-gas|hep-th|ma...</td>\n",
       "      <td>Abnormal Quantum Gravity Effect: Experimental ...</td>\n",
       "      <td>2018-12-04 12:05:57+00:00</td>\n",
       "      <td>http://arxiv.org/abs/1101.4890v4</td>\n",
       "      <td>from general assumption gravity originate coup...</td>\n",
       "      <td>6</td>\n",
       "      <td>7</td>\n",
       "    </tr>\n",
       "  </tbody>\n",
       "</table>\n",
       "</div>"
      ],
      "text/plain": [
       "                                                abstract  \\\n",
       "4261   Denoising of time domain data is a crucial tas...   \n",
       "4296   We present the first application of deep learn...   \n",
       "12704  Female role models reduce the impact on women ...   \n",
       "5412   The advent of experimental science facilities-...   \n",
       "8225   From the general assumption that gravity origi...   \n",
       "\n",
       "                                                 authors  \\\n",
       "4261   Hongyu Shen, Daniel George, E. A. Huerta, Zhiz...   \n",
       "4296             Hongyu Shen, E. A. Huerta, Zhizhen Zhao   \n",
       "12704  C. V. Hampton, M. Lugaro, P. Papakonstantinou,...   \n",
       "5412   E. A. Huerta, Roland Haas, Shantenu Jha, Mark ...   \n",
       "8225                                       Hongwei Xiong   \n",
       "\n",
       "                                                 comment     main_author  \\\n",
       "4261   5 pages, 11 figures and 3 tables, accepted to ...    Zhizhen Zhao   \n",
       "4296                     8 pages, 4 figures and 4 tables    Zhizhen Zhao   \n",
       "12704  5 pages; to appear in Springer Proceedings in ...       R. Collet   \n",
       "5412   13 pages, 7 figures. Accepted to Computing and...  Daniel S. Katz   \n",
       "8225   Much better presentation has been given in my ...   Hongwei Xiong   \n",
       "\n",
       "                    publish_date             term  \\\n",
       "4261   2019-03-06 19:00:02+00:00      astro-ph.CO   \n",
       "4296   2019-03-05 19:00:02+00:00            gr-qc   \n",
       "12704  2018-08-25 13:22:28+00:00  physics.hist-ph   \n",
       "5412   2018-10-06 21:13:01+00:00            cs.DC   \n",
       "8225   2011-01-25 18:31:52+00:00            gr-qc   \n",
       "\n",
       "                                                   terms  \\\n",
       "4261   astro-ph.CO|astro-ph.IM|cs.LG|eess.SP|gr-qc|97...   \n",
       "4296   gr-qc|astro-ph.HE|cs.AI|cs.LG|stat.ML|68T10, 8...   \n",
       "12704  physics.hist-ph|astro-ph.EP|astro-ph.GA|astro-...   \n",
       "5412   cs.DC|astro-ph.HE|gr-qc|hep-ex|hep-ph|hep-th|9...   \n",
       "8225   gr-qc|astro-ph.CO|cond-mat.quant-gas|hep-th|ma...   \n",
       "\n",
       "                                                   title  \\\n",
       "4261   Denoising Gravitational Waves with Enhanced De...   \n",
       "4296   Deep Learning at Scale for Gravitational Wave ...   \n",
       "12704     Women Scientists Who Made Nuclear Astrophysics   \n",
       "5412   Supporting High-Performance and High-Throughpu...   \n",
       "8225   Abnormal Quantum Gravity Effect: Experimental ...   \n",
       "\n",
       "                     update_date                                url  \\\n",
       "4261   2019-03-06 19:00:02+00:00  http://arxiv.org/abs/1903.03105v1   \n",
       "4296   2019-03-05 19:00:02+00:00  http://arxiv.org/abs/1903.01998v1   \n",
       "12704  2018-08-25 13:22:28+00:00  http://arxiv.org/abs/1809.01045v1   \n",
       "5412   2019-02-08 21:03:43+00:00  http://arxiv.org/abs/1810.03056v2   \n",
       "8225   2018-12-04 12:05:57+00:00   http://arxiv.org/abs/1101.4890v4   \n",
       "\n",
       "                                                    text  sentences  terms_len  \n",
       "4261   denois time domain datum crucial task applicat...          6          7  \n",
       "4296   we present application deep learning scale gra...          7          7  \n",
       "12704  female role model reduce impact woman stereoty...          4          7  \n",
       "5412   the advent experimental science facility instr...          6          7  \n",
       "8225   from general assumption gravity originate coup...          6          7  "
      ]
     },
     "execution_count": 5,
     "metadata": {},
     "output_type": "execute_result"
    }
   ],
   "source": [
    "df.sort_values('terms_len', ascending=False)[:5]"
   ]
  },
  {
   "cell_type": "code",
   "execution_count": 6,
   "metadata": {},
   "outputs": [
    {
     "data": {
      "text/plain": [
       "'physics.hist-ph|astro-ph.EP|astro-ph.GA|astro-ph.HE|astro-ph.SR|nucl-ex|nucl-th'"
      ]
     },
     "execution_count": 6,
     "metadata": {},
     "output_type": "execute_result"
    }
   ],
   "source": [
    "df.terms[12704]"
   ]
  },
  {
   "cell_type": "code",
   "execution_count": 7,
   "metadata": {},
   "outputs": [
    {
     "data": {
      "text/plain": [
       "'Women Scientists Who Made Nuclear Astrophysics'"
      ]
     },
     "execution_count": 7,
     "metadata": {},
     "output_type": "execute_result"
    }
   ],
   "source": [
    "df.title[12704]"
   ]
  },
  {
   "cell_type": "code",
   "execution_count": 8,
   "metadata": {},
   "outputs": [
    {
     "data": {
      "text/plain": [
       "\"Female role models reduce the impact on women of stereotype threat, i.e., of being at risk of conforming to a negative stereotype about one's social, gender, or racial group. This can lead women scientists to underperform or to leave their scientific career because of negative stereotypes such as, not being as talented or as interested in science as men. Sadly, history rarely provides role models for women scientists; instead, it often renders these women invisible. In response to this situation, we present a selection of twelve outstanding women who helped to develop nuclear astrophysics.\""
      ]
     },
     "execution_count": 8,
     "metadata": {},
     "output_type": "execute_result"
    }
   ],
   "source": [
    "df.abstract[12704]"
   ]
  },
  {
   "cell_type": "markdown",
   "metadata": {},
   "source": [
    "Well, it makes sense for this article.  You can also see some weird five-digit codes like 97R40 or 68T10.  These are \"Mathematical Subject Classifications,\" and authors can classify their papers with them as well as the subject codes.  Either way, it isn't a problem with the notebook code, so we're good to go.  \n",
    "\n",
    "Next, how does this distribution look?  We already know from the .describe() above that more than half of the papers are only submitted to one category and three-quarters are submitted to two or fewer, with a mean of about 1.6 categories."
   ]
  },
  {
   "cell_type": "code",
   "execution_count": 9,
   "metadata": {},
   "outputs": [
    {
     "data": {
      "image/png": "[encoded data removed]",
      "text/plain": [
       "<Figure size 864x576 with 1 Axes>"
      ]
     },
     "metadata": {
      "needs_background": "light"
     },
     "output_type": "display_data"
    }
   ],
   "source": [
    "_ = plt.figure(figsize=(12,8))\n",
    "_ = df.terms_len.plot(kind='hist', bins=7)\n",
    "_ = plt.xlabel('Number of arXiv categories')\n",
    "_ = plt.title('Number categories to which each article in sample was submitted')"
   ]
  },
  {
   "cell_type": "markdown",
   "metadata": {},
   "source": [
    "One more category question: Which are the most popular categories?  How are submissions distributed?"
   ]
  },
  {
   "cell_type": "code",
   "execution_count": 10,
   "metadata": {},
   "outputs": [
    {
     "data": {
      "text/html": [
       "<div>\n",
       "<style scoped>\n",
       "    .dataframe tbody tr th:only-of-type {\n",
       "        vertical-align: middle;\n",
       "    }\n",
       "\n",
       "    .dataframe tbody tr th {\n",
       "        vertical-align: top;\n",
       "    }\n",
       "\n",
       "    .dataframe thead th {\n",
       "        text-align: right;\n",
       "    }\n",
       "</style>\n",
       "<table border=\"1\" class=\"dataframe\">\n",
       "  <thead>\n",
       "    <tr style=\"text-align: right;\">\n",
       "      <th></th>\n",
       "      <th>astro-ph category</th>\n",
       "      <th>article count</th>\n",
       "    </tr>\n",
       "  </thead>\n",
       "  <tbody>\n",
       "    <tr>\n",
       "      <th>0</th>\n",
       "      <td>cosmology</td>\n",
       "      <td>11252</td>\n",
       "    </tr>\n",
       "    <tr>\n",
       "      <th>1</th>\n",
       "      <td>galaxies</td>\n",
       "      <td>15858</td>\n",
       "    </tr>\n",
       "    <tr>\n",
       "      <th>2</th>\n",
       "      <td>high_energy</td>\n",
       "      <td>12041</td>\n",
       "    </tr>\n",
       "    <tr>\n",
       "      <th>3</th>\n",
       "      <td>instrument</td>\n",
       "      <td>5976</td>\n",
       "    </tr>\n",
       "    <tr>\n",
       "      <th>4</th>\n",
       "      <td>planetary</td>\n",
       "      <td>6170</td>\n",
       "    </tr>\n",
       "    <tr>\n",
       "      <th>5</th>\n",
       "      <td>solar</td>\n",
       "      <td>12107</td>\n",
       "    </tr>\n",
       "  </tbody>\n",
       "</table>\n",
       "</div>"
      ],
      "text/plain": [
       "  astro-ph category  article count\n",
       "0         cosmology          11252\n",
       "1          galaxies          15858\n",
       "2       high_energy          12041\n",
       "3        instrument           5976\n",
       "4         planetary           6170\n",
       "5             solar          12107"
      ]
     },
     "execution_count": 10,
     "metadata": {},
     "output_type": "execute_result"
    }
   ],
   "source": [
    "cat_counts = pd.DataFrame.from_records([{\n",
    "    'cosmology' : len(df.terms.loc[df.terms.str.contains('astro-ph.CO')]),\n",
    "    'planetary' : len(df.terms.loc[df.terms.str.contains('astro-ph.EP')]),\n",
    "    'galaxies' : len(df.terms.loc[df.terms.str.contains('astro-ph.GA')]),\n",
    "    'high_energy' : len(df.terms.loc[df.terms.str.contains('astro-ph.HE')]),\n",
    "    'instrument' : len(df.terms.loc[df.terms.str.contains('astro-ph.IM')]),\n",
    "    'solar' : len(df.terms.loc[df.terms.str.contains('astro-ph.SR')])\n",
    "}]).T.reset_index()\n",
    "\n",
    "cat_counts.columns=['astro-ph category','article count']\n",
    "\n",
    "cat_counts"
   ]
  },
  {
   "cell_type": "code",
   "execution_count": 11,
   "metadata": {},
   "outputs": [
    {
     "data": {
      "image/png": "[encoded data removed]",
      "text/plain": [
       "<Figure size 864x576 with 1 Axes>"
      ]
     },
     "metadata": {
      "needs_background": "light"
     },
     "output_type": "display_data"
    }
   ],
   "source": [
    "#cat_counts = cat_counts.sort_values(by='article count', ascending=False)\n",
    "\n",
    "_ = plt.figure(figsize=(12,8))\n",
    "_ = sns.barplot(x='astro-ph category', y='article count', hue='astro-ph category', data=cat_counts, dodge=False)\n",
    "_ = plt.xlabel('arXiv astro-ph category')\n",
    "_ = plt.ylabel('Article count')\n",
    "_ = plt.title('Relative popularity of astro-ph categories in sample')"
   ]
  },
  {
   "cell_type": "markdown",
   "metadata": {},
   "source": [
    "### Now on to the abstract lengths.  How many sentences are in abstracts?"
   ]
  },
  {
   "cell_type": "code",
   "execution_count": 12,
   "metadata": {
    "scrolled": true
   },
   "outputs": [
    {
     "data": {
      "text/plain": [
       "count    49973.000000\n",
       "mean         7.750185\n",
       "std          2.805857\n",
       "min          1.000000\n",
       "25%          6.000000\n",
       "50%          8.000000\n",
       "75%         10.000000\n",
       "max         31.000000\n",
       "Name: sentences, dtype: float64"
      ]
     },
     "execution_count": 12,
     "metadata": {},
     "output_type": "execute_result"
    }
   ],
   "source": [
    "df['sentences'] = [(entry.count('. ') + 1) for entry in df.abstract]\n",
    "df.sentences.describe()"
   ]
  },
  {
   "cell_type": "code",
   "execution_count": 13,
   "metadata": {},
   "outputs": [
    {
     "data": {
      "image/png": "[encoded data removed]",
      "text/plain": [
       "<Figure size 864x576 with 1 Axes>"
      ]
     },
     "metadata": {
      "needs_background": "light"
     },
     "output_type": "display_data"
    }
   ],
   "source": [
    "_ = plt.figure(figsize=(12,8))\n",
    "_ = df.sentences.plot(kind='hist')\n",
    "_ = plt.xlabel('Number of sentences')\n",
    "_ = plt.ylabel('Article counts')\n",
    "_ = plt.title('Sentences per abstract in sample')"
   ]
  },
  {
   "cell_type": "markdown",
   "metadata": {},
   "source": [
    "### And now, the statistics on the entire sample:"
   ]
  },
  {
   "cell_type": "code",
   "execution_count": 14,
   "metadata": {},
   "outputs": [
    {
     "data": {
      "text/html": [
       "<div>\n",
       "<style scoped>\n",
       "    .dataframe tbody tr th:only-of-type {\n",
       "        vertical-align: middle;\n",
       "    }\n",
       "\n",
       "    .dataframe tbody tr th {\n",
       "        vertical-align: top;\n",
       "    }\n",
       "\n",
       "    .dataframe thead th {\n",
       "        text-align: right;\n",
       "    }\n",
       "</style>\n",
       "<table border=\"1\" class=\"dataframe\">\n",
       "  <thead>\n",
       "    <tr style=\"text-align: right;\">\n",
       "      <th></th>\n",
       "      <th>abstract</th>\n",
       "      <th>authors</th>\n",
       "      <th>comment</th>\n",
       "      <th>main_author</th>\n",
       "      <th>publish_date</th>\n",
       "      <th>term</th>\n",
       "      <th>terms</th>\n",
       "      <th>title</th>\n",
       "      <th>update_date</th>\n",
       "      <th>url</th>\n",
       "      <th>text</th>\n",
       "      <th>sentences</th>\n",
       "      <th>terms_len</th>\n",
       "    </tr>\n",
       "  </thead>\n",
       "  <tbody>\n",
       "    <tr>\n",
       "      <th>count</th>\n",
       "      <td>49973</td>\n",
       "      <td>49973</td>\n",
       "      <td>49973</td>\n",
       "      <td>49973</td>\n",
       "      <td>49973</td>\n",
       "      <td>49973</td>\n",
       "      <td>49973</td>\n",
       "      <td>49973</td>\n",
       "      <td>49973</td>\n",
       "      <td>49973</td>\n",
       "      <td>49973</td>\n",
       "      <td>49973.000000</td>\n",
       "      <td>49973.000000</td>\n",
       "    </tr>\n",
       "    <tr>\n",
       "      <th>unique</th>\n",
       "      <td>49973</td>\n",
       "      <td>45911</td>\n",
       "      <td>36808</td>\n",
       "      <td>26132</td>\n",
       "      <td>47676</td>\n",
       "      <td>83</td>\n",
       "      <td>2223</td>\n",
       "      <td>49942</td>\n",
       "      <td>48992</td>\n",
       "      <td>49973</td>\n",
       "      <td>49971</td>\n",
       "      <td>NaN</td>\n",
       "      <td>NaN</td>\n",
       "    </tr>\n",
       "    <tr>\n",
       "      <th>top</th>\n",
       "      <td>We present results based on a well sampled opt...</td>\n",
       "      <td>Shahar Hod</td>\n",
       "      <td>No comment found</td>\n",
       "      <td>Abraham Loeb</td>\n",
       "      <td>2017-12-11 19:00:13+00:00</td>\n",
       "      <td>astro-ph.GA</td>\n",
       "      <td>astro-ph.GA</td>\n",
       "      <td>Fast Radio Bursts</td>\n",
       "      <td>2018-01-18 19:00:00+00:00</td>\n",
       "      <td>http://arxiv.org/abs/1607.00874v2</td>\n",
       "      <td>evidence local single source cosmic ray amass ...</td>\n",
       "      <td>NaN</td>\n",
       "      <td>NaN</td>\n",
       "    </tr>\n",
       "    <tr>\n",
       "      <th>freq</th>\n",
       "      <td>1</td>\n",
       "      <td>43</td>\n",
       "      <td>3159</td>\n",
       "      <td>106</td>\n",
       "      <td>8</td>\n",
       "      <td>12027</td>\n",
       "      <td>8438</td>\n",
       "      <td>3</td>\n",
       "      <td>6</td>\n",
       "      <td>1</td>\n",
       "      <td>2</td>\n",
       "      <td>NaN</td>\n",
       "      <td>NaN</td>\n",
       "    </tr>\n",
       "    <tr>\n",
       "      <th>mean</th>\n",
       "      <td>NaN</td>\n",
       "      <td>NaN</td>\n",
       "      <td>NaN</td>\n",
       "      <td>NaN</td>\n",
       "      <td>NaN</td>\n",
       "      <td>NaN</td>\n",
       "      <td>NaN</td>\n",
       "      <td>NaN</td>\n",
       "      <td>NaN</td>\n",
       "      <td>NaN</td>\n",
       "      <td>NaN</td>\n",
       "      <td>7.750185</td>\n",
       "      <td>1.650731</td>\n",
       "    </tr>\n",
       "    <tr>\n",
       "      <th>std</th>\n",
       "      <td>NaN</td>\n",
       "      <td>NaN</td>\n",
       "      <td>NaN</td>\n",
       "      <td>NaN</td>\n",
       "      <td>NaN</td>\n",
       "      <td>NaN</td>\n",
       "      <td>NaN</td>\n",
       "      <td>NaN</td>\n",
       "      <td>NaN</td>\n",
       "      <td>NaN</td>\n",
       "      <td>NaN</td>\n",
       "      <td>2.805857</td>\n",
       "      <td>0.876737</td>\n",
       "    </tr>\n",
       "    <tr>\n",
       "      <th>min</th>\n",
       "      <td>NaN</td>\n",
       "      <td>NaN</td>\n",
       "      <td>NaN</td>\n",
       "      <td>NaN</td>\n",
       "      <td>NaN</td>\n",
       "      <td>NaN</td>\n",
       "      <td>NaN</td>\n",
       "      <td>NaN</td>\n",
       "      <td>NaN</td>\n",
       "      <td>NaN</td>\n",
       "      <td>NaN</td>\n",
       "      <td>1.000000</td>\n",
       "      <td>1.000000</td>\n",
       "    </tr>\n",
       "    <tr>\n",
       "      <th>25%</th>\n",
       "      <td>NaN</td>\n",
       "      <td>NaN</td>\n",
       "      <td>NaN</td>\n",
       "      <td>NaN</td>\n",
       "      <td>NaN</td>\n",
       "      <td>NaN</td>\n",
       "      <td>NaN</td>\n",
       "      <td>NaN</td>\n",
       "      <td>NaN</td>\n",
       "      <td>NaN</td>\n",
       "      <td>NaN</td>\n",
       "      <td>6.000000</td>\n",
       "      <td>1.000000</td>\n",
       "    </tr>\n",
       "    <tr>\n",
       "      <th>50%</th>\n",
       "      <td>NaN</td>\n",
       "      <td>NaN</td>\n",
       "      <td>NaN</td>\n",
       "      <td>NaN</td>\n",
       "      <td>NaN</td>\n",
       "      <td>NaN</td>\n",
       "      <td>NaN</td>\n",
       "      <td>NaN</td>\n",
       "      <td>NaN</td>\n",
       "      <td>NaN</td>\n",
       "      <td>NaN</td>\n",
       "      <td>8.000000</td>\n",
       "      <td>1.000000</td>\n",
       "    </tr>\n",
       "    <tr>\n",
       "      <th>75%</th>\n",
       "      <td>NaN</td>\n",
       "      <td>NaN</td>\n",
       "      <td>NaN</td>\n",
       "      <td>NaN</td>\n",
       "      <td>NaN</td>\n",
       "      <td>NaN</td>\n",
       "      <td>NaN</td>\n",
       "      <td>NaN</td>\n",
       "      <td>NaN</td>\n",
       "      <td>NaN</td>\n",
       "      <td>NaN</td>\n",
       "      <td>10.000000</td>\n",
       "      <td>2.000000</td>\n",
       "    </tr>\n",
       "    <tr>\n",
       "      <th>max</th>\n",
       "      <td>NaN</td>\n",
       "      <td>NaN</td>\n",
       "      <td>NaN</td>\n",
       "      <td>NaN</td>\n",
       "      <td>NaN</td>\n",
       "      <td>NaN</td>\n",
       "      <td>NaN</td>\n",
       "      <td>NaN</td>\n",
       "      <td>NaN</td>\n",
       "      <td>NaN</td>\n",
       "      <td>NaN</td>\n",
       "      <td>31.000000</td>\n",
       "      <td>7.000000</td>\n",
       "    </tr>\n",
       "  </tbody>\n",
       "</table>\n",
       "</div>"
      ],
      "text/plain": [
       "                                                 abstract     authors  \\\n",
       "count                                               49973       49973   \n",
       "unique                                              49973       45911   \n",
       "top     We present results based on a well sampled opt...  Shahar Hod   \n",
       "freq                                                    1          43   \n",
       "mean                                                  NaN         NaN   \n",
       "std                                                   NaN         NaN   \n",
       "min                                                   NaN         NaN   \n",
       "25%                                                   NaN         NaN   \n",
       "50%                                                   NaN         NaN   \n",
       "75%                                                   NaN         NaN   \n",
       "max                                                   NaN         NaN   \n",
       "\n",
       "                 comment   main_author               publish_date  \\\n",
       "count              49973         49973                      49973   \n",
       "unique             36808         26132                      47676   \n",
       "top     No comment found  Abraham Loeb  2017-12-11 19:00:13+00:00   \n",
       "freq                3159           106                          8   \n",
       "mean                 NaN           NaN                        NaN   \n",
       "std                  NaN           NaN                        NaN   \n",
       "min                  NaN           NaN                        NaN   \n",
       "25%                  NaN           NaN                        NaN   \n",
       "50%                  NaN           NaN                        NaN   \n",
       "75%                  NaN           NaN                        NaN   \n",
       "max                  NaN           NaN                        NaN   \n",
       "\n",
       "               term        terms              title  \\\n",
       "count         49973        49973              49973   \n",
       "unique           83         2223              49942   \n",
       "top     astro-ph.GA  astro-ph.GA  Fast Radio Bursts   \n",
       "freq          12027         8438                  3   \n",
       "mean            NaN          NaN                NaN   \n",
       "std             NaN          NaN                NaN   \n",
       "min             NaN          NaN                NaN   \n",
       "25%             NaN          NaN                NaN   \n",
       "50%             NaN          NaN                NaN   \n",
       "75%             NaN          NaN                NaN   \n",
       "max             NaN          NaN                NaN   \n",
       "\n",
       "                      update_date                                url  \\\n",
       "count                       49973                              49973   \n",
       "unique                      48992                              49973   \n",
       "top     2018-01-18 19:00:00+00:00  http://arxiv.org/abs/1607.00874v2   \n",
       "freq                            6                                  1   \n",
       "mean                          NaN                                NaN   \n",
       "std                           NaN                                NaN   \n",
       "min                           NaN                                NaN   \n",
       "25%                           NaN                                NaN   \n",
       "50%                           NaN                                NaN   \n",
       "75%                           NaN                                NaN   \n",
       "max                           NaN                                NaN   \n",
       "\n",
       "                                                     text     sentences  \\\n",
       "count                                               49973  49973.000000   \n",
       "unique                                              49971           NaN   \n",
       "top     evidence local single source cosmic ray amass ...           NaN   \n",
       "freq                                                    2           NaN   \n",
       "mean                                                  NaN      7.750185   \n",
       "std                                                   NaN      2.805857   \n",
       "min                                                   NaN      1.000000   \n",
       "25%                                                   NaN      6.000000   \n",
       "50%                                                   NaN      8.000000   \n",
       "75%                                                   NaN     10.000000   \n",
       "max                                                   NaN     31.000000   \n",
       "\n",
       "           terms_len  \n",
       "count   49973.000000  \n",
       "unique           NaN  \n",
       "top              NaN  \n",
       "freq             NaN  \n",
       "mean        1.650731  \n",
       "std         0.876737  \n",
       "min         1.000000  \n",
       "25%         1.000000  \n",
       "50%         1.000000  \n",
       "75%         2.000000  \n",
       "max         7.000000  "
      ]
     },
     "execution_count": 14,
     "metadata": {},
     "output_type": "execute_result"
    }
   ],
   "source": [
    "df.describe(include='all')"
   ]
  },
  {
   "cell_type": "code",
   "execution_count": 15,
   "metadata": {},
   "outputs": [
    {
     "data": {
      "text/plain": [
       "'2016-03-22 19:33:56+00:00'"
      ]
     },
     "execution_count": 15,
     "metadata": {},
     "output_type": "execute_result"
    }
   ],
   "source": [
    "min(df.update_date)"
   ]
  },
  {
   "cell_type": "markdown",
   "metadata": {},
   "source": [
    "# Anything after this block is created using data that isn't explored in the rest of the project.\n",
    "\n",
    "The full dataset is too much for my computer to parse, but I was curious about how the submissions might have changed over time.  Here I'll be looking at some year-by-year comparisons for category popularity and sentence length."
   ]
  },
  {
   "cell_type": "code",
   "execution_count": 16,
   "metadata": {},
   "outputs": [
    {
     "data": {
      "text/plain": [
       "'..\\\\data\\\\astro_eda_only.csv'"
      ]
     },
     "execution_count": 16,
     "metadata": {},
     "output_type": "execute_result"
    }
   ],
   "source": [
    "file_137k = os.path.join('..','data','astro_eda_only.csv')\n",
    "\n",
    "file_137k"
   ]
  },
  {
   "cell_type": "code",
   "execution_count": 17,
   "metadata": {
    "scrolled": true
   },
   "outputs": [
    {
     "data": {
      "text/html": [
       "<div>\n",
       "<style scoped>\n",
       "    .dataframe tbody tr th:only-of-type {\n",
       "        vertical-align: middle;\n",
       "    }\n",
       "\n",
       "    .dataframe tbody tr th {\n",
       "        vertical-align: top;\n",
       "    }\n",
       "\n",
       "    .dataframe thead th {\n",
       "        text-align: right;\n",
       "    }\n",
       "</style>\n",
       "<table border=\"1\" class=\"dataframe\">\n",
       "  <thead>\n",
       "    <tr style=\"text-align: right;\">\n",
       "      <th></th>\n",
       "      <th>abstract</th>\n",
       "      <th>authors</th>\n",
       "      <th>comment</th>\n",
       "      <th>main_author</th>\n",
       "      <th>publish_date</th>\n",
       "      <th>term</th>\n",
       "      <th>terms</th>\n",
       "      <th>title</th>\n",
       "      <th>update_date</th>\n",
       "      <th>url</th>\n",
       "      <th>text</th>\n",
       "      <th>year</th>\n",
       "    </tr>\n",
       "  </thead>\n",
       "  <tbody>\n",
       "    <tr>\n",
       "      <th>7136</th>\n",
       "      <td>We study the chaotic-like behavior of cosmolog...</td>\n",
       "      <td>Shy Genel, Greg L. Bryan, Volker Springel, Lar...</td>\n",
       "      <td>Key figures: 10 &amp; 11. Accepted for publication...</td>\n",
       "      <td>Mark Vogelsberger</td>\n",
       "      <td>2018-07-18 18:00:08+00:00</td>\n",
       "      <td>astro-ph.GA</td>\n",
       "      <td>astro-ph.GA|astro-ph.IM</td>\n",
       "      <td>A Quantification of the Butterfly Effect in Co...</td>\n",
       "      <td>2018-12-31 23:27:27+00:00</td>\n",
       "      <td>http://arxiv.org/abs/1807.07084v2</td>\n",
       "      <td>We study the chaotic-like behavior of cosmolog...</td>\n",
       "      <td>2018</td>\n",
       "    </tr>\n",
       "    <tr>\n",
       "      <th>7137</th>\n",
       "      <td>Powerful radio sources and quasars emit relati...</td>\n",
       "      <td>Daniel A Schwartz, Aneta Siemiginowska, Diana ...</td>\n",
       "      <td>6 pages, 4 figures. In proceedings of the IWAR...</td>\n",
       "      <td>Doug Gobeille</td>\n",
       "      <td>2018-12-31 22:25:25+00:00</td>\n",
       "      <td>astro-ph.HE</td>\n",
       "      <td>astro-ph.HE</td>\n",
       "      <td>Relativistic X-ray jets at high redshift</td>\n",
       "      <td>2018-12-31 22:25:25+00:00</td>\n",
       "      <td>http://arxiv.org/abs/1901.00057v1</td>\n",
       "      <td>Powerful radio sources and quasars emit relati...</td>\n",
       "      <td>2018</td>\n",
       "    </tr>\n",
       "    <tr>\n",
       "      <th>7138</th>\n",
       "      <td>We report the discovery of two Li-rich giant s...</td>\n",
       "      <td>A. Mucciarelli, L. Monaco, P. Bonifacio, M. Sa...</td>\n",
       "      <td>Accepted for publication in A&amp;A</td>\n",
       "      <td>S. Villanova</td>\n",
       "      <td>2018-12-31 21:06:38+00:00</td>\n",
       "      <td>astro-ph.SR</td>\n",
       "      <td>astro-ph.SR</td>\n",
       "      <td>The discovery of a Li-Na-rich giant star in Om...</td>\n",
       "      <td>2018-12-31 21:06:38+00:00</td>\n",
       "      <td>http://arxiv.org/abs/1901.00048v1</td>\n",
       "      <td>We report the discovery of two Li-rich giant s...</td>\n",
       "      <td>2018</td>\n",
       "    </tr>\n",
       "    <tr>\n",
       "      <th>7139</th>\n",
       "      <td>We report the first detection of hard (&gt;10 keV...</td>\n",
       "      <td>Thomas Nelson, Koji Mukai, Kwan-Lok Li, Indrek...</td>\n",
       "      <td>Accepted for publication in the Astrophysical ...</td>\n",
       "      <td>Paul Luckas</td>\n",
       "      <td>2018-12-31 19:46:40+00:00</td>\n",
       "      <td>astro-ph.HE</td>\n",
       "      <td>astro-ph.HE</td>\n",
       "      <td>NuSTAR Detection of X-rays Concurrent with Gam...</td>\n",
       "      <td>2018-12-31 19:46:40+00:00</td>\n",
       "      <td>http://arxiv.org/abs/1901.00030v1</td>\n",
       "      <td>We report the first detection of hard (&gt;10 keV...</td>\n",
       "      <td>2018</td>\n",
       "    </tr>\n",
       "    <tr>\n",
       "      <th>7140</th>\n",
       "      <td>The All-Sky Automated Survey for Supernovae (A...</td>\n",
       "      <td>T. Jayasinghe, K. Z. Stanek, C. S. Kochanek, B...</td>\n",
       "      <td>13 pages, 12 figures. Submitted to MNRAS</td>\n",
       "      <td>D. Will</td>\n",
       "      <td>2018-12-31 19:00:02+00:00</td>\n",
       "      <td>astro-ph.SR</td>\n",
       "      <td>astro-ph.SR</td>\n",
       "      <td>The ASAS-SN Catalog of Variable Stars III: Var...</td>\n",
       "      <td>2018-12-31 19:00:02+00:00</td>\n",
       "      <td>http://arxiv.org/abs/1901.00009v1</td>\n",
       "      <td>The All-Sky Automated Survey for Supernovae (A...</td>\n",
       "      <td>2018</td>\n",
       "    </tr>\n",
       "  </tbody>\n",
       "</table>\n",
       "</div>"
      ],
      "text/plain": [
       "                                               abstract  \\\n",
       "7136  We study the chaotic-like behavior of cosmolog...   \n",
       "7137  Powerful radio sources and quasars emit relati...   \n",
       "7138  We report the discovery of two Li-rich giant s...   \n",
       "7139  We report the first detection of hard (>10 keV...   \n",
       "7140  The All-Sky Automated Survey for Supernovae (A...   \n",
       "\n",
       "                                                authors  \\\n",
       "7136  Shy Genel, Greg L. Bryan, Volker Springel, Lar...   \n",
       "7137  Daniel A Schwartz, Aneta Siemiginowska, Diana ...   \n",
       "7138  A. Mucciarelli, L. Monaco, P. Bonifacio, M. Sa...   \n",
       "7139  Thomas Nelson, Koji Mukai, Kwan-Lok Li, Indrek...   \n",
       "7140  T. Jayasinghe, K. Z. Stanek, C. S. Kochanek, B...   \n",
       "\n",
       "                                                comment        main_author  \\\n",
       "7136  Key figures: 10 & 11. Accepted for publication...  Mark Vogelsberger   \n",
       "7137  6 pages, 4 figures. In proceedings of the IWAR...      Doug Gobeille   \n",
       "7138                    Accepted for publication in A&A       S. Villanova   \n",
       "7139  Accepted for publication in the Astrophysical ...        Paul Luckas   \n",
       "7140           13 pages, 12 figures. Submitted to MNRAS            D. Will   \n",
       "\n",
       "                   publish_date         term                    terms  \\\n",
       "7136  2018-07-18 18:00:08+00:00  astro-ph.GA  astro-ph.GA|astro-ph.IM   \n",
       "7137  2018-12-31 22:25:25+00:00  astro-ph.HE              astro-ph.HE   \n",
       "7138  2018-12-31 21:06:38+00:00  astro-ph.SR              astro-ph.SR   \n",
       "7139  2018-12-31 19:46:40+00:00  astro-ph.HE              astro-ph.HE   \n",
       "7140  2018-12-31 19:00:02+00:00  astro-ph.SR              astro-ph.SR   \n",
       "\n",
       "                                                  title  \\\n",
       "7136  A Quantification of the Butterfly Effect in Co...   \n",
       "7137           Relativistic X-ray jets at high redshift   \n",
       "7138  The discovery of a Li-Na-rich giant star in Om...   \n",
       "7139  NuSTAR Detection of X-rays Concurrent with Gam...   \n",
       "7140  The ASAS-SN Catalog of Variable Stars III: Var...   \n",
       "\n",
       "                    update_date                                url  \\\n",
       "7136  2018-12-31 23:27:27+00:00  http://arxiv.org/abs/1807.07084v2   \n",
       "7137  2018-12-31 22:25:25+00:00  http://arxiv.org/abs/1901.00057v1   \n",
       "7138  2018-12-31 21:06:38+00:00  http://arxiv.org/abs/1901.00048v1   \n",
       "7139  2018-12-31 19:46:40+00:00  http://arxiv.org/abs/1901.00030v1   \n",
       "7140  2018-12-31 19:00:02+00:00  http://arxiv.org/abs/1901.00009v1   \n",
       "\n",
       "                                                   text  year  \n",
       "7136  We study the chaotic-like behavior of cosmolog...  2018  \n",
       "7137  Powerful radio sources and quasars emit relati...  2018  \n",
       "7138  We report the discovery of two Li-rich giant s...  2018  \n",
       "7139  We report the first detection of hard (>10 keV...  2018  \n",
       "7140  The All-Sky Automated Survey for Supernovae (A...  2018  "
      ]
     },
     "execution_count": 17,
     "metadata": {},
     "output_type": "execute_result"
    }
   ],
   "source": [
    "# Read in the entire file, create a column for the year information, and remove data before 2015 and the partial 2019\n",
    "df_137k = pd.read_csv(file_137k, index_col=0)\n",
    "df_137k['year'] = [year[:4] for year in df_137k.update_date]\n",
    "df_137k = df_137k.loc[('2018' >= df_137k.year) & (df_137k.year >= '2015')]\n",
    "df_137k.head()"
   ]
  },
  {
   "cell_type": "code",
   "execution_count": 18,
   "metadata": {},
   "outputs": [
    {
     "data": {
      "text/plain": [
       "count    59605.000000\n",
       "mean         1.653066\n",
       "std          0.875368\n",
       "min          1.000000\n",
       "25%          1.000000\n",
       "50%          1.000000\n",
       "75%          2.000000\n",
       "max          7.000000\n",
       "Name: terms_len, dtype: float64"
      ]
     },
     "execution_count": 18,
     "metadata": {},
     "output_type": "execute_result"
    }
   ],
   "source": [
    "# Create the terms_len column in order to plot the number of categories to which each article is submitted\n",
    "df_137k['terms_len'] = [len(x.split('|')) for x in df_137k.terms]\n",
    "df_137k.terms_len.describe()"
   ]
  },
  {
   "cell_type": "code",
   "execution_count": 19,
   "metadata": {},
   "outputs": [
    {
     "data": {
      "image/png": "[encoded data removed]",
      "text/plain": [
       "<Figure size 864x576 with 1 Axes>"
      ]
     },
     "metadata": {
      "needs_background": "light"
     },
     "output_type": "display_data"
    }
   ],
   "source": [
    "_ = plt.figure(figsize=(12,8))\n",
    "_ = sns.barplot(x='year', y='terms_len', hue='year', data=df_137k, dodge=False, ci=None)\n",
    "_ = plt.xlabel('Year')\n",
    "_ = plt.ylabel('Categories over all arXiv')\n",
    "_ = plt.title('Average number categories to which articles were submitted, 2015 to 2018')\n",
    "_ = plt.ylim(0,2)"
   ]
  },
  {
   "cell_type": "code",
   "execution_count": 20,
   "metadata": {},
   "outputs": [
    {
     "data": {
      "text/html": [
       "<div>\n",
       "<style scoped>\n",
       "    .dataframe tbody tr th:only-of-type {\n",
       "        vertical-align: middle;\n",
       "    }\n",
       "\n",
       "    .dataframe tbody tr th {\n",
       "        vertical-align: top;\n",
       "    }\n",
       "\n",
       "    .dataframe thead th {\n",
       "        text-align: right;\n",
       "    }\n",
       "</style>\n",
       "<table border=\"1\" class=\"dataframe\">\n",
       "  <thead>\n",
       "    <tr style=\"text-align: right;\">\n",
       "      <th></th>\n",
       "      <th>astro-ph category</th>\n",
       "      <th>article count</th>\n",
       "      <th>year</th>\n",
       "    </tr>\n",
       "  </thead>\n",
       "  <tbody>\n",
       "    <tr>\n",
       "      <th>0</th>\n",
       "      <td>cosmology</td>\n",
       "      <td>3756</td>\n",
       "      <td>2015</td>\n",
       "    </tr>\n",
       "    <tr>\n",
       "      <th>1</th>\n",
       "      <td>cosmology</td>\n",
       "      <td>3422</td>\n",
       "      <td>2018</td>\n",
       "    </tr>\n",
       "    <tr>\n",
       "      <th>2</th>\n",
       "      <td>galaxies</td>\n",
       "      <td>3538</td>\n",
       "      <td>2015</td>\n",
       "    </tr>\n",
       "    <tr>\n",
       "      <th>3</th>\n",
       "      <td>galaxies</td>\n",
       "      <td>5180</td>\n",
       "      <td>2018</td>\n",
       "    </tr>\n",
       "    <tr>\n",
       "      <th>4</th>\n",
       "      <td>high_energy</td>\n",
       "      <td>3538</td>\n",
       "      <td>2015</td>\n",
       "    </tr>\n",
       "    <tr>\n",
       "      <th>5</th>\n",
       "      <td>high_energy</td>\n",
       "      <td>3660</td>\n",
       "      <td>2018</td>\n",
       "    </tr>\n",
       "    <tr>\n",
       "      <th>6</th>\n",
       "      <td>instrument</td>\n",
       "      <td>1392</td>\n",
       "      <td>2015</td>\n",
       "    </tr>\n",
       "    <tr>\n",
       "      <th>7</th>\n",
       "      <td>instrument</td>\n",
       "      <td>2055</td>\n",
       "      <td>2018</td>\n",
       "    </tr>\n",
       "    <tr>\n",
       "      <th>8</th>\n",
       "      <td>planetary</td>\n",
       "      <td>1598</td>\n",
       "      <td>2015</td>\n",
       "    </tr>\n",
       "    <tr>\n",
       "      <th>9</th>\n",
       "      <td>planetary</td>\n",
       "      <td>1971</td>\n",
       "      <td>2018</td>\n",
       "    </tr>\n",
       "    <tr>\n",
       "      <th>10</th>\n",
       "      <td>solar</td>\n",
       "      <td>3298</td>\n",
       "      <td>2015</td>\n",
       "    </tr>\n",
       "    <tr>\n",
       "      <th>11</th>\n",
       "      <td>solar</td>\n",
       "      <td>3739</td>\n",
       "      <td>2018</td>\n",
       "    </tr>\n",
       "  </tbody>\n",
       "</table>\n",
       "</div>"
      ],
      "text/plain": [
       "   astro-ph category  article count  year\n",
       "0          cosmology           3756  2015\n",
       "1          cosmology           3422  2018\n",
       "2           galaxies           3538  2015\n",
       "3           galaxies           5180  2018\n",
       "4        high_energy           3538  2015\n",
       "5        high_energy           3660  2018\n",
       "6         instrument           1392  2015\n",
       "7         instrument           2055  2018\n",
       "8          planetary           1598  2015\n",
       "9          planetary           1971  2018\n",
       "10             solar           3298  2015\n",
       "11             solar           3739  2018"
      ]
     },
     "execution_count": 20,
     "metadata": {},
     "output_type": "execute_result"
    }
   ],
   "source": [
    "# Divide out the categories and the years of interest to plot changes\n",
    "cat_counts = pd.DataFrame.from_records([{\n",
    "    'cosmology_2015' : len(df_137k.terms.loc[(df_137k.terms.str.contains('astro-ph.CO')) & (df_137k.year=='2015')]),\n",
    "    'cosmology_2018' : len(df_137k.terms.loc[(df_137k.terms.str.contains('astro-ph.CO')) & (df_137k.year=='2018')]),\n",
    "    'planetary_2015' : len(df_137k.terms.loc[(df_137k.terms.str.contains('astro-ph.EP')) & (df_137k.year=='2015')]),\n",
    "    'planetary_2018' : len(df_137k.terms.loc[(df_137k.terms.str.contains('astro-ph.EP')) & (df_137k.year=='2018')]),\n",
    "    'galaxies_2015' : len(df_137k.terms.loc[(df_137k.terms.str.contains('astro-ph.GA')) & (df_137k.year=='2015')]),\n",
    "    'galaxies_2018' : len(df_137k.terms.loc[(df_137k.terms.str.contains('astro-ph.GA')) & (df_137k.year=='2018')]),\n",
    "    'high_energy_2015' : len(df_137k.terms.loc[(df_137k.terms.str.contains('astro-ph.HE')) & (df_137k.year=='2015')]),\n",
    "    'high_energy_2018' : len(df_137k.terms.loc[(df_137k.terms.str.contains('astro-ph.HE')) & (df_137k.year=='2018')]),\n",
    "    'instrument_2015' : len(df_137k.terms.loc[(df_137k.terms.str.contains('astro-ph.IM')) & (df_137k.year=='2015')]),\n",
    "    'instrument_2018' : len(df_137k.terms.loc[(df_137k.terms.str.contains('astro-ph.IM')) & (df_137k.year=='2018')]),\n",
    "    'solar_2015' : len(df_137k.terms.loc[(df_137k.terms.str.contains('astro-ph.SR')) & (df_137k.year=='2015')]),\n",
    "    'solar_2018' : len(df_137k.terms.loc[(df_137k.terms.str.contains('astro-ph.SR')) & (df_137k.year=='2018')])\n",
    "}]).T.reset_index()\n",
    "\n",
    "cat_counts.columns=['astro-ph category','article count']\n",
    "\n",
    "cat_counts['year'] = [year[-4:] for year in cat_counts['astro-ph category']]\n",
    "cat_counts['astro-ph category'] = [cat[:-5] for cat in cat_counts['astro-ph category']]\n",
    "cat_counts"
   ]
  },
  {
   "cell_type": "code",
   "execution_count": 21,
   "metadata": {},
   "outputs": [
    {
     "data": {
      "image/png": "[encoded data removed]",
      "text/plain": [
       "<Figure size 864x576 with 1 Axes>"
      ]
     },
     "metadata": {
      "needs_background": "light"
     },
     "output_type": "display_data"
    }
   ],
   "source": [
    "_ = plt.figure(figsize=(12,8))\n",
    "_ = sns.barplot(x='year', y='article count', hue='astro-ph category', data=cat_counts)\n",
    "_ = plt.xlabel('')\n",
    "_ = plt.ylabel('Submission count')\n",
    "_ = plt.title('Change in submissions to astro-ph categories, 2015 to 2018')"
   ]
  },
  {
   "cell_type": "code",
   "execution_count": 22,
   "metadata": {
    "scrolled": true
   },
   "outputs": [
    {
     "data": {
      "text/plain": [
       "(17120, 20027)"
      ]
     },
     "execution_count": 22,
     "metadata": {},
     "output_type": "execute_result"
    }
   ],
   "source": [
    "sum_2015 = sum(cat_counts['article count'].loc[cat_counts.year=='2015'])\n",
    "sum_2018 = sum(cat_counts['article count'].loc[cat_counts.year=='2018'])\n",
    "\n",
    "sum_2015, sum_2018"
   ]
  },
  {
   "cell_type": "code",
   "execution_count": 23,
   "metadata": {},
   "outputs": [
    {
     "data": {
      "text/plain": [
       "count    59605.000000\n",
       "mean         7.735811\n",
       "std          2.842063\n",
       "min          1.000000\n",
       "25%          6.000000\n",
       "50%          8.000000\n",
       "75%         10.000000\n",
       "max         31.000000\n",
       "Name: sentences, dtype: float64"
      ]
     },
     "execution_count": 23,
     "metadata": {},
     "output_type": "execute_result"
    }
   ],
   "source": [
    "# Add a column for number of sentences to track averages\n",
    "df_137k['sentences'] = [(entry.count('. ') + 1) for entry in df_137k.abstract]\n",
    "df_137k.sentences.describe()"
   ]
  },
  {
   "cell_type": "code",
   "execution_count": 24,
   "metadata": {},
   "outputs": [],
   "source": [
    "# Create a groupby to plot sentence averages\n",
    "sent_count = df_137k[['sentences', 'year']].groupby('year').mean().reset_index()"
   ]
  },
  {
   "cell_type": "code",
   "execution_count": 25,
   "metadata": {},
   "outputs": [
    {
     "data": {
      "text/html": [
       "<div>\n",
       "<style scoped>\n",
       "    .dataframe tbody tr th:only-of-type {\n",
       "        vertical-align: middle;\n",
       "    }\n",
       "\n",
       "    .dataframe tbody tr th {\n",
       "        vertical-align: top;\n",
       "    }\n",
       "\n",
       "    .dataframe thead th {\n",
       "        text-align: right;\n",
       "    }\n",
       "</style>\n",
       "<table border=\"1\" class=\"dataframe\">\n",
       "  <thead>\n",
       "    <tr style=\"text-align: right;\">\n",
       "      <th></th>\n",
       "      <th>year</th>\n",
       "      <th>sentences</th>\n",
       "    </tr>\n",
       "  </thead>\n",
       "  <tbody>\n",
       "    <tr>\n",
       "      <th>0</th>\n",
       "      <td>2015</td>\n",
       "      <td>7.620370</td>\n",
       "    </tr>\n",
       "    <tr>\n",
       "      <th>1</th>\n",
       "      <td>2016</td>\n",
       "      <td>7.778595</td>\n",
       "    </tr>\n",
       "    <tr>\n",
       "      <th>2</th>\n",
       "      <td>2017</td>\n",
       "      <td>7.769159</td>\n",
       "    </tr>\n",
       "    <tr>\n",
       "      <th>3</th>\n",
       "      <td>2018</td>\n",
       "      <td>7.760435</td>\n",
       "    </tr>\n",
       "  </tbody>\n",
       "</table>\n",
       "</div>"
      ],
      "text/plain": [
       "   year  sentences\n",
       "0  2015   7.620370\n",
       "1  2016   7.778595\n",
       "2  2017   7.769159\n",
       "3  2018   7.760435"
      ]
     },
     "execution_count": 25,
     "metadata": {},
     "output_type": "execute_result"
    }
   ],
   "source": [
    "sent_count"
   ]
  },
  {
   "cell_type": "code",
   "execution_count": 26,
   "metadata": {},
   "outputs": [
    {
     "data": {
      "image/png": "[encoded data removed]",
      "text/plain": [
       "<Figure size 864x576 with 1 Axes>"
      ]
     },
     "metadata": {
      "needs_background": "light"
     },
     "output_type": "display_data"
    }
   ],
   "source": [
    "_ = plt.figure(figsize=(12,8))\n",
    "_ = sns.barplot(x='year', y='sentences', hue='year', data=sent_count, dodge=False)\n",
    "_ = plt.xlabel('')\n",
    "_ = plt.ylabel('Sentence count')\n",
    "_ = plt.title('Average sentences per abstract, 2015 to 2018')\n",
    "_ = plt.ylim(0, 9)"
   ]
  }
 ],
 "metadata": {
  "kernelspec": {
   "display_name": "Python 3",
   "language": "python",
   "name": "python3"
  },
  "language_info": {
   "codemirror_mode": {
    "name": "ipython",
    "version": 3
   },
   "file_extension": ".py",
   "mimetype": "text/x-python",
   "name": "python",
   "nbconvert_exporter": "python",
   "pygments_lexer": "ipython3",
   "version": "3.7.2"
  }
 },
 "nbformat": 4,
 "nbformat_minor": 2
}

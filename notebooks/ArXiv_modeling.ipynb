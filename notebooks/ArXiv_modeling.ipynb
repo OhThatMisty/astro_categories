{
 "cells": [
  {
   "cell_type": "markdown",
   "metadata": {},
   "source": [
    "# 'Recommendation of similar articles from journal abstract analysis'  \n",
    "# Modeling for recommendation creation\n",
    "## 2019, Misty M. Giles\n",
    "### https://github.com/OhThatMisty/astro_categories/"
   ]
  },
  {
   "cell_type": "code",
   "execution_count": 1,
   "metadata": {},
   "outputs": [
    {
     "name": "stderr",
     "output_type": "stream",
     "text": [
      "C:\\Users\\Misty\\Anaconda3\\lib\\site-packages\\smart_open\\ssh.py:34: UserWarning: paramiko missing, opening SSH/SCP/SFTP paths will be disabled.  `pip install paramiko` to suppress\n",
      "  warnings.warn('paramiko missing, opening SSH/SCP/SFTP paths will be disabled.  `pip install paramiko` to suppress')\n",
      "C:\\Users\\Misty\\Anaconda3\\lib\\site-packages\\gensim\\utils.py:1197: UserWarning: detected Windows; aliasing chunkize to chunkize_serial\n",
      "  warnings.warn(\"detected Windows; aliasing chunkize to chunkize_serial\")\n"
     ]
    }
   ],
   "source": [
    "%matplotlib inline\n",
    "\n",
    "from gensim.parsing.preprocessing import remove_stopwords, strip_punctuation, strip_short\n",
    "import matplotlib.pyplot as plt\n",
    "import numpy as np\n",
    "import os\n",
    "import pandas as pd\n",
    "import re\n",
    "import seaborn as sns\n",
    "from sklearn.feature_extraction.text import TfidfVectorizer\n",
    "from sklearn.metrics.pairwise import linear_kernel\n",
    "import spacy\n",
    "import unicodedata\n",
    "\n",
    "plt.style.use('fivethirtyeight')"
   ]
  },
  {
   "cell_type": "code",
   "execution_count": 2,
   "metadata": {},
   "outputs": [],
   "source": [
    "def normalize(text):\n",
    "    '''Convert to ascii, remove special characters associated with LaTeX when given a df column,\n",
    "       only keep alpha chars'''\n",
    "    normalized_text = []\n",
    "    \n",
    "    for t in text:\n",
    "        t = unicodedata.normalize('NFKD', t).encode('ascii', 'ignore').decode('utf-8', 'ignore').lower()\n",
    "        # This pair is necessary to separate some words because of the LaTeX/mathtext formatting \n",
    "        t = re.sub('mathrm|gtrsim|lesssim|odot|langle', ' ', t)\n",
    "        t = re.sub('rangle|rm off|\\\\\\\\\\S*|\\$\\S*\\$|\\set[\\. ]+al[\\. ]+', ' ', t) \n",
    "        # Collapse terms like x-ray that are disappearing\n",
    "        t = re.sub(r'\\bx-\\b', 'x_', t)\n",
    "        # Remove everthing but alpha, underscores\n",
    "        t = re.sub('[^a-zA-Z_]+', ' ', remove_stopwords(t))\n",
    "        # strip_short gets rid of the rest of the math leftovers\n",
    "        normalized_text.append(strip_short(t, minsize=2))\n",
    "    return normalized_text\n",
    "\n",
    "# This function is to remove excess whitespace \n",
    "def remove(token):\n",
    "    '''Provide feedback on whether a token is excess whitespace'''\n",
    "    return token.is_space or token.is_digit\n",
    "\n",
    "# This function ensures that all printouts use the same formula\n",
    "def join_tokens(sent):\n",
    "    '''Joins tokens in a sent without whatever is in remove(), adds pronoun back\n",
    "       in instead of -PRON-'''\n",
    "    return ' '.join([token.lemma_ if token.lemma_ != '-PRON-' else token.text.lower()\n",
    "                     for token in sent if not remove(token)])\n",
    "\n",
    "# This function prevents nested lists that kill the vectorizer\n",
    "def join_sentences(doc):\n",
    "    '''Joins sentences in a doc (includes join_tokens)'''\n",
    "    return ' '.join([join_tokens(sent) for sent in doc.sents])\n",
    "\n",
    "# Set up spacy to lemmatize the text\n",
    "nlp = spacy.load('en', disable=['ner'])"
   ]
  },
  {
   "cell_type": "markdown",
   "metadata": {},
   "source": [
    "###  Change the \"docs_to_run\" variable in this box to reflect testing/full run."
   ]
  },
  {
   "cell_type": "code",
   "execution_count": 3,
   "metadata": {
    "scrolled": true
   },
   "outputs": [
    {
     "name": "stdout",
     "output_type": "stream",
     "text": [
      "Setting up to train on 58772 abstracts.\n",
      "Setting up test block of 1200 abstracts.\n",
      "Total 59972 abstracts in session.\n"
     ]
    }
   ],
   "source": [
    "# Get the csv file created in the cleaning notebook\n",
    "file = os.path.join('..', 'data', 'astro_intermediate.csv')\n",
    "df = pd.read_csv(file, index_col=0)\n",
    "# Shuffle the df so that all times available are represented in both test and train\n",
    "df = df.sample(frac=1).reset_index(drop=True)\n",
    "\n",
    "# Set variables for testing speed\n",
    "docs_to_run = len(df)  # 1000 for testing, len(df) for real processing\n",
    "train_docs = int(0.98 * docs_to_run)  # 98% training, 2% test\n",
    "test_docs = docs_to_run - train_docs\n",
    "print('Setting up to train on', train_docs, 'abstracts.')\n",
    "print('Setting up test block of', test_docs, 'abstracts.')\n",
    "print('Total', docs_to_run, 'abstracts in session.')\n",
    "\n",
    "# Set up the sentences_file needed in later steps\n",
    "sentences_file = os.path.join('..', 'data', 'astro_normalized_premodel.txt')"
   ]
  },
  {
   "cell_type": "markdown",
   "metadata": {},
   "source": [
    "### For the next three boxes (4, 5, 6):  Box 4 will take quite awhile to run.  Box 5 writes the result of box 4 to a text file.  Box 6 will stream the text file back into the notebook or recreate the variable \"text\" that can be used in the rest of the notebook without any more changes.  Box 6 will need to be altered depending on your purpose. "
   ]
  },
  {
   "cell_type": "code",
   "execution_count": 4,
   "metadata": {},
   "outputs": [
    {
     "name": "stdout",
     "output_type": "stream",
     "text": [
      "Wall time: 56min 20s\n"
     ]
    }
   ],
   "source": [
    "%%time\n",
    "\n",
    "# This is the long box - 1h on quad-core, 8G RAM machine.  If you already have the sentences_file\n",
    "# saved, you can ignore these two boxes and make any alterations you need to in the following box.\n",
    "\n",
    "# Clean the file (remove punctuation, lowercase, lemmatize, remove 1-char objects --\n",
    "# most are math/LaTeX formatting leftovers or possessives)\n",
    "text = [join_sentences(doc) for doc in nlp.pipe(normalize(df.abstract[:docs_to_run]), batch_size=50)]"
   ]
  },
  {
   "cell_type": "code",
   "execution_count": 5,
   "metadata": {},
   "outputs": [],
   "source": [
    "# Ignore this box if using the sentences_file from GitHub.\n",
    "\n",
    "# Create a filepath and write out the sentences, removing stopwords to save space on GitHub.\n",
    "with open(sentences_file, 'w') as out_file:\n",
    "     for sent in text:\n",
    "            out_file.write(remove_stopwords(sent) + '\\n')"
   ]
  },
  {
   "cell_type": "code",
   "execution_count": 6,
   "metadata": {},
   "outputs": [],
   "source": [
    "# This is the box where you might need some edits if using the sentences_file.  If you are, \n",
    "# results might slightly vary.\n",
    "\n",
    "# Code for printing out an article from the text file to test it.  Can be used to stream\n",
    "# if you use the iterator method.\n",
    "\n",
    "# Iterator method (uncomment all three lines):\n",
    "#sentences = open(sentences_file, 'r')\n",
    "#for i, line in enumerate(sentences):\n",
    "#    if i == 10980: print(line)\n",
    "        \n",
    "# Recreate the variable \"text\" (uncomment 1st, 2nd, 4th):\n",
    "#with open(sentences_file, 'r') as in_file:\n",
    "#    text = list(in_file)\n",
    "# Test that \"text\" recreated appropriately (printout should be a list with string: ['lots of words'])\n",
    "#text[10980:10981]"
   ]
  },
  {
   "cell_type": "code",
   "execution_count": 117,
   "metadata": {},
   "outputs": [
    {
     "name": "stdout",
     "output_type": "stream",
     "text": [
      "Sample abstract to demonstrate cleaning (or verify good import):\n",
      "\n",
      "present analysis full orbit spectroscopic phase curve ultra hot jupiter wasp obtain wide field camera aboard hubble space telescope measure planet normalize day night contrast luminosity disk integrate dayside emission planet ppm correspond place upper limit nightside emission ppm sigma level peak phase curve exhibit small significant offset brightness degree eastward compare extract phase curve phase resolve spectra global circulation model broadly datum reproduce model comparison constraint atmospheric property planet firstly need efficient drag explain inefficient day night re circulation observe demonstrate drag lorentz force drag magnetic field weak gauss secondly high metallicity require match large day night temperature contrast fact effect metallicity phase curve different cool gas giant counterpart high temperature chemistry wasp atmosphere additionally compare current uhj spectroscopic phase curve wasp wasp planet provide consistent picture remarkable similarity measure infer property however key difference property brightness offset radius anomaly suggest uhj separate compete theory inflation gas giant planet\n"
     ]
    }
   ],
   "source": [
    "print('Sample abstract to demonstrate cleaning (or verify good import):\\n')\n",
    "print(text[article_idx])"
   ]
  },
  {
   "cell_type": "markdown",
   "metadata": {},
   "source": [
    "### Model: tfidf using sklearn"
   ]
  },
  {
   "cell_type": "code",
   "execution_count": null,
   "metadata": {},
   "outputs": [],
   "source": [
    "%%time\n",
    "\n",
    "# Set up the model for vectorizing/calculating the similarity; words must appear \n",
    "# in at least 400 documents.   \n",
    "tfidf = TfidfVectorizer(ngram_range=(1,3), min_df=400, max_df=0.9)\n",
    "\n",
    "# Transform/fit the training and test data to the model\n",
    "tfidf_matrix = tfidf.fit_transform(text[:train_docs]).todense()\n",
    "article_matrix = tfidf.transform(text[train_docs:]).todense()\n",
    "\n",
    "# Create a df of the model's values\n",
    "tfidf_df = pd.DataFrame(tfidf_matrix, columns=tfidf.get_feature_names())\n",
    "article_df = pd.DataFrame(article_matrix, columns=tfidf.get_feature_names())"
   ]
  },
  {
   "cell_type": "code",
   "execution_count": null,
   "metadata": {
    "scrolled": true
   },
   "outputs": [],
   "source": [
    "print('Training vocabulary:', len(tfidf.get_feature_names()))\n",
    "print('Stopwords:', len(tfidf.stop_words_))"
   ]
  },
  {
   "cell_type": "code",
   "execution_count": 124,
   "metadata": {},
   "outputs": [
    {
     "ename": "AttributeError",
     "evalue": "stop_words_",
     "output_type": "error",
     "traceback": [
      "\u001b[1;31m---------------------------------------------------------------------------\u001b[0m",
      "\u001b[1;31mAttributeError\u001b[0m                            Traceback (most recent call last)",
      "\u001b[1;32m<ipython-input-124-879acc6cf521>\u001b[0m in \u001b[0;36m<module>\u001b[1;34m\u001b[0m\n\u001b[0;32m      1\u001b[0m \u001b[1;31m# Remove the stopwords to free up some memory\u001b[0m\u001b[1;33m\u001b[0m\u001b[1;33m\u001b[0m\u001b[1;33m\u001b[0m\u001b[0m\n\u001b[1;32m----> 2\u001b[1;33m \u001b[0mdelattr\u001b[0m\u001b[1;33m(\u001b[0m\u001b[0mtfidf\u001b[0m\u001b[1;33m,\u001b[0m \u001b[1;34m'stop_words_'\u001b[0m\u001b[1;33m)\u001b[0m\u001b[1;33m\u001b[0m\u001b[1;33m\u001b[0m\u001b[0m\n\u001b[0m",
      "\u001b[1;31mAttributeError\u001b[0m: stop_words_"
     ]
    }
   ],
   "source": [
    "# Remove the stopwords to free up some memory\n",
    "delattr(tfidf, 'stop_words_')"
   ]
  },
  {
   "cell_type": "markdown",
   "metadata": {},
   "source": [
    "###  Now that the model has been prepared, it's time to choose a sample abstract from the test set.  This is a proof-of-concept method for a recommendation engine that suggests articles based on the abstract you're reading.  As it's proof-of-concept, the abstract will be randomly chosen for you from the test abstracts.  (Abstract and highest-rated related abstract shown at bottom of notebook.)"
   ]
  },
  {
   "cell_type": "code",
   "execution_count": 146,
   "metadata": {
    "scrolled": false
   },
   "outputs": [],
   "source": [
    "# Pick an article to function as the sample \n",
    "article_idx = np.random.randint(0, test_docs)\n",
    "\n",
    "# Uncomment the line below if you want to see the cleaned data from the new sample\n",
    "#text[article_idx+train_docs:article_idx+train_docs+1]"
   ]
  },
  {
   "cell_type": "markdown",
   "metadata": {},
   "source": [
    "#### Finding recommendations from tfidf and cosine similarity, using the sample abstract above."
   ]
  },
  {
   "cell_type": "code",
   "execution_count": 147,
   "metadata": {},
   "outputs": [
    {
     "data": {
      "text/plain": [
       "array([31861,  2748,  1955, 23459, 23715, 28188], dtype=int64)"
      ]
     },
     "execution_count": 147,
     "metadata": {},
     "output_type": "execute_result"
    }
   ],
   "source": [
    "# Compute the document similarities with sklearn linear_kernel.  Per sklearn,\n",
    "# linear_kernal is faster than cosine_similarity for tfidf.\n",
    "document_similarity = linear_kernel(article_df.iloc[article_idx:article_idx+1], tfidf_df).flatten()\n",
    "\n",
    "# Get the indices for the documents that have highest cosine similarity to the sample.\n",
    "related_indices = document_similarity.argsort()[:-7:-1]\n",
    "related_indices"
   ]
  },
  {
   "cell_type": "code",
   "execution_count": 148,
   "metadata": {},
   "outputs": [
    {
     "data": {
      "text/html": [
       "<div>\n",
       "<style scoped>\n",
       "    .dataframe tbody tr th:only-of-type {\n",
       "        vertical-align: middle;\n",
       "    }\n",
       "\n",
       "    .dataframe tbody tr th {\n",
       "        vertical-align: top;\n",
       "    }\n",
       "\n",
       "    .dataframe thead th {\n",
       "        text-align: right;\n",
       "    }\n",
       "</style>\n",
       "<table border=\"1\" class=\"dataframe\">\n",
       "  <thead>\n",
       "    <tr style=\"text-align: right;\">\n",
       "      <th></th>\n",
       "      <th>abstract</th>\n",
       "      <th>title</th>\n",
       "      <th>terms</th>\n",
       "      <th>document_similarity</th>\n",
       "    </tr>\n",
       "  </thead>\n",
       "  <tbody>\n",
       "    <tr>\n",
       "      <th>31861</th>\n",
       "      <td>Nearby star-forming galaxies offer a unique en...</td>\n",
       "      <td>Different generations of HMXBs: clues about th...</td>\n",
       "      <td>astro-ph.HE</td>\n",
       "      <td>0.503205</td>\n",
       "    </tr>\n",
       "    <tr>\n",
       "      <th>2748</th>\n",
       "      <td>We have identified 55 candidate high-mass X-ra...</td>\n",
       "      <td>Formation Timescales for High-Mass X-ray Binar...</td>\n",
       "      <td>astro-ph.HE|astro-ph.GA</td>\n",
       "      <td>0.479234</td>\n",
       "    </tr>\n",
       "    <tr>\n",
       "      <th>1955</th>\n",
       "      <td>[abridged] How does a star cluster of more tha...</td>\n",
       "      <td>NGC 346: Looking in the Cradle of a Massive St...</td>\n",
       "      <td>astro-ph.GA</td>\n",
       "      <td>0.455667</td>\n",
       "    </tr>\n",
       "    <tr>\n",
       "      <th>23459</th>\n",
       "      <td>We present 15 high mass X-ray binary (HMXB) ca...</td>\n",
       "      <td>Young Accreting Compact Objects in M31: The Co...</td>\n",
       "      <td>astro-ph.HE</td>\n",
       "      <td>0.446389</td>\n",
       "    </tr>\n",
       "    <tr>\n",
       "      <th>23715</th>\n",
       "      <td>The 30 Doradus star-forming region in the Larg...</td>\n",
       "      <td>An excess of massive stars in the local 30 Dor...</td>\n",
       "      <td>astro-ph.SR|astro-ph.GA</td>\n",
       "      <td>0.440245</td>\n",
       "    </tr>\n",
       "    <tr>\n",
       "      <th>28188</th>\n",
       "      <td>The objective of this work is to study how act...</td>\n",
       "      <td>Quenching by gas compression and consumption: ...</td>\n",
       "      <td>astro-ph.GA|astro-ph.CO</td>\n",
       "      <td>0.431887</td>\n",
       "    </tr>\n",
       "  </tbody>\n",
       "</table>\n",
       "</div>"
      ],
      "text/plain": [
       "                                                abstract  \\\n",
       "31861  Nearby star-forming galaxies offer a unique en...   \n",
       "2748   We have identified 55 candidate high-mass X-ra...   \n",
       "1955   [abridged] How does a star cluster of more tha...   \n",
       "23459  We present 15 high mass X-ray binary (HMXB) ca...   \n",
       "23715  The 30 Doradus star-forming region in the Larg...   \n",
       "28188  The objective of this work is to study how act...   \n",
       "\n",
       "                                                   title  \\\n",
       "31861  Different generations of HMXBs: clues about th...   \n",
       "2748   Formation Timescales for High-Mass X-ray Binar...   \n",
       "1955   NGC 346: Looking in the Cradle of a Massive St...   \n",
       "23459  Young Accreting Compact Objects in M31: The Co...   \n",
       "23715  An excess of massive stars in the local 30 Dor...   \n",
       "28188  Quenching by gas compression and consumption: ...   \n",
       "\n",
       "                         terms  document_similarity  \n",
       "31861              astro-ph.HE             0.503205  \n",
       "2748   astro-ph.HE|astro-ph.GA             0.479234  \n",
       "1955               astro-ph.GA             0.455667  \n",
       "23459              astro-ph.HE             0.446389  \n",
       "23715  astro-ph.SR|astro-ph.GA             0.440245  \n",
       "28188  astro-ph.GA|astro-ph.CO             0.431887  "
      ]
     },
     "execution_count": 148,
     "metadata": {},
     "output_type": "execute_result"
    }
   ],
   "source": [
    "# Create a df with the attributes of the similar documents\n",
    "related_abstracts = df[['abstract', 'title', 'terms']].iloc[related_indices]\n",
    "related_abstracts['document_similarity'] = document_similarity[related_indices]\n",
    "\n",
    "# Print out the most similar documents\n",
    "related_abstracts"
   ]
  },
  {
   "cell_type": "markdown",
   "metadata": {},
   "source": [
    "### How much does the first result (\"recommended abstract\" from now on) have in common with the sample?  This table (sorted by feature importance of the sample article) shows how many and which of the top features match up."
   ]
  },
  {
   "cell_type": "code",
   "execution_count": 149,
   "metadata": {},
   "outputs": [
    {
     "data": {
      "text/html": [
       "<div>\n",
       "<style scoped>\n",
       "    .dataframe tbody tr th:only-of-type {\n",
       "        vertical-align: middle;\n",
       "    }\n",
       "\n",
       "    .dataframe tbody tr th {\n",
       "        vertical-align: top;\n",
       "    }\n",
       "\n",
       "    .dataframe thead th {\n",
       "        text-align: right;\n",
       "    }\n",
       "</style>\n",
       "<table border=\"1\" class=\"dataframe\">\n",
       "  <thead>\n",
       "    <tr style=\"text-align: right;\">\n",
       "      <th></th>\n",
       "      <th>feature</th>\n",
       "      <th>sample_importance</th>\n",
       "      <th>recommended_importance</th>\n",
       "    </tr>\n",
       "  </thead>\n",
       "  <tbody>\n",
       "    <tr>\n",
       "      <th>1986</th>\n",
       "      <td>star</td>\n",
       "      <td>0.288187</td>\n",
       "      <td>0.222307</td>\n",
       "    </tr>\n",
       "    <tr>\n",
       "      <th>1991</th>\n",
       "      <td>star formation</td>\n",
       "      <td>0.247674</td>\n",
       "      <td>0.076422</td>\n",
       "    </tr>\n",
       "    <tr>\n",
       "      <th>793</th>\n",
       "      <td>formation</td>\n",
       "      <td>0.239517</td>\n",
       "      <td>0.177373</td>\n",
       "    </tr>\n",
       "    <tr>\n",
       "      <th>2272</th>\n",
       "      <td>x_ray</td>\n",
       "      <td>0.230971</td>\n",
       "      <td>0.213804</td>\n",
       "    </tr>\n",
       "    <tr>\n",
       "      <th>58</th>\n",
       "      <td>ago</td>\n",
       "      <td>0.199327</td>\n",
       "      <td>0.000000</td>\n",
       "    </tr>\n",
       "    <tr>\n",
       "      <th>2273</th>\n",
       "      <td>x_ray binary</td>\n",
       "      <td>0.192241</td>\n",
       "      <td>0.118635</td>\n",
       "    </tr>\n",
       "    <tr>\n",
       "      <th>1204</th>\n",
       "      <td>magellanic cloud</td>\n",
       "      <td>0.191314</td>\n",
       "      <td>0.118063</td>\n",
       "    </tr>\n",
       "    <tr>\n",
       "      <th>1203</th>\n",
       "      <td>magellanic</td>\n",
       "      <td>0.189575</td>\n",
       "      <td>0.116991</td>\n",
       "    </tr>\n",
       "    <tr>\n",
       "      <th>2128</th>\n",
       "      <td>time</td>\n",
       "      <td>0.164884</td>\n",
       "      <td>0.101753</td>\n",
       "    </tr>\n",
       "    <tr>\n",
       "      <th>1355</th>\n",
       "      <td>myr</td>\n",
       "      <td>0.163825</td>\n",
       "      <td>0.202199</td>\n",
       "    </tr>\n",
       "  </tbody>\n",
       "</table>\n",
       "</div>"
      ],
      "text/plain": [
       "               feature  sample_importance  recommended_importance\n",
       "1986              star           0.288187                0.222307\n",
       "1991    star formation           0.247674                0.076422\n",
       "793          formation           0.239517                0.177373\n",
       "2272             x_ray           0.230971                0.213804\n",
       "58                 ago           0.199327                0.000000\n",
       "2273      x_ray binary           0.192241                0.118635\n",
       "1204  magellanic cloud           0.191314                0.118063\n",
       "1203        magellanic           0.189575                0.116991\n",
       "2128              time           0.164884                0.101753\n",
       "1355               myr           0.163825                0.202199"
      ]
     },
     "execution_count": 149,
     "metadata": {},
     "output_type": "execute_result"
    }
   ],
   "source": [
    "# Get the features of the sample abstract\n",
    "sample_features = dict(article_df.iloc[article_idx])\n",
    "sample_features = pd.DataFrame.from_dict(sample_features, orient='index').reset_index()\n",
    "sample_features.columns = ['feature', 'sample_importance']\n",
    "# Get the features for the recommended abstract\n",
    "related_features = dict(tfidf_df.iloc[related_indices[0]])\n",
    "related_features = pd.DataFrame.from_dict(related_features, orient='index').reset_index()\n",
    "related_features.columns = ['feature', 'recommended_importance']\n",
    "# Concat dfs\n",
    "features_df = sample_features.merge(related_features, on='feature')\n",
    "features_df.loc[features_df.sample_importance > 0].sort_values(by='sample_importance', ascending=False)[:10]"
   ]
  },
  {
   "cell_type": "markdown",
   "metadata": {},
   "source": [
    "### But what features were most important for the recommended article?"
   ]
  },
  {
   "cell_type": "code",
   "execution_count": 150,
   "metadata": {},
   "outputs": [
    {
     "data": {
      "text/html": [
       "<div>\n",
       "<style scoped>\n",
       "    .dataframe tbody tr th:only-of-type {\n",
       "        vertical-align: middle;\n",
       "    }\n",
       "\n",
       "    .dataframe tbody tr th {\n",
       "        vertical-align: top;\n",
       "    }\n",
       "\n",
       "    .dataframe thead th {\n",
       "        text-align: right;\n",
       "    }\n",
       "</style>\n",
       "<table border=\"1\" class=\"dataframe\">\n",
       "  <thead>\n",
       "    <tr style=\"text-align: right;\">\n",
       "      <th></th>\n",
       "      <th>feature</th>\n",
       "      <th>recommended_importance</th>\n",
       "    </tr>\n",
       "  </thead>\n",
       "  <tbody>\n",
       "    <tr>\n",
       "      <th>1573</th>\n",
       "      <td>population</td>\n",
       "      <td>0.288762</td>\n",
       "    </tr>\n",
       "    <tr>\n",
       "      <th>1501</th>\n",
       "      <td>parent</td>\n",
       "      <td>0.251988</td>\n",
       "    </tr>\n",
       "    <tr>\n",
       "      <th>1986</th>\n",
       "      <td>star</td>\n",
       "      <td>0.222307</td>\n",
       "    </tr>\n",
       "    <tr>\n",
       "      <th>199</th>\n",
       "      <td>binary</td>\n",
       "      <td>0.220541</td>\n",
       "    </tr>\n",
       "    <tr>\n",
       "      <th>2272</th>\n",
       "      <td>x_ray</td>\n",
       "      <td>0.213804</td>\n",
       "    </tr>\n",
       "  </tbody>\n",
       "</table>\n",
       "</div>"
      ],
      "text/plain": [
       "         feature  recommended_importance\n",
       "1573  population                0.288762\n",
       "1501      parent                0.251988\n",
       "1986        star                0.222307\n",
       "199       binary                0.220541\n",
       "2272       x_ray                0.213804"
      ]
     },
     "execution_count": 150,
     "metadata": {},
     "output_type": "execute_result"
    }
   ],
   "source": [
    "related_features.sort_values(by='recommended_importance', ascending=False)[:5]"
   ]
  },
  {
   "cell_type": "markdown",
   "metadata": {},
   "source": [
    "##### Here are the full, unaltered abstracts from the sample and the first recommended article."
   ]
  },
  {
   "cell_type": "code",
   "execution_count": 151,
   "metadata": {},
   "outputs": [
    {
     "name": "stdout",
     "output_type": "stream",
     "text": [
      "ABSTRACT TO MATCH: \n",
      " http://arxiv.org/abs/1603.08011v2 \n",
      "\n",
      "Star-formation history and X-ray binary populations: the case of the   Large Magellanic Cloud \n",
      "\n",
      "In the present work we investigate the link between high-mass X-ray binaries (HMXBs) and star formation in the Large Magellanic Cloud (LMC), our nearest star-forming galaxy. Using optical photometric data, we identify the most likely counterpart of 44 X-ray sources. Among the 40 HMXBs classified in this work, we find 33 Be/X-ray binaries, and 4 supergiant XRBs. Using this census and the published spatially resolved star-formation history map of the LMC, we find that the HMXBs (and as expected the X-ray pulsars) are present in regions with star-formation bursts $\\sim$6-25 Myr ago, in contrast to the Small Magellanic Cloud (SMC), for which this population peaks at later ages ($\\sim$25-60 Myr ago). We also estimate the HMXB production rate to be equal to 1 system per $\\sim43.5\\times10^{-3}$ Mo/yr, or 1 system per $\\sim$143 Mo of stars formed during the associated star-formation episode. Therefore, the formation efficiency of HMXBs in the LMC is $\\sim$17 times lower than that in the SMC. We attribute this difference primarily in the different ages and metallicity of the HMXB populations in the two galaxies. We also set limits on the kicks imparted on the neutron star during the supernova explosion. We find that the time elapsed since the supernova kick is $\\sim$3 times shorter in the LMC than the SMC. This in combination with the average offsets of the HMXBs from their nearest star clusters results in $\\sim$4 times faster transverse velocities for HMXBs in the LMC than in the SMC. \n",
      "\n",
      "astro-ph.HE|astro-ph.GA\n"
     ]
    }
   ],
   "source": [
    "# Get the abstract for the sample article\n",
    "# Abstract is unaltered from download (more human-readable but includes formatting).\n",
    "print('ABSTRACT TO MATCH: \\n', df.url.iloc[(article_idx + train_docs)], '\\n')\n",
    "print(df.title.iloc[(article_idx + train_docs)], '\\n')\n",
    "print(df.abstract.iloc[(article_idx + train_docs)], '\\n')\n",
    "print(df.terms.iloc[(article_idx + train_docs)])"
   ]
  },
  {
   "cell_type": "code",
   "execution_count": 152,
   "metadata": {},
   "outputs": [
    {
     "name": "stdout",
     "output_type": "stream",
     "text": [
      "HIGHEST-RATED MATCH \n",
      " http://arxiv.org/abs/1812.11070v1 \n",
      "\n",
      "Different generations of HMXBs: clues about their formation efficiency   from Magellanic Clouds studies \n",
      "\n",
      "Nearby star-forming galaxies offer a unique environment to study the populations of young ($<$100 Myr) accreting binaries. These systems are tracers of past populations of massive stars that heavily affect their immediate environment and parent galaxies. Using a Chandra X-ray Visionary program, we investigate the young neutron-star binary population in the low metallicity of the Small Magellanic Cloud (SMC) by reaching quiescent X-ray luminosity levels ($\\sim$few times $10^{32}$ erg/s). We present the first measurement of the formation efficiency of high-mass X-ray binaries (HMXBs) as a function of the age of their parent stellar populations by using 3 indicators: the number ratio of HMXBs to OB stars, to the SFR, and to the stellar mass produced during the specific star-formation burst they are associated with. In all cases, we find that the HMXB formation efficiency increases as a function of time up to $\\sim$40-60 Myr, and then gradually decreases. \n",
      "\n",
      "astro-ph.HE\n"
     ]
    }
   ],
   "source": [
    "# Get the abstract for the recommended article\n",
    "# Abstract is unaltered from download (more human-readable but includes formatting).\n",
    "print('HIGHEST-RATED MATCH \\n', df.url.iloc[related_indices[0]], '\\n')\n",
    "print(df.title[related_indices[0]], '\\n')\n",
    "print(df.abstract[related_indices[0]], '\\n')\n",
    "print(df.terms[related_indices[0]])"
   ]
  },
  {
   "cell_type": "markdown",
   "metadata": {},
   "source": [
    "### Now plots."
   ]
  },
  {
   "cell_type": "code",
   "execution_count": 153,
   "metadata": {},
   "outputs": [
    {
     "data": {
      "image/png": "[encoded data removed]",
      "text/plain": [
       "<Figure size 864x576 with 1 Axes>"
      ]
     },
     "metadata": {
      "needs_background": "light"
     },
     "output_type": "display_data"
    }
   ],
   "source": [
    "data = features_df.loc[features_df.sample_importance > 0].sort_values(by='sample_importance', ascending=False)[:10]\n",
    "tidy = data.melt(id_vars='feature').rename(columns=str.lower)\n",
    "tidy.columns = ['feature', 'Importance', 'value']\n",
    "_ = plt.figure(figsize=(12,8))\n",
    "_ = sns.barplot(x='value', y='feature', hue='Importance', data=tidy, palette=sns.color_palette(\"cubehelix\", 3))\n",
    "_ = plt.xlabel('Importance')\n",
    "_ = plt.ylabel('Most important terms in sample abstract')\n",
    "_ = plt.title('How do the important words in the abstracts compare?')"
   ]
  }
 ],
 "metadata": {
  "kernelspec": {
   "display_name": "Python 3",
   "language": "python",
   "name": "python3"
  },
  "language_info": {
   "codemirror_mode": {
    "name": "ipython",
    "version": 3
   },
   "file_extension": ".py",
   "mimetype": "text/x-python",
   "name": "python",
   "nbconvert_exporter": "python",
   "pygments_lexer": "ipython3",
   "version": "3.7.2"
  }
 },
 "nbformat": 4,
 "nbformat_minor": 2
}

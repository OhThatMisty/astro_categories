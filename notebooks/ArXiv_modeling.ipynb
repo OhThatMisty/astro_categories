{
 "cells": [
  {
   "cell_type": "markdown",
   "metadata": {},
   "source": [
    "# 'Recommendation of similar articles from journal abstract analysis'  \n",
    "# Modeling\n",
    "## 2019, Misty M. Giles\n",
    "### https://github.com/OhThatMisty/astro_categories/"
   ]
  },
  {
   "cell_type": "code",
   "execution_count": 30,
   "metadata": {},
   "outputs": [],
   "source": [
    "import gensim\n",
    "from gensim.models import Phrases\n",
    "from gensim.models.word2vec import LineSentence\n",
    "import logging\n",
    "import os\n",
    "import pandas as pd\n",
    "import pickle\n",
    "import re\n",
    "from sklearn.feature_extraction.text import TfidfVectorizer\n",
    "import spacy\n",
    "import unicodedata\n",
    "\n",
    "# Set up logging \n",
    "logging.basicConfig(format=\"%(levelname)s - %(asctime)s: %(message)s\", datefmt= '%H:%M:%S', level=logging.INFO)"
   ]
  },
  {
   "cell_type": "code",
   "execution_count": 52,
   "metadata": {},
   "outputs": [],
   "source": [
    "def normalize(text):\n",
    "    '''Convert to ascii, remove special characters associated with LaTeX when given a df column,\n",
    "       only keep alpha chars'''\n",
    "    normalized_text = []\n",
    "    \n",
    "    for t in text:\n",
    "        t = unicodedata.normalize('NFKD', t).encode('ascii', 'ignore').decode('utf-8', 'ignore')\n",
    "        t = re.sub('\\\\\\\\', ' ', t)\n",
    "        t = re.sub('[${}()\"]', '', t)\n",
    "        t = re.sub('[^A-Za-z\\']+', ' ', t)\n",
    "        normalized_text.append(t)\n",
    "    return normalized_text\n",
    "\n",
    "# This function is to remove punctuation after spaCy parsing.\n",
    "\n",
    "def remove(token):\n",
    "    '''Provide feedback on whether a token is punctuation, whitespace, or stopword'''\n",
    "    return token.is_punct or token.is_space or token.is_stop\n",
    "\n",
    "# This function ensures that all printouts use the same formula\n",
    "\n",
    "def join_tokens(doc):\n",
    "    '''Joins tokens in a sent without whatever is in in remove(), adds pronoun back\n",
    "       in instead of -PRON-'''\n",
    "    return ' '.join([token.lemma_ if token.lemma_ != '-PRON-' else token.text.lower()\n",
    "                     for token in doc if not remove(token)])"
   ]
  },
  {
   "cell_type": "code",
   "execution_count": 45,
   "metadata": {},
   "outputs": [
    {
     "data": {
      "text/html": [
       "<div>\n",
       "<style scoped>\n",
       "    .dataframe tbody tr th:only-of-type {\n",
       "        vertical-align: middle;\n",
       "    }\n",
       "\n",
       "    .dataframe tbody tr th {\n",
       "        vertical-align: top;\n",
       "    }\n",
       "\n",
       "    .dataframe thead th {\n",
       "        text-align: right;\n",
       "    }\n",
       "</style>\n",
       "<table border=\"1\" class=\"dataframe\">\n",
       "  <thead>\n",
       "    <tr style=\"text-align: right;\">\n",
       "      <th></th>\n",
       "      <th>abstract</th>\n",
       "    </tr>\n",
       "  </thead>\n",
       "  <tbody>\n",
       "    <tr>\n",
       "      <th>0</th>\n",
       "      <td>We have constructed a Fourier-transform spectr...</td>\n",
       "    </tr>\n",
       "    <tr>\n",
       "      <th>1</th>\n",
       "      <td>We report possible interaction between multipl...</td>\n",
       "    </tr>\n",
       "    <tr>\n",
       "      <th>2</th>\n",
       "      <td>Young, low-mass stars in the solar neighborhoo...</td>\n",
       "    </tr>\n",
       "    <tr>\n",
       "      <th>3</th>\n",
       "      <td>We investigate the energy extraction by the Pe...</td>\n",
       "    </tr>\n",
       "    <tr>\n",
       "      <th>4</th>\n",
       "      <td>We investigate the effect cosmological constan...</td>\n",
       "    </tr>\n",
       "  </tbody>\n",
       "</table>\n",
       "</div>"
      ],
      "text/plain": [
       "                                            abstract\n",
       "0  We have constructed a Fourier-transform spectr...\n",
       "1  We report possible interaction between multipl...\n",
       "2  Young, low-mass stars in the solar neighborhoo...\n",
       "3  We investigate the energy extraction by the Pe...\n",
       "4  We investigate the effect cosmological constan..."
      ]
     },
     "execution_count": 45,
     "metadata": {},
     "output_type": "execute_result"
    }
   ],
   "source": [
    "file = os.path.join('..','data','astro_intermediate.csv')\n",
    "df = pd.read_csv(file, index_col=False, usecols=['abstract'])\n",
    "df.head()"
   ]
  },
  {
   "cell_type": "code",
   "execution_count": 53,
   "metadata": {},
   "outputs": [
    {
     "name": "stdout",
     "output_type": "stream",
     "text": [
      "Wall time: 5.01 s\n"
     ]
    }
   ],
   "source": [
    "%%time\n",
    "test = df.abstract[:50]\n",
    "text = [join_tokens(doc) for doc in nlp.pipe(normalize(test), batch_size=1000)]\n",
    "#text = [join_tokens(doc) for doc in nlp.pipe(normalize(df.abstract), batch_size=1000)]"
   ]
  },
  {
   "cell_type": "code",
   "execution_count": 48,
   "metadata": {},
   "outputs": [],
   "source": [
    "tfidf = TfidfVectorizer(ngram_range=(1,3), max_df=0.85, min_df=2)"
   ]
  },
  {
   "cell_type": "code",
   "execution_count": 58,
   "metadata": {},
   "outputs": [
    {
     "name": "stdout",
     "output_type": "stream",
     "text": [
      "Wall time: 258 ms\n"
     ]
    }
   ],
   "source": [
    "%%time\n",
    "X = tfidf.fit_transform(text)"
   ]
  },
  {
   "cell_type": "code",
   "execution_count": 59,
   "metadata": {},
   "outputs": [
    {
     "data": {
      "text/plain": [
       "(50, 895)"
      ]
     },
     "execution_count": 59,
     "metadata": {},
     "output_type": "execute_result"
    }
   ],
   "source": [
    "X.shape"
   ]
  },
  {
   "cell_type": "code",
   "execution_count": 60,
   "metadata": {},
   "outputs": [
    {
     "name": "stdout",
     "output_type": "stream",
     "text": [
      "['ability', 'able', 'absorption', 'acceleration', 'accessible', 'account', 'active', 'activity', 'add', 'additional', 'address', 'affect', 'age', 'agreement', 'aim', 'al', 'algorithm', 'all', 'allow', 'alma', 'alpha', 'altitude', 'amplitude', 'an', 'analysis', 'analytic', 'angle', 'angular', 'antenna', 'anti', 'apparent', 'appear', 'applicable', 'application', 'apply', 'approach', 'approx', 'approximate', 'approximation', 'area', 'array', 'array cta', 'array pta', 'article', 'as', 'association', 'assume', 'astrometry', 'asymmetry', 'at', 'atmosphere', 'atmospheric', 'atmospheric structure', 'au', 'author', 'available', 'average', 'background', 'band', 'bao', 'baryonic', 'baryonic matter', 'base', 'behavior', 'behaviour', 'belong', 'beta', 'bf', 'bias', 'binari', 'binary', 'binary system', 'black', 'black hole', 'black hole smbh', 'blue', 'body', 'body the', 'box', 'break', 'bright', 'brightness', 'build', 'burst', 'by', 'by combine', 'calculate', 'camera', 'canonical', 'capability', 'capture', 'case', 'case the', 'catalog', 'center', 'central', 'change', 'characterise', 'characterize', 'cherenkov', 'cherenkov telescope', 'cherenkov telescope array', 'choice', 'circular', 'circular orbit', 'circumbinary', 'circumbinary planet', 'class', 'classical', 'clear', 'close', 'cloud', 'cluster', 'cm', 'co', 'code', 'coefficient', 'combine', 'come', 'compact', 'companion', 'compare', 'complete', 'complex', 'component', 'compute', 'conclude', 'conclusion', 'condensed', 'condition', 'configuration', 'confirm', 'confirm previous', 'consequently', 'consider', 'consist', 'consistent', 'constant', 'constitute', 'constrain', 'constraint', 'construct', 'contain', 'context', 'continuum', 'continuum emission', 'contrast', 'contribution', 'contribution come', 'control', 'cool', 'cooling', 'core', 'correlate', 'correlation', 'correspond', 'cosmic', 'cosmological', 'cosmological model', 'cosmological simulation', 'cosmology', 'cost', 'couple', 'coupling', 'coverage', 'create', 'critical', 'cross', 'cross section', 'cta', 'current', 'currently', 'curve', 'cyclotron', 'damp', 'dark', 'dark energy', 'dark matter', 'dark matter particle', 'data', 'datum', 'datum good', 'datum set', 'decade', 'decay', 'deep', 'degeneracy', 'degree', 'delta', 'dense', 'density', 'depend', 'dependent', 'derivative', 'derive', 'describe', 'description', 'design', 'detail', 'detailed', 'detect', 'detectability', 'detectable', 'detection', 'detector', 'determine', 'develop', 'deviation', 'diagnostic', 'difference', 'different', 'difficulty', 'dimensional', 'direct', 'discover', 'discovery', 'discuss', 'disk', 'distance', 'distinct', 'distribution', 'distribution function', 'distribution sed', 'draw', 'drive', 'dust', 'dwarf', 'dwarf star', 'dynamic', 'early', 'earth', 'eclipse', 'eclipse timing', 'effect', 'effective', 'effectively', 'effort', 'element', 'emerge', 'emission', 'emission line', 'emit', 'emphasize', 'energy', 'energy distribution', 'energy distribution sed', 'energy these', 'energy threshold', 'ensemble', 'environment', 'epoch', 'equal', 'equal mass', 'equation', 'equivalent', 'equivalent width', 'era', 'error', 'establish', 'estimate', 'et', 'et al', 'event', 'evidence', 'evolution', 'evolutionary', 'evolve', 'examine', 'example', 'exclude', 'exist', 'exoplanet', 'expect', 'expect significant', 'experiment', 'explain', 'extend', 'extract', 'extremely', 'fact', 'faint', 'far', 'fast', 'fast radio', 'fast radio burst', 'feature', 'field', 'finally', 'find', 'fisher', 'fit', 'flare', 'flare event', 'flare the', 'flat', 'flux', 'focus', 'follow', 'for', 'force', 'foreground', 'form', 'formalism', 'formation', 'formula', 'fourier', 'fourier transform', 'fr', 'fraction', 'framework', 'frb', 'free', 'frequency', 'function', 'fundamental', 'furthermore', 'future', 'gaia', 'gain', 'galactic', 'galaxy', 'gamma', 'gamma ray', 'gas', 'general', 'general relativity', 'generate', 'generation', 'geodesic', 'ghz', 'giant', 'give', 'go', 'good', 'good fit', 'gravitational', 'gravitational perturbation', 'gravitational wave', 'gravitational wave gw', 'gravity', 'ground', 'group', 'gw', 'gws', 'gyr', 'halo', 'harmonic', 'harps', 'heat', 'heliocentric', 'heliocentric distance', 'here', 'high', 'high altitude', 'high energy', 'high precision', 'high resolution', 'highly', 'history', 'hole', 'hole smbh', 'host', 'hot', 'hour', 'however', 'hu', 'hu sawicki', 'hundred', 'hydrodynamic', 'hypothesis', 'idea', 'identify', 'ii', 'iii', 'illustrate', 'image', 'imaging', 'imply', 'importance', 'important', 'in', 'in paper', 'include', 'increase', 'independent', 'index', 'indicate', 'individual', 'induce', 'infer', 'inflation', 'influence', 'information', 'infrared', 'initial', 'inner', 'input', 'insight', 'inspiral', 'instrument', 'intensity', 'interaction', 'interesting', 'interferometer', 'interpret', 'introduce', 'investigate', 'investigate effect', 'inward', 'ionize', 'it', 'it find', 'kev', 'kinetic', 'km', 'km the', 'know', 'laboratory', 'lack', 'lambda', 'lamost', 'large', 'large area', 'large scale', 'large scale structure', 'large separation', 'late', 'late dwarf', 'late dwarf star', 'layer', 'lead', 'length', 'length scale', 'leq', 'lesssim', 'level', 'light', 'light scalar', 'like', 'likely', 'limit', 'line', 'line see', 'linear', 'local', 'locate', 'location', 'log', 'long', 'loss', 'low', 'low energy', 'low mass', 'low redshift', 'luminosity', 'lyman', 'lyman alpha', 'machine', 'mag', 'magellanic', 'magnetic', 'magnetic field', 'magnitude', 'mass', 'mass function', 'mass orbital', 'mass ratio', 'massive', 'matter', 'matter particle', 'maximize', 'maximum', 'may', 'mean', 'measure', 'measurement', 'mechanical', 'mechanism', 'member', 'merge', 'merger', 'method', 'metric', 'micron', 'microwave', 'microwave background', 'min', 'min the', 'minimum', 'minor', 'mm', 'mode', 'mode detection', 'model', 'model base', 'model explain', 'model parameter', 'model we', 'modeling', 'modification', 'modification gravity', 'molecular', 'monitor', 'monitoring', 'moreover', 'motion', 'move', 'mpc', 'multiple', 'nanohertz', 'nature', 'near', 'nearby', 'nearly', 'nebula', 'nebulae', 'need', 'negligible', 'network', 'neutrino', 'neutron', 'neutron star', 'new', 'newtonian', 'noise', 'non', 'north', 'north south', 'nu', 'nuclear', 'nucleus', 'number', 'object', 'object the', 'observation', 'observation search', 'observational', 'observatory', 'observe', 'observed', 'obtain', 'occur', 'odot', 'odot we', 'offer', 'one', 'operate', 'oplus', 'optical', 'optimize', 'orbit', 'orbit star', 'orbital', 'orbital period', 'orbital separation', 'order', 'orient', 'origin', 'originate', 'oscillation', 'our', 'our result', 'outer', 'outflow', 'output', 'paper', 'parameter', 'parameter we', 'particle', 'particular', 'past', 'pc', 'perform', 'performance', 'period', 'period year', 'permit', 'perpendicular', 'perpendicular velocity', 'perturbation', 'perturbation theory', 'perturbative', 'phase', 'photometry', 'photon', 'physical', 'picture', 'place', 'planet', 'planetary', 'pm', 'point', 'population', 'position', 'possibility', 'possible', 'post', 'potential', 'potentially', 'power', 'power spectrum', 'precise', 'precise radial', 'precise radial velocity', 'precision', 'predict', 'prediction', 'presence', 'present', 'present result', 'previous', 'previously', 'primary', 'probability', 'probe', 'probe strong', 'probe strong gravity', 'problem', 'process', 'produce', 'profile', 'program', 'project', 'prompt', 'property', 'proportional', 'propose', 'prospect', 'provide', 'pta', 'publish', 'pulsar', 'pulsar timing', 'pulsar timing array', 'pulsar wind', 'purpose', 'pwn', 'quantity', 'radial', 'radial velocity', 'radial velocity astrometry', 'radiation', 'radii', 'radio', 'radio burst', 'radius', 'range', 'rate', 'ratio', 'ray', 'ray flare', 'ray observation', 'reach', 'recently', 'red', 'redshift', 'reduce', 'regime', 'region', 'relate', 'relative', 'relatively', 'relativistic', 'relativity', 'release', 'report', 'report discovery', 'represent', 'require', 'resolution', 'resolve', 'respectively', 'rest', 'result', 'result indicate', 'reveal', 'right', 'rm', 'role', 'rotation', 'rotation velocity', 'run', 'sample', 'satellite', 'sawicki', 'scalar', 'scale', 'scale structure', 'scaling', 'scatter', 'scattering', 'scenario', 'science', 'search', 'second', 'section', 'sed', 'see', 'see emission', 'select', 'self', 'sensitive', 'sensitivity', 'separation', 'series', 'set', 'seven', 'sharp', 'short', 'show', 'sigma', 'signal', 'signature', 'significant', 'significantly', 'sim', 'similar', 'simple', 'simulate', 'simulation', 'single', 'sio', 'situation', 'size', 'sky', 'sky survey', 'slightly', 'slope', 'slow', 'small', 'smbh', 'snr', 'so', 'solar', 'solar system', 'solution', 'source', 'south', 'space', 'space telescope', 'spatial', 'spatially', 'special', 'specific', 'spectra', 'spectral', 'spectral energy', 'spectral energy distribution', 'spectral index', 'spectroscopic', 'spectrum', 'spherically', 'spherically symmetric', 'spin', 'star', 'star cluster', 'star formation', 'star we', 'starburst', 'state', 'statistical', 'stellar', 'stellar mass', 'strategy', 'strength', 'strong', 'strong gravity', 'strongly', 'structure', 'structure formation', 'study', 'sub', 'subsequent', 'substructure', 'suggest', 'supermassive', 'supermassive black', 'supermassive black hole', 'suppress', 'surface', 'surface brightness', 'surprisingly', 'survey', 'survey we', 'symmetric', 'symmetry', 'system', 'take', 'target', 'technique', 'telescope', 'telescope array', 'telescope array cta', 'temperature', 'temporal', 'ten', 'term', 'test', 'tev', 'the', 'the detection', 'the general', 'the result', 'theory', 'there', 'therefore', 'thermal', 'these', 'these include', 'this', 'this approach', 'threshold', 'tidal', 'time', 'time cm', 'time series', 'timing', 'timing array', 'timing array pta', 'to', 'transfer', 'transform', 'transit', 'transit time', 'transition', 'transition occur', 'travel', 'two', 'type', 'typical', 'typically', 'ultra', 'uncertainty', 'uncertainty this', 'understanding', 'undetected', 'universe', 'unlikely', 'upcoming', 'upper', 'upper limit', 'use', 'use datum', 'useful', 'uv', 'value', 'variation', 'vary', 'velocity', 'velocity astrometry', 'very', 'volume', 'vs', 'water', 'wave', 'wave gw', 'wavelength', 'way', 'we', 'we apply', 'we calculate', 'we compare', 'we compute', 'we consider', 'we construct', 'we develop', 'we discuss', 'we estimate', 'we examine', 'we find', 'we investigate', 'we perform', 'we present', 'we present result', 'we propose', 'we report', 'we report discovery', 'we study', 'we suggest', 'we use', 'weight', 'when', 'white', 'wide', 'width', 'wind', 'window', 'wing', 'with', 'work', 'year', 'year may', 'yield', 'young', 'yr']"
     ]
    },
    {
     "name": "stdout",
     "output_type": "stream",
     "text": [
      "\n"
     ]
    }
   ],
   "source": [
    "tfidf.get_feature_names()"
   ]
  },
  {
   "cell_type": "code",
   "execution_count": null,
   "metadata": {},
   "outputs": [],
   "source": [
    "# Stream the data \n",
    "abstracts = LineSentence(infile)"
   ]
  }
 ],
 "metadata": {
  "kernelspec": {
   "display_name": "Python 3",
   "language": "python",
   "name": "python3"
  },
  "language_info": {
   "codemirror_mode": {
    "name": "ipython",
    "version": 3
   },
   "file_extension": ".py",
   "mimetype": "text/x-python",
   "name": "python",
   "nbconvert_exporter": "python",
   "pygments_lexer": "ipython3",
   "version": "3.7.2"
  }
 },
 "nbformat": 4,
 "nbformat_minor": 2
}

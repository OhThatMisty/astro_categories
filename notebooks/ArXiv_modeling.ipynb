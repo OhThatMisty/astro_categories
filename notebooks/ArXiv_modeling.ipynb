{
 "cells": [
  {
   "cell_type": "markdown",
   "metadata": {},
   "source": [
    "# 'Recommendation of similar articles from journal abstract analysis'  \n",
    "# Modeling for recommendation creation\n",
    "## 2019, Misty M. Giles\n",
    "### https://github.com/OhThatMisty/astro_categories/"
   ]
  },
  {
   "cell_type": "code",
   "execution_count": 1,
   "metadata": {},
   "outputs": [
    {
     "name": "stderr",
     "output_type": "stream",
     "text": [
      "C:\\Users\\Misty\\Anaconda3\\lib\\site-packages\\smart_open\\ssh.py:34: UserWarning: paramiko missing, opening SSH/SCP/SFTP paths will be disabled.  `pip install paramiko` to suppress\n",
      "  warnings.warn('paramiko missing, opening SSH/SCP/SFTP paths will be disabled.  `pip install paramiko` to suppress')\n",
      "C:\\Users\\Misty\\Anaconda3\\lib\\site-packages\\gensim\\utils.py:1197: UserWarning: detected Windows; aliasing chunkize to chunkize_serial\n",
      "  warnings.warn(\"detected Windows; aliasing chunkize to chunkize_serial\")\n"
     ]
    }
   ],
   "source": [
    "from gensim.parsing.preprocessing import remove_stopwords, strip_punctuation, strip_short\n",
    "import numpy as np\n",
    "import os\n",
    "import pandas as pd\n",
    "import re\n",
    "from sklearn.feature_extraction.text import TfidfVectorizer\n",
    "from sklearn.metrics.pairwise import linear_kernel\n",
    "import spacy\n",
    "import unicodedata"
   ]
  },
  {
   "cell_type": "code",
   "execution_count": 2,
   "metadata": {},
   "outputs": [],
   "source": [
    "def normalize(text):\n",
    "    '''Convert to ascii, remove special characters associated with LaTeX when given a df column,\n",
    "       only keep alpha chars and contractions/posessives'''\n",
    "    normalized_text = []\n",
    "    \n",
    "    for t in text:\n",
    "        t = unicodedata.normalize('NFKD', t).encode('ascii', 'ignore').decode('utf-8', 'ignore')\n",
    "        # This line is necessary to separate some words because of the LaTeX/math formatting \n",
    "        # (Split in two because they wouldn't work well together.)\n",
    "        t = re.sub('mathrm|gtrsim|lesssim|odot|langle', ' ', t)\n",
    "        t = re.sub('rangle|rm off|sigma_', ' ', t) \n",
    "        # Expand \"not\" before removing punctuation \n",
    "        t = re.sub('n\\'t', ' not', t)\n",
    "        t = strip_punctuation(t)\n",
    "        # This line gets rid of non-alpha (mostly for digits now) \n",
    "        t = re.sub('[^A-Za-z]+', ' ', t) \n",
    "        normalized_text.append(strip_short(t))\n",
    "    # strip_short gets rid of the rest of the math leftovers (and some abbreviations, like ir for\n",
    "    # infrared - judged that the random letters left over from the math and units of measurement like\n",
    "    # km, mm caused more noise than losing a few v short acronyms would cause problems\n",
    "    return normalized_text\n",
    "\n",
    "# This function is to remove excess whitespace \n",
    "def remove(token):\n",
    "    '''Provide feedback on whether a token is excess whitespace'''\n",
    "    return token.is_space\n",
    "\n",
    "# This function ensures that all printouts use the same formula\n",
    "def join_tokens(sent):\n",
    "    '''Joins tokens in a sent without whatever is in remove(), adds pronoun back\n",
    "       in instead of -PRON-'''\n",
    "    return ' '.join([token.lemma_ if token.lemma_ != '-PRON-' else token.text.lower()\n",
    "                     for token in sent if not remove(token)])\n",
    "\n",
    "# This function prevents nested lists that kill the vectorizer\n",
    "def join_sentences(doc):\n",
    "    '''Joins sentences in a doc (includes join_tokens)'''\n",
    "    return ' '.join([join_tokens(sent) for sent in doc.sents])\n",
    "\n",
    "# Set up spacy to lemmatize the text\n",
    "nlp = spacy.load('en', disable=['ner'])"
   ]
  },
  {
   "cell_type": "markdown",
   "metadata": {},
   "source": [
    "###  Change the \"docs_to_run\" variable in this box to reflect testing/full run."
   ]
  },
  {
   "cell_type": "code",
   "execution_count": 3,
   "metadata": {},
   "outputs": [
    {
     "name": "stdout",
     "output_type": "stream",
     "text": [
      "Setting up to train on 53974 abstracts.\n",
      "Setting up test block of 5998 abstracts.\n",
      "Total 59972 abstracts in session.\n"
     ]
    }
   ],
   "source": [
    "# Get the csv file created in the cleaning notebook\n",
    "file = os.path.join('..', 'data', 'astro_intermediate.csv')\n",
    "df = pd.read_csv(file, index_col=0)\n",
    "\n",
    "# Set variables for testing speed\n",
    "docs_to_run = len(df)  # 1000 for testing, len(df) for real processing\n",
    "train_docs = int(0.9 * docs_to_run)  # 90% training, 10% test\n",
    "test_docs = docs_to_run - train_docs\n",
    "print('Setting up to train on', train_docs, 'abstracts.')\n",
    "print('Setting up test block of', test_docs, 'abstracts.')\n",
    "print('Total', docs_to_run, 'abstracts in session.')"
   ]
  },
  {
   "cell_type": "code",
   "execution_count": 4,
   "metadata": {},
   "outputs": [
    {
     "name": "stdout",
     "output_type": "stream",
     "text": [
      "Wall time: 1h 35min 6s\n"
     ]
    }
   ],
   "source": [
    "%%time\n",
    "\n",
    "# Don't remove stopwords at this point.  Do that at the modeling stage with the model's \n",
    "# built-ins.\n",
    "\n",
    "# Clean the file (remove punctuation, lowercase, lemmatize, remove 1- and 2-char objects --\n",
    "# most are math/LaTeX formatting leftovers or possessives)\n",
    "text = [join_sentences(doc) for doc in nlp.pipe(normalize(df.abstract[:docs_to_run]), batch_size=1000)]"
   ]
  },
  {
   "cell_type": "code",
   "execution_count": 5,
   "metadata": {},
   "outputs": [
    {
     "name": "stdout",
     "output_type": "stream",
     "text": [
      "Sample abstract to demonstrate cleaning:\n",
      "\n",
      "['high resolution alma ghz and vla ghz measurement have be use image continuum and spectral line emission from the inner region the nearby infrared luminous galaxy detect compact luminous continuum emission the core with brightness temperature the ghz continuum equally compact but fainter flux suggest that the continuum opaque wavelength imply very large column density and that emerge from hot dust with temperature sim vibrationally excited line hcn and hcn vib be see emission and resolve scale the hcn vib emission reveal north south nuclear velocity gradient with projected rotation velocity kms the bright hcn vib emission orient perpendicular the velocity gradient ground state line hcn hco and show complex line absorption and emission feature hcn and hco have red shift reversed cygni profile consistent with gas inflow sim km the absorption feature can traced from the north east into the nucleus contrast show blue shift line wing extend km suggest that dense and slow outflow hide behind foreground layer inflow gas appear that the centre phase rapid evolution where inflow build the nuclear column density gas slow dense outflow may signal the onset feedback the inner luminosity can power accreting black hole and compact starburst with top heavy initial mass function']\n"
     ]
    }
   ],
   "source": [
    "print('Sample abstract to demonstrate cleaning:\\n')\n",
    "print(text[22:23])"
   ]
  },
  {
   "cell_type": "markdown",
   "metadata": {},
   "source": [
    "###  Now that the text has been prepared, it's time to choose a sample abstract from the set of abstracts that won't be used to train the model.  This is a proof-of-concept method for testing the recommendation engine that can be tested even with internet issues."
   ]
  },
  {
   "cell_type": "code",
   "execution_count": 6,
   "metadata": {
    "scrolled": false
   },
   "outputs": [
    {
     "name": "stdout",
     "output_type": "stream",
     "text": [
      "Modeling solar coronal bright point oscillations with multiple nanoflare   heated loops \n",
      "\n",
      "Intensity oscillations of coronal bright points (BPs) have been studied for past several years. It has been known for a while that these BPs are closed magnetic loop like structures. However, initiation of such intensity oscillations is still an enigma. There have been many suggestions to explain these oscillations, but modeling of such BPs have not been explored so far. Using a multithreaded nanoflare heated loop model we study the behavior of such BPs in this work. We compute typical loop lengths of BPs using potential field line extrapolation of available data (Chandrashekhar et al. 2013), and set this as the length of our simulated loops. We produce intensity like observables through forward modeling and analyze the intensity time series using wavelet analysis, as was done by previous observers. The result reveals similar intensity oscillation periods reported in past observations. It is suggested these oscillations are actually shock wave propagations along the loop. We also show that if one considers different background subtractions, one can extract adiabatic standing modes from the intensity time series data as well, both from the observed and simulated data. \n",
      "\n",
      "astro-ph.SR\n"
     ]
    }
   ],
   "source": [
    "# Pick an article to function as the sample and print some attributes.  \n",
    "# Abstract is unaltered from download (more human-readable but includes formatting).\n",
    "article_idx = np.random.randint(0, test_docs)\n",
    "print(df.title.iloc[(article_idx + train_docs)], '\\n')\n",
    "print(df.abstract.iloc[(article_idx + train_docs)], '\\n')\n",
    "print(df.terms.iloc[(article_idx + train_docs)])"
   ]
  },
  {
   "cell_type": "code",
   "execution_count": 7,
   "metadata": {},
   "outputs": [
    {
     "data": {
      "text/plain": [
       "['intensity oscillation coronal bright point bp have be study for past several year have be know for while that these bp be close magnetic loop like structure however initiation such intensity oscillation still enigma there have be many suggestion explain these oscillation but model such bp have not be explore far use multithread nanoflare heated loop model study the behavior such bp this work compute typical loop length bp use potential field line extrapolation available datum chandrashekhar and set this the length our simulate loop produce intensity like observable through forward modeling and analyze the intensity time series use wavelet analysis be do previous observer the result reveal similar intensity oscillation period report past observation suggest these oscillation be actually shock wave propagation along the loop also show that one consider different background subtraction one can extract adiabatic standing mode from the intensity time series datum well both from the observed and simulate datum']"
      ]
     },
     "execution_count": 7,
     "metadata": {},
     "output_type": "execute_result"
    }
   ],
   "source": [
    "text[article_idx+train_docs:article_idx+train_docs+1]"
   ]
  },
  {
   "cell_type": "markdown",
   "metadata": {},
   "source": [
    "### Model: tfidf using sklearn"
   ]
  },
  {
   "cell_type": "code",
   "execution_count": 8,
   "metadata": {},
   "outputs": [
    {
     "name": "stdout",
     "output_type": "stream",
     "text": [
      "Wall time: 7min\n"
     ]
    }
   ],
   "source": [
    "%%time\n",
    "\n",
    "# Set up the model for vectorizing/calculating the similarity; words must appear \n",
    "# in at least 500 documents.  sklearn stopwords are used, as removing stopwords at\n",
    "# the beginning proved to damage the ngram results.  \n",
    "tfidf = TfidfVectorizer(ngram_range=(1,5), min_df=0.01, stop_words='english')\n",
    "\n",
    "# Transform/fit the training and test data to the model\n",
    "tfidf_matrix = tfidf.fit_transform(text[:train_docs]).todense()\n",
    "article_matrix = tfidf.transform(text[train_docs:]).todense()\n",
    "\n",
    "# Create a df of the model's values\n",
    "tfidf_df = pd.DataFrame(tfidf_matrix, columns=tfidf.get_feature_names())\n",
    "article_df = pd.DataFrame(article_matrix, columns=tfidf.get_feature_names())"
   ]
  },
  {
   "cell_type": "code",
   "execution_count": 9,
   "metadata": {},
   "outputs": [
    {
     "name": "stdout",
     "output_type": "stream",
     "text": [
      "Training vocabulary: 1673\n"
     ]
    }
   ],
   "source": [
    "print('Training vocabulary:', len(tfidf.get_feature_names()))"
   ]
  },
  {
   "cell_type": "code",
   "execution_count": 10,
   "metadata": {},
   "outputs": [
    {
     "data": {
      "text/plain": [
       "continuum         0.280843\n",
       "emission          0.272353\n",
       "line              0.237815\n",
       "ghz               0.229133\n",
       "compact           0.201455\n",
       "north             0.188428\n",
       "column density    0.166471\n",
       "shift             0.160873\n",
       "column            0.160774\n",
       "gradient          0.160358\n",
       "Name: 22, dtype: float64"
      ]
     },
     "execution_count": 10,
     "metadata": {},
     "output_type": "execute_result"
    }
   ],
   "source": [
    "# Check the top features of an abstract from the dataset\n",
    "top_features = tfidf_df.iloc[22]\n",
    "top_features.sort_values(ascending=False)[:10]"
   ]
  },
  {
   "cell_type": "markdown",
   "metadata": {},
   "source": [
    "#### Finding recommendations from tfidf and cosine similarity, using the sample abstract above."
   ]
  },
  {
   "cell_type": "code",
   "execution_count": 11,
   "metadata": {},
   "outputs": [
    {
     "data": {
      "text/plain": [
       "array([28895, 48132, 13338, 19700, 31466, 38146], dtype=int64)"
      ]
     },
     "execution_count": 11,
     "metadata": {},
     "output_type": "execute_result"
    }
   ],
   "source": [
    "# Compute the document similarities with sklearn linear_kernel.  Per sklearn,\n",
    "# linear_kernal is faster than cosine_similarity for tfidf.\n",
    "document_similarity = linear_kernel(article_df.iloc[article_idx:article_idx+1], tfidf_df).flatten()\n",
    "\n",
    "# Get the indices for the documents that have highest cosine similarity to the sample.\n",
    "related_indices = document_similarity.argsort()[:-7:-1]\n",
    "related_indices"
   ]
  },
  {
   "cell_type": "code",
   "execution_count": 12,
   "metadata": {},
   "outputs": [
    {
     "data": {
      "text/html": [
       "<div>\n",
       "<style scoped>\n",
       "    .dataframe tbody tr th:only-of-type {\n",
       "        vertical-align: middle;\n",
       "    }\n",
       "\n",
       "    .dataframe tbody tr th {\n",
       "        vertical-align: top;\n",
       "    }\n",
       "\n",
       "    .dataframe thead th {\n",
       "        text-align: right;\n",
       "    }\n",
       "</style>\n",
       "<table border=\"1\" class=\"dataframe\">\n",
       "  <thead>\n",
       "    <tr style=\"text-align: right;\">\n",
       "      <th></th>\n",
       "      <th>abstract</th>\n",
       "      <th>title</th>\n",
       "      <th>terms</th>\n",
       "      <th>document_similarity</th>\n",
       "    </tr>\n",
       "  </thead>\n",
       "  <tbody>\n",
       "    <tr>\n",
       "      <th>28895</th>\n",
       "      <td>We observe intensity oscillations along corona...</td>\n",
       "      <td>First Imaging Observation of Standing Slow Wav...</td>\n",
       "      <td>astro-ph.SR</td>\n",
       "      <td>0.569600</td>\n",
       "    </tr>\n",
       "    <tr>\n",
       "      <th>48132</th>\n",
       "      <td>An observation from the Interface Region Imagi...</td>\n",
       "      <td>Global sausage oscillation of solar flare loop...</td>\n",
       "      <td>astro-ph.SR</td>\n",
       "      <td>0.543786</td>\n",
       "    </tr>\n",
       "    <tr>\n",
       "      <th>13338</th>\n",
       "      <td>Recent developments in the observation and mod...</td>\n",
       "      <td>Evolution of the transverse density structure ...</td>\n",
       "      <td>astro-ph.SR</td>\n",
       "      <td>0.524391</td>\n",
       "    </tr>\n",
       "    <tr>\n",
       "      <th>19700</th>\n",
       "      <td>Coronal loops exist ubiquitously in the solar ...</td>\n",
       "      <td>Period Increase and Amplitude Distribution of ...</td>\n",
       "      <td>astro-ph.SR</td>\n",
       "      <td>0.493516</td>\n",
       "    </tr>\n",
       "    <tr>\n",
       "      <th>31466</th>\n",
       "      <td>The analysis of a hot loop oscillation event u...</td>\n",
       "      <td>Slow-Mode Oscillations of Hot Loops Excited at...</td>\n",
       "      <td>astro-ph.SR</td>\n",
       "      <td>0.483658</td>\n",
       "    </tr>\n",
       "    <tr>\n",
       "      <th>38146</th>\n",
       "      <td>Context. The dynamics of the flaring loops in ...</td>\n",
       "      <td>Quasi-oscillatory dynamics observed in ascendi...</td>\n",
       "      <td>astro-ph.SR|astro-ph.IM|physics.data-an|physic...</td>\n",
       "      <td>0.479122</td>\n",
       "    </tr>\n",
       "  </tbody>\n",
       "</table>\n",
       "</div>"
      ],
      "text/plain": [
       "                                                abstract  \\\n",
       "28895  We observe intensity oscillations along corona...   \n",
       "48132  An observation from the Interface Region Imagi...   \n",
       "13338  Recent developments in the observation and mod...   \n",
       "19700  Coronal loops exist ubiquitously in the solar ...   \n",
       "31466  The analysis of a hot loop oscillation event u...   \n",
       "38146  Context. The dynamics of the flaring loops in ...   \n",
       "\n",
       "                                                   title  \\\n",
       "28895  First Imaging Observation of Standing Slow Wav...   \n",
       "48132  Global sausage oscillation of solar flare loop...   \n",
       "13338  Evolution of the transverse density structure ...   \n",
       "19700  Period Increase and Amplitude Distribution of ...   \n",
       "31466  Slow-Mode Oscillations of Hot Loops Excited at...   \n",
       "38146  Quasi-oscillatory dynamics observed in ascendi...   \n",
       "\n",
       "                                                   terms  document_similarity  \n",
       "28895                                        astro-ph.SR             0.569600  \n",
       "48132                                        astro-ph.SR             0.543786  \n",
       "13338                                        astro-ph.SR             0.524391  \n",
       "19700                                        astro-ph.SR             0.493516  \n",
       "31466                                        astro-ph.SR             0.483658  \n",
       "38146  astro-ph.SR|astro-ph.IM|physics.data-an|physic...             0.479122  "
      ]
     },
     "execution_count": 12,
     "metadata": {},
     "output_type": "execute_result"
    }
   ],
   "source": [
    "# Create a df with the attributes of the similar documents\n",
    "related_abstracts = df[['abstract', 'title', 'terms']].iloc[related_indices]\n",
    "related_abstracts['document_similarity'] = document_similarity[related_indices]\n",
    "\n",
    "# Print out the most similar documents\n",
    "related_abstracts"
   ]
  },
  {
   "cell_type": "code",
   "execution_count": 13,
   "metadata": {},
   "outputs": [
    {
     "data": {
      "text/plain": [
       "intensity      0.479109\n",
       "loop           0.459913\n",
       "oscillation    0.394364\n",
       "time series    0.201368\n",
       "past           0.173105\n",
       "length         0.173020\n",
       "series         0.161585\n",
       "simulate       0.152786\n",
       "datum          0.125236\n",
       "like           0.120374\n",
       "Name: 5883, dtype: float64"
      ]
     },
     "execution_count": 13,
     "metadata": {},
     "output_type": "execute_result"
    }
   ],
   "source": [
    "# Get the features of the sample article\n",
    "sample_features = article_df.iloc[article_idx]\n",
    "sample_features.sort_values(ascending=False)[:10]"
   ]
  },
  {
   "cell_type": "code",
   "execution_count": 14,
   "metadata": {},
   "outputs": [
    {
     "data": {
      "text/plain": [
       "oscillation      0.498137\n",
       "loop             0.497944\n",
       "wave             0.227356\n",
       "intensity        0.216136\n",
       "phase            0.208189\n",
       "active region    0.180443\n",
       "coronal          0.158171\n",
       "slow             0.147638\n",
       "flare            0.144144\n",
       "speed            0.143567\n",
       "Name: 28895, dtype: float64"
      ]
     },
     "execution_count": 14,
     "metadata": {},
     "output_type": "execute_result"
    }
   ],
   "source": [
    "# Get the features for the highest-ranked related article\n",
    "related_features = tfidf_df.iloc[related_indices[0]]\n",
    "related_features.sort_values(ascending=False)[:10]"
   ]
  },
  {
   "cell_type": "code",
   "execution_count": 15,
   "metadata": {},
   "outputs": [
    {
     "name": "stdout",
     "output_type": "stream",
     "text": [
      "First Imaging Observation of Standing Slow Wave in Coronal Fan loops \n",
      "\n",
      "We observe intensity oscillations along coronal fan loops associated with the active region AR 11428. The intensity oscillations were triggered by blast waves which were generated due to X-class flares in the distant active region AR 11429. To characterise the nature of oscillations, we created time-distance maps along the fan loops and noted that the intensity oscillations at two ends of the loops were out of phase. As we move along the fan loop, the amplitude of the oscillations first decreased and then increased. The out-of-phase nature together with the amplitude variation along the loop implies that these oscillations are very likely to be standing waves. The period of the oscillations are estimated to be $\\sim$27 min, damping time to be $\\sim$45 min and phase velocity projected in the plane of sky $\\sim$ 65-83 km s$^{-1}$. The projected phase speeds were in the range of acoustic speed of coronal plasma at about 0.6 MK which further indicates that these are slow waves. To best of our knowledge, this is the first report on the existence of the standing slow waves in non-flaring fan loops. \n",
      "\n",
      "astro-ph.SR\n"
     ]
    }
   ],
   "source": [
    "# Get the abstract for the highest-ranked related article\n",
    "# Abstract is unaltered from download (more human-readable but includes formatting).\n",
    "print(df.title[related_indices[0]], '\\n')\n",
    "print(df.abstract[related_indices[0]], '\\n')\n",
    "print(df.terms[related_indices[0]])"
   ]
  }
 ],
 "metadata": {
  "kernelspec": {
   "display_name": "Python 3",
   "language": "python",
   "name": "python3"
  },
  "language_info": {
   "codemirror_mode": {
    "name": "ipython",
    "version": 3
   },
   "file_extension": ".py",
   "mimetype": "text/x-python",
   "name": "python",
   "nbconvert_exporter": "python",
   "pygments_lexer": "ipython3",
   "version": "3.7.2"
  }
 },
 "nbformat": 4,
 "nbformat_minor": 2
}

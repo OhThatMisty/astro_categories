{
 "cells": [
  {
   "cell_type": "markdown",
   "metadata": {},
   "source": [
    "# 'Recommendation of similar articles from journal abstract analysis'  \n",
    "# Modeling for recommendation creation\n",
    "## 2019, Misty M. Giles\n",
    "### https://github.com/OhThatMisty/astro_categories/"
   ]
  },
  {
   "cell_type": "code",
   "execution_count": 1,
   "metadata": {},
   "outputs": [
    {
     "name": "stderr",
     "output_type": "stream",
     "text": [
      "C:\\Users\\Misty\\Anaconda3\\lib\\site-packages\\smart_open\\ssh.py:34: UserWarning: paramiko missing, opening SSH/SCP/SFTP paths will be disabled.  `pip install paramiko` to suppress\n",
      "  warnings.warn('paramiko missing, opening SSH/SCP/SFTP paths will be disabled.  `pip install paramiko` to suppress')\n",
      "C:\\Users\\Misty\\Anaconda3\\lib\\site-packages\\gensim\\utils.py:1197: UserWarning: detected Windows; aliasing chunkize to chunkize_serial\n",
      "  warnings.warn(\"detected Windows; aliasing chunkize to chunkize_serial\")\n"
     ]
    }
   ],
   "source": [
    "%matplotlib inline\n",
    "\n",
    "from gensim.parsing.preprocessing import remove_stopwords, strip_punctuation, strip_short\n",
    "import matplotlib.pyplot as plt\n",
    "import numpy as np\n",
    "import os\n",
    "import pandas as pd\n",
    "import re\n",
    "import seaborn as sns\n",
    "from sklearn.feature_extraction.text import TfidfVectorizer\n",
    "from sklearn.metrics.pairwise import linear_kernel\n",
    "import spacy\n",
    "import unicodedata\n",
    "\n",
    "plt.style.use('fivethirtyeight')"
   ]
  },
  {
   "cell_type": "code",
   "execution_count": 2,
   "metadata": {},
   "outputs": [],
   "source": [
    "def normalize(text):\n",
    "    '''Convert to ascii, remove special characters associated with LaTeX when given a df column,\n",
    "       only keep alpha chars'''\n",
    "    normalized_text = []\n",
    "    \n",
    "    for t in text:\n",
    "        t = unicodedata.normalize('NFKD', t).encode('ascii', 'ignore').decode('utf-8', 'ignore').lower()\n",
    "        # This pair is necessary to separate some words because of the LaTeX/mathtext formatting \n",
    "        t = re.sub('mathrm|gtrsim|lesssim|odot|langle', ' ', t)\n",
    "        t = re.sub('rangle|rm off|\\\\\\\\\\S*|\\$\\S*\\$|\\set[\\. ]+al[\\. ]+', ' ', t) \n",
    "        # Collapse terms like x-ray that are disappearing\n",
    "        t = re.sub(r'\\bx-\\b', 'x_', t)\n",
    "        # Remove everthing but alpha, underscores\n",
    "        t = re.sub('[^a-zA-Z_]+', ' ', remove_stopwords(t))\n",
    "        # strip_short gets rid of the rest of the math leftovers\n",
    "        normalized_text.append(strip_short(t, minsize=2))\n",
    "    return normalized_text\n",
    "\n",
    "# This function is to remove excess whitespace \n",
    "def remove(token):\n",
    "    '''Provide feedback on whether a token is excess whitespace'''\n",
    "    return token.is_space or token.is_digit\n",
    "\n",
    "# This function ensures that all printouts use the same formula\n",
    "def join_tokens(sent):\n",
    "    '''Joins tokens in a sent without whatever is in remove(), adds pronoun back\n",
    "       in instead of -PRON-'''\n",
    "    return ' '.join([token.lemma_ if token.lemma_ != '-PRON-' else token.text.lower()\n",
    "                     for token in sent if not remove(token)])\n",
    "\n",
    "# This function prevents nested lists that kill the vectorizer\n",
    "def join_sentences(doc):\n",
    "    '''Joins sentences in a doc (includes join_tokens)'''\n",
    "    return ' '.join([join_tokens(sent) for sent in doc.sents])\n",
    "\n",
    "# Set up spacy to lemmatize the text\n",
    "nlp = spacy.load('en', disable=['ner'])"
   ]
  },
  {
   "cell_type": "markdown",
   "metadata": {},
   "source": [
    "###  Change the \"docs_to_run\" variable in this box to reflect testing/full run."
   ]
  },
  {
   "cell_type": "code",
   "execution_count": 3,
   "metadata": {
    "scrolled": true
   },
   "outputs": [
    {
     "name": "stdout",
     "output_type": "stream",
     "text": [
      "Setting up to train on 58772 abstracts.\n",
      "Setting up test block of 1200 abstracts.\n",
      "Total 59972 abstracts in session.\n"
     ]
    }
   ],
   "source": [
    "# Get the csv file created in the cleaning notebook\n",
    "file = os.path.join('..', 'data', 'astro_intermediate.csv')\n",
    "df = pd.read_csv(file, index_col=0)\n",
    "# Shuffle the df so that all times available are represented in both test and train\n",
    "df = df.sample(frac=1).reset_index(drop=True)\n",
    "\n",
    "# Set variables for testing speed\n",
    "docs_to_run = len(df)  # 1000 for testing, len(df) for real processing\n",
    "train_docs = int(0.98 * docs_to_run)  # 98% training, 2% test\n",
    "test_docs = docs_to_run - train_docs\n",
    "print('Setting up to train on', train_docs, 'abstracts.')\n",
    "print('Setting up test block of', test_docs, 'abstracts.')\n",
    "print('Total', docs_to_run, 'abstracts in session.')\n",
    "\n",
    "# Set up the sentences_file needed in later steps\n",
    "sentences_file = os.path.join('..', 'data', 'astro_normalized_premodel.txt')"
   ]
  },
  {
   "cell_type": "markdown",
   "metadata": {},
   "source": [
    "### For the next three boxes (4, 5, 6):  Box 4 will take quite awhile to run.  Box 5 writes the result of box 4 to a text file.  Box 6 will stream the text file back into the notebook or recreate the variable \"text\" that can be used in the rest of the notebook without any more changes.  Box 6 will need to be altered depending on your purpose. "
   ]
  },
  {
   "cell_type": "code",
   "execution_count": 4,
   "metadata": {},
   "outputs": [
    {
     "name": "stdout",
     "output_type": "stream",
     "text": [
      "Wall time: 56min 20s\n"
     ]
    }
   ],
   "source": [
    "%%time\n",
    "\n",
    "# This is the long box - 1h on quad-core, 8G RAM machine.  If you already have the sentences_file\n",
    "# saved, you can ignore these two boxes and make any alterations you need to in the following box.\n",
    "\n",
    "# Clean the file (remove punctuation, lowercase, lemmatize, remove 1-char objects --\n",
    "# most are math/LaTeX formatting leftovers or possessives)\n",
    "text = [join_sentences(doc) for doc in nlp.pipe(normalize(df.abstract[:docs_to_run]), batch_size=50)]"
   ]
  },
  {
   "cell_type": "code",
   "execution_count": 5,
   "metadata": {},
   "outputs": [],
   "source": [
    "# Ignore this box if using the sentences_file from GitHub.\n",
    "\n",
    "# Create a filepath and write out the sentences, removing stopwords to save space on GitHub.\n",
    "with open(sentences_file, 'w') as out_file:\n",
    "     for sent in text:\n",
    "            out_file.write(remove_stopwords(sent) + '\\n')"
   ]
  },
  {
   "cell_type": "code",
   "execution_count": 6,
   "metadata": {},
   "outputs": [],
   "source": [
    "# This is the box where you might need some edits if using the sentences_file.  If you are, \n",
    "# results might slightly vary.\n",
    "\n",
    "# Code for printing out an article from the text file to test it.  Can be used to stream\n",
    "# if you use the iterator method.\n",
    "\n",
    "# Iterator method (uncomment all three lines):\n",
    "#sentences = open(sentences_file, 'r')\n",
    "#for i, line in enumerate(sentences):\n",
    "#    if i == 10980: print(line)\n",
    "        \n",
    "# Recreate the variable \"text\" (uncomment 1st, 2nd, 4th):\n",
    "#with open(sentences_file, 'r') as in_file:\n",
    "#    text = list(in_file)\n",
    "# Test that \"text\" recreated appropriately (printout should be a list with string: ['lots of words'])\n",
    "#text[10980:10981]"
   ]
  },
  {
   "cell_type": "code",
   "execution_count": 7,
   "metadata": {},
   "outputs": [
    {
     "name": "stdout",
     "output_type": "stream",
     "text": [
      "Sample abstract to demonstrate cleaning (or verify good import):\n",
      "\n",
      "['analyze inspiral dynamic equal mass precess black hole binari multi timescale technique orbit average post newtonian evolutionary equation admit constant motion equal mass limit magnitude total spin effective spin feature make entire dynamic qualitatively different compare generic unequal mass case constant variable parametriz precession dynamic fix individual mass spin magnitude equal mass black hole inspiral uniquely characterize parameter number completely determine entire evolution effect radiation reaction particular equal mass binary black hole binary spin morphology constant inspiral ii precessional motion black hole spin total spin take place long timescale precession total spin orbital plane total angular momentum']\n"
     ]
    }
   ],
   "source": [
    "print('Sample abstract to demonstrate cleaning (or verify good import):\\n')\n",
    "print(text[0:1])"
   ]
  },
  {
   "cell_type": "markdown",
   "metadata": {},
   "source": [
    "### Model: tfidf using sklearn"
   ]
  },
  {
   "cell_type": "code",
   "execution_count": 8,
   "metadata": {},
   "outputs": [
    {
     "name": "stdout",
     "output_type": "stream",
     "text": [
      "Wall time: 1min 30s\n"
     ]
    }
   ],
   "source": [
    "%%time\n",
    "\n",
    "# Set up the model for vectorizing/calculating the similarity; words must appear \n",
    "# in at least 400 documents.   \n",
    "tfidf = TfidfVectorizer(ngram_range=(1,3), min_df=400)\n",
    "\n",
    "# Transform/fit the training and test data to the model\n",
    "tfidf_matrix = tfidf.fit_transform(text[:train_docs]).todense()\n",
    "article_matrix = tfidf.transform(text[train_docs:]).todense()\n",
    "\n",
    "# Create a df of the model's values\n",
    "tfidf_df = pd.DataFrame(tfidf_matrix, columns=tfidf.get_feature_names())\n",
    "article_df = pd.DataFrame(article_matrix, columns=tfidf.get_feature_names())"
   ]
  },
  {
   "cell_type": "code",
   "execution_count": 9,
   "metadata": {
    "scrolled": true
   },
   "outputs": [
    {
     "name": "stdout",
     "output_type": "stream",
     "text": [
      "Training vocabulary: 2288\n",
      "Stopwords: 7041547\n"
     ]
    }
   ],
   "source": [
    "print('Training vocabulary:', len(tfidf.get_feature_names()))\n",
    "print('Stopwords:', len(tfidf.stop_words_))"
   ]
  },
  {
   "cell_type": "code",
   "execution_count": 10,
   "metadata": {},
   "outputs": [],
   "source": [
    "# Remove the stopwords to free up some memory\n",
    "delattr(tfidf, 'stop_words_')"
   ]
  },
  {
   "cell_type": "markdown",
   "metadata": {},
   "source": [
    "###  Now that the model has been prepared, it's time to choose a sample abstract from the test set.  This is a proof-of-concept method for a recommendation engine that suggests articles based on the abstract you're reading.  As it's proof-of-concept, the abstract will be randomly chosen for you from the test abstracts.  (Abstract and highest-rated related abstract shown at bottom of notebook.)"
   ]
  },
  {
   "cell_type": "code",
   "execution_count": 46,
   "metadata": {
    "scrolled": false
   },
   "outputs": [],
   "source": [
    "# Pick an article to function as the sample \n",
    "article_idx = np.random.randint(0, test_docs)\n",
    "\n",
    "# Uncomment the line below if you want to see the cleaned data from the new sample\n",
    "#text[article_idx+train_docs:article_idx+train_docs+1]"
   ]
  },
  {
   "cell_type": "markdown",
   "metadata": {},
   "source": [
    "#### Finding recommendations from tfidf and cosine similarity, using the sample abstract above."
   ]
  },
  {
   "cell_type": "code",
   "execution_count": 47,
   "metadata": {},
   "outputs": [
    {
     "data": {
      "text/plain": [
       "array([ 3982, 12773,  7627, 22505, 34568, 29099], dtype=int64)"
      ]
     },
     "execution_count": 47,
     "metadata": {},
     "output_type": "execute_result"
    }
   ],
   "source": [
    "# Compute the document similarities with sklearn linear_kernel.  Per sklearn,\n",
    "# linear_kernal is faster than cosine_similarity for tfidf.\n",
    "document_similarity = linear_kernel(article_df.iloc[article_idx:article_idx+1], tfidf_df).flatten()\n",
    "\n",
    "# Get the indices for the documents that have highest cosine similarity to the sample.\n",
    "related_indices = document_similarity.argsort()[:-7:-1]\n",
    "related_indices"
   ]
  },
  {
   "cell_type": "code",
   "execution_count": 48,
   "metadata": {},
   "outputs": [
    {
     "data": {
      "text/html": [
       "<div>\n",
       "<style scoped>\n",
       "    .dataframe tbody tr th:only-of-type {\n",
       "        vertical-align: middle;\n",
       "    }\n",
       "\n",
       "    .dataframe tbody tr th {\n",
       "        vertical-align: top;\n",
       "    }\n",
       "\n",
       "    .dataframe thead th {\n",
       "        text-align: right;\n",
       "    }\n",
       "</style>\n",
       "<table border=\"1\" class=\"dataframe\">\n",
       "  <thead>\n",
       "    <tr style=\"text-align: right;\">\n",
       "      <th></th>\n",
       "      <th>abstract</th>\n",
       "      <th>title</th>\n",
       "      <th>terms</th>\n",
       "      <th>document_similarity</th>\n",
       "    </tr>\n",
       "  </thead>\n",
       "  <tbody>\n",
       "    <tr>\n",
       "      <th>3982</th>\n",
       "      <td>Recent work indicates that the nearby Galactic...</td>\n",
       "      <td>The origin of accreted stellar halo population...</td>\n",
       "      <td>astro-ph.GA</td>\n",
       "      <td>0.586823</td>\n",
       "    </tr>\n",
       "    <tr>\n",
       "      <th>12773</th>\n",
       "      <td>Based on the [Fe/H] versus [Mg/Fe] diagram and...</td>\n",
       "      <td>A Hint of Three-section Halo as Seen from the ...</td>\n",
       "      <td>astro-ph.GA|astro-ph.SR</td>\n",
       "      <td>0.584911</td>\n",
       "    </tr>\n",
       "    <tr>\n",
       "      <th>7627</th>\n",
       "      <td>According to the current cosmological cold dar...</td>\n",
       "      <td>Are ancient dwarf satellites the building bloc...</td>\n",
       "      <td>astro-ph.GA</td>\n",
       "      <td>0.552120</td>\n",
       "    </tr>\n",
       "    <tr>\n",
       "      <th>22505</th>\n",
       "      <td>From exploratory studies and theoretical expec...</td>\n",
       "      <td>Non-local thermodynamic equilibrium stellar sp...</td>\n",
       "      <td>astro-ph.SR</td>\n",
       "      <td>0.543964</td>\n",
       "    </tr>\n",
       "    <tr>\n",
       "      <th>34568</th>\n",
       "      <td>We present the non-local thermodynamic equilib...</td>\n",
       "      <td>Influence of Inelastic Collisions with Hydroge...</td>\n",
       "      <td>astro-ph.SR</td>\n",
       "      <td>0.543791</td>\n",
       "    </tr>\n",
       "    <tr>\n",
       "      <th>29099</th>\n",
       "      <td>We explore the hypothesis that the classical a...</td>\n",
       "      <td>The connection between the Galactic halo and a...</td>\n",
       "      <td>astro-ph.GA</td>\n",
       "      <td>0.535392</td>\n",
       "    </tr>\n",
       "  </tbody>\n",
       "</table>\n",
       "</div>"
      ],
      "text/plain": [
       "                                                abstract  \\\n",
       "3982   Recent work indicates that the nearby Galactic...   \n",
       "12773  Based on the [Fe/H] versus [Mg/Fe] diagram and...   \n",
       "7627   According to the current cosmological cold dar...   \n",
       "22505  From exploratory studies and theoretical expec...   \n",
       "34568  We present the non-local thermodynamic equilib...   \n",
       "29099  We explore the hypothesis that the classical a...   \n",
       "\n",
       "                                                   title  \\\n",
       "3982   The origin of accreted stellar halo population...   \n",
       "12773  A Hint of Three-section Halo as Seen from the ...   \n",
       "7627   Are ancient dwarf satellites the building bloc...   \n",
       "22505  Non-local thermodynamic equilibrium stellar sp...   \n",
       "34568  Influence of Inelastic Collisions with Hydroge...   \n",
       "29099  The connection between the Galactic halo and a...   \n",
       "\n",
       "                         terms  document_similarity  \n",
       "3982               astro-ph.GA             0.586823  \n",
       "12773  astro-ph.GA|astro-ph.SR             0.584911  \n",
       "7627               astro-ph.GA             0.552120  \n",
       "22505              astro-ph.SR             0.543964  \n",
       "34568              astro-ph.SR             0.543791  \n",
       "29099              astro-ph.GA             0.535392  "
      ]
     },
     "execution_count": 48,
     "metadata": {},
     "output_type": "execute_result"
    }
   ],
   "source": [
    "# Create a df with the attributes of the similar documents\n",
    "related_abstracts = df[['abstract', 'title', 'terms']].iloc[related_indices]\n",
    "related_abstracts['document_similarity'] = document_similarity[related_indices]\n",
    "\n",
    "# Print out the most similar documents\n",
    "related_abstracts"
   ]
  },
  {
   "cell_type": "markdown",
   "metadata": {},
   "source": [
    "### How much does the first result have in common with the sample?  This table (sorted by feature importance of the sample article) shows how many and which of the top features match up."
   ]
  },
  {
   "cell_type": "code",
   "execution_count": 49,
   "metadata": {},
   "outputs": [
    {
     "data": {
      "text/html": [
       "<div>\n",
       "<style scoped>\n",
       "    .dataframe tbody tr th:only-of-type {\n",
       "        vertical-align: middle;\n",
       "    }\n",
       "\n",
       "    .dataframe tbody tr th {\n",
       "        vertical-align: top;\n",
       "    }\n",
       "\n",
       "    .dataframe thead th {\n",
       "        text-align: right;\n",
       "    }\n",
       "</style>\n",
       "<table border=\"1\" class=\"dataframe\">\n",
       "  <thead>\n",
       "    <tr style=\"text-align: right;\">\n",
       "      <th></th>\n",
       "      <th>feature</th>\n",
       "      <th>sample_importance</th>\n",
       "      <th>related_importance</th>\n",
       "    </tr>\n",
       "  </thead>\n",
       "  <tbody>\n",
       "    <tr>\n",
       "      <th>750</th>\n",
       "      <td>fe</td>\n",
       "      <td>0.596064</td>\n",
       "      <td>0.549699</td>\n",
       "    </tr>\n",
       "    <tr>\n",
       "      <th>1986</th>\n",
       "      <td>star</td>\n",
       "      <td>0.243527</td>\n",
       "      <td>0.205334</td>\n",
       "    </tr>\n",
       "    <tr>\n",
       "      <th>2163</th>\n",
       "      <td>trend</td>\n",
       "      <td>0.230708</td>\n",
       "      <td>0.056737</td>\n",
       "    </tr>\n",
       "    <tr>\n",
       "      <th>899</th>\n",
       "      <td>halo</td>\n",
       "      <td>0.189803</td>\n",
       "      <td>0.140031</td>\n",
       "    </tr>\n",
       "    <tr>\n",
       "      <th>1059</th>\n",
       "      <td>intermediate</td>\n",
       "      <td>0.149797</td>\n",
       "      <td>0.000000</td>\n",
       "    </tr>\n",
       "    <tr>\n",
       "      <th>1810</th>\n",
       "      <td>satellite</td>\n",
       "      <td>0.144294</td>\n",
       "      <td>0.106456</td>\n",
       "    </tr>\n",
       "    <tr>\n",
       "      <th>406</th>\n",
       "      <td>contribution</td>\n",
       "      <td>0.135340</td>\n",
       "      <td>0.000000</td>\n",
       "    </tr>\n",
       "    <tr>\n",
       "      <th>1430</th>\n",
       "      <td>observe</td>\n",
       "      <td>0.127721</td>\n",
       "      <td>0.031410</td>\n",
       "    </tr>\n",
       "    <tr>\n",
       "      <th>1471</th>\n",
       "      <td>origin</td>\n",
       "      <td>0.127427</td>\n",
       "      <td>0.000000</td>\n",
       "    </tr>\n",
       "    <tr>\n",
       "      <th>716</th>\n",
       "      <td>explore</td>\n",
       "      <td>0.126255</td>\n",
       "      <td>0.000000</td>\n",
       "    </tr>\n",
       "  </tbody>\n",
       "</table>\n",
       "</div>"
      ],
      "text/plain": [
       "           feature  sample_importance  related_importance\n",
       "750             fe           0.596064            0.549699\n",
       "1986          star           0.243527            0.205334\n",
       "2163         trend           0.230708            0.056737\n",
       "899           halo           0.189803            0.140031\n",
       "1059  intermediate           0.149797            0.000000\n",
       "1810     satellite           0.144294            0.106456\n",
       "406   contribution           0.135340            0.000000\n",
       "1430       observe           0.127721            0.031410\n",
       "1471        origin           0.127427            0.000000\n",
       "716        explore           0.126255            0.000000"
      ]
     },
     "execution_count": 49,
     "metadata": {},
     "output_type": "execute_result"
    }
   ],
   "source": [
    "# Get the features of the sample article\n",
    "sample_features = dict(article_df.iloc[article_idx])\n",
    "sample_features = pd.DataFrame.from_dict(sample_features, orient='index').reset_index()\n",
    "sample_features.columns = ['feature', 'sample_importance']\n",
    "# Get the features for the highest-ranked related article\n",
    "related_features = dict(tfidf_df.iloc[related_indices[0]])\n",
    "related_features = pd.DataFrame.from_dict(related_features, orient='index').reset_index()\n",
    "related_features.columns = ['feature', 'related_importance']\n",
    "# Concat dfs\n",
    "features_df = sample_features.merge(related_features, on='feature')\n",
    "features_df.loc[features_df.sample_importance > 0].sort_values(by='sample_importance', ascending=False)[:10]"
   ]
  },
  {
   "cell_type": "markdown",
   "metadata": {},
   "source": [
    "### But what features were most important for the highly ranked article?"
   ]
  },
  {
   "cell_type": "code",
   "execution_count": 50,
   "metadata": {},
   "outputs": [
    {
     "data": {
      "text/html": [
       "<div>\n",
       "<style scoped>\n",
       "    .dataframe tbody tr th:only-of-type {\n",
       "        vertical-align: middle;\n",
       "    }\n",
       "\n",
       "    .dataframe tbody tr th {\n",
       "        vertical-align: top;\n",
       "    }\n",
       "\n",
       "    .dataframe thead th {\n",
       "        text-align: right;\n",
       "    }\n",
       "</style>\n",
       "<table border=\"1\" class=\"dataframe\">\n",
       "  <thead>\n",
       "    <tr style=\"text-align: right;\">\n",
       "      <th></th>\n",
       "      <th>feature</th>\n",
       "      <th>related_importance</th>\n",
       "    </tr>\n",
       "  </thead>\n",
       "  <tbody>\n",
       "    <tr>\n",
       "      <th>750</th>\n",
       "      <td>fe</td>\n",
       "      <td>0.549699</td>\n",
       "    </tr>\n",
       "    <tr>\n",
       "      <th>1283</th>\n",
       "      <td>mg</td>\n",
       "      <td>0.269625</td>\n",
       "    </tr>\n",
       "    <tr>\n",
       "      <th>1986</th>\n",
       "      <td>star</td>\n",
       "      <td>0.205334</td>\n",
       "    </tr>\n",
       "    <tr>\n",
       "      <th>924</th>\n",
       "      <td>high</td>\n",
       "      <td>0.201642</td>\n",
       "    </tr>\n",
       "    <tr>\n",
       "      <th>19</th>\n",
       "      <td>accretion</td>\n",
       "      <td>0.175742</td>\n",
       "    </tr>\n",
       "  </tbody>\n",
       "</table>\n",
       "</div>"
      ],
      "text/plain": [
       "        feature  related_importance\n",
       "750          fe            0.549699\n",
       "1283         mg            0.269625\n",
       "1986       star            0.205334\n",
       "924        high            0.201642\n",
       "19    accretion            0.175742"
      ]
     },
     "execution_count": 50,
     "metadata": {},
     "output_type": "execute_result"
    }
   ],
   "source": [
    "related_features.sort_values(by='related_importance', ascending=False)[:5]"
   ]
  },
  {
   "cell_type": "markdown",
   "metadata": {},
   "source": [
    "##### Here are the full, unaltered abstracts from the sample and the highest-rated related article."
   ]
  },
  {
   "cell_type": "code",
   "execution_count": 51,
   "metadata": {},
   "outputs": [
    {
     "name": "stdout",
     "output_type": "stream",
     "text": [
      "ABSTRACT TO MATCH: \n",
      " http://arxiv.org/abs/1809.02368v2 \n",
      "\n",
      "The assembly history of the Galactic inner halo inferred from   alpha-patterns \n",
      "\n",
      "We explore the origin of the observed decline in [O/Fe] (and [Mg/Fe]) with Galactocentric distance for high-metallicity stars ([Fe/H] > -1.1), based on a sample of halo stars selected within the Apache Point Observatory Galactic Evolution Experiment (APOGEE) fourteenth data release (DR14). We also analyse the characteristics of the [$\\alpha$/Fe] distributions in the inner-halo regions inferred from two zoom-in Milky Way mass-sized galaxies that are taken as case studies. One of them qualitatively reproduces the observed trend to have higher fraction of $\\alpha$-rich star for decreasing galactocentric distance; the other exhibits the opposite trend. We find that stars with [Fe/H] > -1.1 located in the range [15 - 30] kpc are consistent with formation in two starbursts, with maxima separated by about ~ 1 Gyr. We explore the contributions of stellar populations with different origin to the [$\\alpha$/Fe] gradients detected in stars with [Fe/H] > -1.1. Our analysis reveals that the simulated halo that best matches the observed chemical trends is characterised by an accretion history involving low to intermediate-mass satellite galaxies with a short and intense burst of star formation, and contributions from a more massive satellite with dynamical masses about ~ 10$^{10}$M$_{\\odot}$, distributing low-[$\\alpha$/Fe] stars at intermediate radius. \n",
      "\n",
      "astro-ph.GA\n"
     ]
    }
   ],
   "source": [
    "# Get the abstract for the sample article\n",
    "# Abstract is unaltered from download (more human-readable but includes formatting).\n",
    "print('ABSTRACT TO MATCH: \\n', df.url.iloc[(article_idx + train_docs)], '\\n')\n",
    "print(df.title.iloc[(article_idx + train_docs)], '\\n')\n",
    "print(df.abstract.iloc[(article_idx + train_docs)], '\\n')\n",
    "print(df.terms.iloc[(article_idx + train_docs)])"
   ]
  },
  {
   "cell_type": "code",
   "execution_count": 52,
   "metadata": {},
   "outputs": [
    {
     "name": "stdout",
     "output_type": "stream",
     "text": [
      "HIGHEST-RATED MATCH \n",
      " http://arxiv.org/abs/1808.00968v2 \n",
      "\n",
      "The origin of accreted stellar halo populations in the Milky Way using   APOGEE, $\\textit{Gaia}$, and the EAGLE simulations \n",
      "\n",
      "Recent work indicates that the nearby Galactic halo is dominated by the debris from a major accretion event. We confirm that result from an analysis of APOGEE-DR14 element abundances and $\\textit{Gaia}$-DR2 kinematics of halo stars. We show that $\\sim$2/3 of nearby halo stars have high orbital eccentricities ($e \\gtrsim 0.8$), and abundance patterns typical of massive Milky Way dwarf galaxy satellites today, characterised by relatively low [Fe/H], [Mg/Fe], [Al/Fe], and [Ni/Fe]. The trend followed by high $e$ stars in the [Mg/Fe]-[Fe/H] plane shows a change of slope at [Fe/H]$\\sim-1.3$, which is also typical of stellar populations from relatively massive dwarf galaxies. Low $e$ stars exhibit no such change of slope within the observed [Fe/H] range and show slightly higher abundances of Mg, Al and Ni. Unlike their low $e$ counterparts, high $e$ stars show slightly retrograde motion, make higher vertical excursions and reach larger apocentre radii. By comparing the position in [Mg/Fe]-[Fe/H] space of high $e$ stars with those of accreted galaxies from the EAGLE suite of cosmological simulations we constrain the mass of the accreted satellite to be in the range $10^{8.5}\\lesssim M_*\\lesssim 10^{9}\\mathrm{M_\\odot}$. We show that the median orbital eccentricities of debris are largely unchanged since merger time, implying that this accretion event likely happened at $z\\lesssim1.5$. The exact nature of the low $e$ population is unclear, but we hypothesise that it is a combination of $\\textit{in situ}$ star formation, high $|z|$ disc stars, lower mass accretion events, and contamination by the low $e$ tail of the high $e$ population. Finally, our results imply that the accretion history of the Milky Way was quite unusual. \n",
      "\n",
      "astro-ph.GA\n"
     ]
    }
   ],
   "source": [
    "# Get the abstract for the highest-ranked related article\n",
    "# Abstract is unaltered from download (more human-readable but includes formatting).\n",
    "print('HIGHEST-RATED MATCH \\n', df.url.iloc[related_indices[0]], '\\n')\n",
    "print(df.title[related_indices[0]], '\\n')\n",
    "print(df.abstract[related_indices[0]], '\\n')\n",
    "print(df.terms[related_indices[0]])"
   ]
  },
  {
   "cell_type": "markdown",
   "metadata": {},
   "source": [
    "### Now plots."
   ]
  },
  {
   "cell_type": "code",
   "execution_count": 81,
   "metadata": {},
   "outputs": [
    {
     "data": {
      "image/png": "[encoded data removed]",
      "text/plain": [
       "<Figure size 864x576 with 1 Axes>"
      ]
     },
     "metadata": {
      "needs_background": "light"
     },
     "output_type": "display_data"
    }
   ],
   "source": [
    "data = features_df.loc[features_df.sample_importance > 0].sort_values(by='sample_importance', ascending=False)[:10]\n",
    "tidy = data.melt(id_vars='feature').rename(columns=str.lower)\n",
    "tidy.columns = ['feature', 'importance', 'value']\n",
    "_ = plt.figure(figsize=(12,8))\n",
    "_ = sns.barplot(x='value', y='feature', hue='importance', data=tidy)\n",
    "_ = plt.xlabel('Importance')\n",
    "_ = plt.ylabel('Most important terms in sample')\n",
    "_ = plt.title('How do the important words in the abstracts compare?')\n",
    "_ = plt.xticks([0, .05, .1, .15, .2, .25, .3, .35, .])"
   ]
  }
 ],
 "metadata": {
  "kernelspec": {
   "display_name": "Python 3",
   "language": "python",
   "name": "python3"
  },
  "language_info": {
   "codemirror_mode": {
    "name": "ipython",
    "version": 3
   },
   "file_extension": ".py",
   "mimetype": "text/x-python",
   "name": "python",
   "nbconvert_exporter": "python",
   "pygments_lexer": "ipython3",
   "version": "3.7.2"
  }
 },
 "nbformat": 4,
 "nbformat_minor": 2
}
